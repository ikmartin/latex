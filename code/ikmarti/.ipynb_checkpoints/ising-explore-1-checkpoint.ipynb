{
 "cells": [
  {
   "cell_type": "code",
   "execution_count": null,
   "id": "be17dcf0",
   "metadata": {},
   "outputs": [],
   "source": [
    "# helper functions\n",
    "class Graph:\n",
    "    def __init__(self, s, h, J):\n",
    "        self.s = s\n",
    "        self.h = h\n",
    "        self.J = J"
   ]
  },
  {
   "cell_type": "code",
   "execution_count": null,
   "id": "20813599",
   "metadata": {},
   "outputs": [],
   "source": [
    "# make a ising graph\n",
    "s = []\n",
    "h = []\n",
    "J = []"
   ]
  }
 ],
 "metadata": {
  "kernelspec": {
   "display_name": "Python 3 (ipykernel)",
   "language": "python",
   "name": "python3"
  },
  "language_info": {
   "codemirror_mode": {
    "name": "ipython",
    "version": 3
   },
   "file_extension": ".py",
   "mimetype": "text/x-python",
   "name": "python",
   "nbconvert_exporter": "python",
   "pygments_lexer": "ipython3",
   "version": "3.10.4"
  }
 },
 "nbformat": 4,
 "nbformat_minor": 5
}
