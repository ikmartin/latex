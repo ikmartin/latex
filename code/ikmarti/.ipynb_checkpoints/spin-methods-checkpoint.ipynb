{
 "cells": [
  {
   "cell_type": "code",
   "execution_count": 46,
   "id": "d4bc6ef4-387e-4434-a3e5-3a571c9637f5",
   "metadata": {},
   "outputs": [],
   "source": [
    "# modules\n",
    "import numpy as np\n",
    "import itertools # for Cartesian product\n",
    "from tabulate import tabulate # print(tabulate(data, headers=[\"Thing1\", \"Thing2\", \"Thing3\"]))\n",
    "\n",
    "# display stuff\n",
    "# Jupyter specific things\n",
    "from IPython.display import display,Math"
   ]
  },
  {
   "cell_type": "code",
   "execution_count": 152,
   "id": "1bda97aa-ddbb-4e84-9d40-2c7b093bb44c",
   "metadata": {},
   "outputs": [],
   "source": [
    "# give sign of rela number\n",
    "def signof(n: float):\n",
    "    if n == 0:\n",
    "        return \"0\"\n",
    "    else:\n",
    "        return \"+\" if n > 0 else \"-\"\n",
    "\n",
    "# given spin inequality return equivalent inequality on parameter space\n",
    "def spin_to_param(s,t, rel = \"<\",extra = False,debug=False):\n",
    "    out = \"0 \" + rel\n",
    "    d = {}\n",
    "    d['sign_count'] = 0\n",
    "    for i in range(len(s)):\n",
    "        out += \"\" if s[i] == t[i] else \" \" + signof(t[i]-s[i]) + \"h_{{{0}}}\".format(i+1)\n",
    "        d['sign_count'] += t[i] - s[i]\n",
    "    \n",
    "    for i in range(len(s)):\n",
    "        for j in range(i+1,len(s)):\n",
    "            out += \"\" if s[i]*s[j] == t[i]*t[j] else \" \" + signof(t[i]*t[j] - s[i]*s[j]) + \"J_{{{0},{1}}}\".format(i+1,j+1)\n",
    "            d['sign_count'] += t[i]*t[j] - s[i]*s[j]\n",
    "    \n",
    "    d['sign_count'] = int(d['sign_count']/2) # because we are adding +/- 2 each time\n",
    "    \n",
    "    if debug:\n",
    "        print(\"Spin Count: {}\".format(d['sign_count']))\n",
    "        \n",
    "    if extra:\n",
    "        return \"0 < 0\" if s == t else out, d\n",
    "    else:\n",
    "        return \"0 < 0\" if s == t else out"
   ]
  },
  {
   "cell_type": "code",
   "execution_count": 164,
   "id": "f1af5da7-8e13-47ed-a64f-e248ee80e64c",
   "metadata": {},
   "outputs": [
    {
     "data": {
      "text/latex": [
       "$\\displaystyle 0: (-1, -1, -1, -1, -1, -1, -1, -1) < (-1, -1, -1, -1, -1, -1, -1, -1)\\iff0 < 0$"
      ],
      "text/plain": [
       "<IPython.core.display.Math object>"
      ]
     },
     "metadata": {},
     "output_type": "display_data"
    },
    {
     "data": {
      "text/latex": [
       "$\\displaystyle 0: (-1, -1, -1, -1, -1, -1, -1, -1) < (-1, -1, -1, -1, -1, -1, -1, -1)\\iff0 < 0$"
      ],
      "text/plain": [
       "<IPython.core.display.Math object>"
      ]
     },
     "metadata": {},
     "output_type": "display_data"
    },
    {
     "data": {
      "text/latex": [
       "$\\displaystyle 1: (-1, -1, -1, -1, -1, -1, -1, -1) < (-1, -1, -1, -1, -1, -1, -1, 1)\\iff0 < +h_{8} -J_{1,8} -J_{2,8} -J_{3,8} -J_{4,8} -J_{5,8} -J_{6,8} -J_{7,8}$"
      ],
      "text/plain": [
       "<IPython.core.display.Math object>"
      ]
     },
     "metadata": {},
     "output_type": "display_data"
    },
    {
     "data": {
      "text/latex": [
       "$\\displaystyle 1: (-1, -1, -1, -1, -1, -1, -1, 1) < (-1, -1, -1, -1, -1, -1, -1, -1)\\iff0 < -h_{8} +J_{1,8} +J_{2,8} +J_{3,8} +J_{4,8} +J_{5,8} +J_{6,8} +J_{7,8}$"
      ],
      "text/plain": [
       "<IPython.core.display.Math object>"
      ]
     },
     "metadata": {},
     "output_type": "display_data"
    },
    {
     "data": {
      "text/latex": [
       "$\\displaystyle 2: (-1, -1, -1, -1, -1, -1, -1, -1) < (-1, -1, -1, -1, -1, -1, 1, -1)\\iff0 < +h_{7} -J_{1,7} -J_{2,7} -J_{3,7} -J_{4,7} -J_{5,7} -J_{6,7} -J_{7,8}$"
      ],
      "text/plain": [
       "<IPython.core.display.Math object>"
      ]
     },
     "metadata": {},
     "output_type": "display_data"
    },
    {
     "data": {
      "text/latex": [
       "$\\displaystyle 2: (-1, -1, -1, -1, -1, -1, 1, -1) < (-1, -1, -1, -1, -1, -1, -1, -1)\\iff0 < -h_{7} +J_{1,7} +J_{2,7} +J_{3,7} +J_{4,7} +J_{5,7} +J_{6,7} +J_{7,8}$"
      ],
      "text/plain": [
       "<IPython.core.display.Math object>"
      ]
     },
     "metadata": {},
     "output_type": "display_data"
    },
    {
     "data": {
      "text/latex": [
       "$\\displaystyle 3: (-1, -1, -1, -1, -1, -1, -1, -1) < (-1, -1, -1, -1, -1, -1, 1, 1)\\iff0 < +h_{7} +h_{8} -J_{1,7} -J_{1,8} -J_{2,7} -J_{2,8} -J_{3,7} -J_{3,8} -J_{4,7} -J_{4,8} -J_{5,7} -J_{5,8} -J_{6,7} -J_{6,8}$"
      ],
      "text/plain": [
       "<IPython.core.display.Math object>"
      ]
     },
     "metadata": {},
     "output_type": "display_data"
    },
    {
     "data": {
      "text/latex": [
       "$\\displaystyle 3: (-1, -1, -1, -1, -1, -1, 1, 1) < (-1, -1, -1, -1, -1, -1, -1, -1)\\iff0 < -h_{7} -h_{8} +J_{1,7} +J_{1,8} +J_{2,7} +J_{2,8} +J_{3,7} +J_{3,8} +J_{4,7} +J_{4,8} +J_{5,7} +J_{5,8} +J_{6,7} +J_{6,8}$"
      ],
      "text/plain": [
       "<IPython.core.display.Math object>"
      ]
     },
     "metadata": {},
     "output_type": "display_data"
    },
    {
     "data": {
      "text/latex": [
       "$\\displaystyle 4: (-1, -1, -1, -1, -1, -1, -1, -1) < (-1, -1, -1, -1, -1, 1, -1, -1)\\iff0 < +h_{6} -J_{1,6} -J_{2,6} -J_{3,6} -J_{4,6} -J_{5,6} -J_{6,7} -J_{6,8}$"
      ],
      "text/plain": [
       "<IPython.core.display.Math object>"
      ]
     },
     "metadata": {},
     "output_type": "display_data"
    },
    {
     "data": {
      "text/latex": [
       "$\\displaystyle 4: (-1, -1, -1, -1, -1, 1, -1, -1) < (-1, -1, -1, -1, -1, -1, -1, -1)\\iff0 < -h_{6} +J_{1,6} +J_{2,6} +J_{3,6} +J_{4,6} +J_{5,6} +J_{6,7} +J_{6,8}$"
      ],
      "text/plain": [
       "<IPython.core.display.Math object>"
      ]
     },
     "metadata": {},
     "output_type": "display_data"
    },
    {
     "data": {
      "text/latex": [
       "$\\displaystyle 5: (-1, -1, -1, -1, -1, -1, -1, -1) < (-1, -1, -1, -1, -1, 1, -1, 1)\\iff0 < +h_{6} +h_{8} -J_{1,6} -J_{1,8} -J_{2,6} -J_{2,8} -J_{3,6} -J_{3,8} -J_{4,6} -J_{4,8} -J_{5,6} -J_{5,8} -J_{6,7} -J_{7,8}$"
      ],
      "text/plain": [
       "<IPython.core.display.Math object>"
      ]
     },
     "metadata": {},
     "output_type": "display_data"
    },
    {
     "data": {
      "text/latex": [
       "$\\displaystyle 5: (-1, -1, -1, -1, -1, 1, -1, 1) < (-1, -1, -1, -1, -1, -1, -1, -1)\\iff0 < -h_{6} -h_{8} +J_{1,6} +J_{1,8} +J_{2,6} +J_{2,8} +J_{3,6} +J_{3,8} +J_{4,6} +J_{4,8} +J_{5,6} +J_{5,8} +J_{6,7} +J_{7,8}$"
      ],
      "text/plain": [
       "<IPython.core.display.Math object>"
      ]
     },
     "metadata": {},
     "output_type": "display_data"
    },
    {
     "data": {
      "text/latex": [
       "$\\displaystyle 6: (-1, -1, -1, -1, -1, -1, -1, -1) < (-1, -1, -1, -1, -1, 1, 1, -1)\\iff0 < +h_{6} +h_{7} -J_{1,6} -J_{1,7} -J_{2,6} -J_{2,7} -J_{3,6} -J_{3,7} -J_{4,6} -J_{4,7} -J_{5,6} -J_{5,7} -J_{6,8} -J_{7,8}$"
      ],
      "text/plain": [
       "<IPython.core.display.Math object>"
      ]
     },
     "metadata": {},
     "output_type": "display_data"
    },
    {
     "data": {
      "text/latex": [
       "$\\displaystyle 6: (-1, -1, -1, -1, -1, 1, 1, -1) < (-1, -1, -1, -1, -1, -1, -1, -1)\\iff0 < -h_{6} -h_{7} +J_{1,6} +J_{1,7} +J_{2,6} +J_{2,7} +J_{3,6} +J_{3,7} +J_{4,6} +J_{4,7} +J_{5,6} +J_{5,7} +J_{6,8} +J_{7,8}$"
      ],
      "text/plain": [
       "<IPython.core.display.Math object>"
      ]
     },
     "metadata": {},
     "output_type": "display_data"
    },
    {
     "data": {
      "text/latex": [
       "$\\displaystyle 7: (-1, -1, -1, -1, -1, -1, -1, -1) < (-1, -1, -1, -1, -1, 1, 1, 1)\\iff0 < +h_{6} +h_{7} +h_{8} -J_{1,6} -J_{1,7} -J_{1,8} -J_{2,6} -J_{2,7} -J_{2,8} -J_{3,6} -J_{3,7} -J_{3,8} -J_{4,6} -J_{4,7} -J_{4,8} -J_{5,6} -J_{5,7} -J_{5,8}$"
      ],
      "text/plain": [
       "<IPython.core.display.Math object>"
      ]
     },
     "metadata": {},
     "output_type": "display_data"
    },
    {
     "data": {
      "text/latex": [
       "$\\displaystyle 7: (-1, -1, -1, -1, -1, 1, 1, 1) < (-1, -1, -1, -1, -1, -1, -1, -1)\\iff0 < -h_{6} -h_{7} -h_{8} +J_{1,6} +J_{1,7} +J_{1,8} +J_{2,6} +J_{2,7} +J_{2,8} +J_{3,6} +J_{3,7} +J_{3,8} +J_{4,6} +J_{4,7} +J_{4,8} +J_{5,6} +J_{5,7} +J_{5,8}$"
      ],
      "text/plain": [
       "<IPython.core.display.Math object>"
      ]
     },
     "metadata": {},
     "output_type": "display_data"
    },
    {
     "data": {
      "text/latex": [
       "$\\displaystyle 8: (-1, -1, -1, -1, -1, -1, -1, -1) < (-1, -1, -1, -1, 1, -1, -1, -1)\\iff0 < +h_{5} -J_{1,5} -J_{2,5} -J_{3,5} -J_{4,5} -J_{5,6} -J_{5,7} -J_{5,8}$"
      ],
      "text/plain": [
       "<IPython.core.display.Math object>"
      ]
     },
     "metadata": {},
     "output_type": "display_data"
    },
    {
     "data": {
      "text/latex": [
       "$\\displaystyle 8: (-1, -1, -1, -1, 1, -1, -1, -1) < (-1, -1, -1, -1, -1, -1, -1, -1)\\iff0 < -h_{5} +J_{1,5} +J_{2,5} +J_{3,5} +J_{4,5} +J_{5,6} +J_{5,7} +J_{5,8}$"
      ],
      "text/plain": [
       "<IPython.core.display.Math object>"
      ]
     },
     "metadata": {},
     "output_type": "display_data"
    },
    {
     "data": {
      "text/latex": [
       "$\\displaystyle 9: (-1, -1, -1, -1, -1, -1, -1, -1) < (-1, -1, -1, -1, 1, -1, -1, 1)\\iff0 < +h_{5} +h_{8} -J_{1,5} -J_{1,8} -J_{2,5} -J_{2,8} -J_{3,5} -J_{3,8} -J_{4,5} -J_{4,8} -J_{5,6} -J_{5,7} -J_{6,8} -J_{7,8}$"
      ],
      "text/plain": [
       "<IPython.core.display.Math object>"
      ]
     },
     "metadata": {},
     "output_type": "display_data"
    },
    {
     "data": {
      "text/latex": [
       "$\\displaystyle 9: (-1, -1, -1, -1, 1, -1, -1, 1) < (-1, -1, -1, -1, -1, -1, -1, -1)\\iff0 < -h_{5} -h_{8} +J_{1,5} +J_{1,8} +J_{2,5} +J_{2,8} +J_{3,5} +J_{3,8} +J_{4,5} +J_{4,8} +J_{5,6} +J_{5,7} +J_{6,8} +J_{7,8}$"
      ],
      "text/plain": [
       "<IPython.core.display.Math object>"
      ]
     },
     "metadata": {},
     "output_type": "display_data"
    },
    {
     "data": {
      "text/latex": [
       "$\\displaystyle 10: (-1, -1, -1, -1, -1, -1, -1, -1) < (-1, -1, -1, -1, 1, -1, 1, -1)\\iff0 < +h_{5} +h_{7} -J_{1,5} -J_{1,7} -J_{2,5} -J_{2,7} -J_{3,5} -J_{3,7} -J_{4,5} -J_{4,7} -J_{5,6} -J_{5,8} -J_{6,7} -J_{7,8}$"
      ],
      "text/plain": [
       "<IPython.core.display.Math object>"
      ]
     },
     "metadata": {},
     "output_type": "display_data"
    },
    {
     "data": {
      "text/latex": [
       "$\\displaystyle 10: (-1, -1, -1, -1, 1, -1, 1, -1) < (-1, -1, -1, -1, -1, -1, -1, -1)\\iff0 < -h_{5} -h_{7} +J_{1,5} +J_{1,7} +J_{2,5} +J_{2,7} +J_{3,5} +J_{3,7} +J_{4,5} +J_{4,7} +J_{5,6} +J_{5,8} +J_{6,7} +J_{7,8}$"
      ],
      "text/plain": [
       "<IPython.core.display.Math object>"
      ]
     },
     "metadata": {},
     "output_type": "display_data"
    },
    {
     "data": {
      "text/latex": [
       "$\\displaystyle 11: (-1, -1, -1, -1, -1, -1, -1, -1) < (-1, -1, -1, -1, 1, -1, 1, 1)\\iff0 < +h_{5} +h_{7} +h_{8} -J_{1,5} -J_{1,7} -J_{1,8} -J_{2,5} -J_{2,7} -J_{2,8} -J_{3,5} -J_{3,7} -J_{3,8} -J_{4,5} -J_{4,7} -J_{4,8} -J_{5,6} -J_{6,7} -J_{6,8}$"
      ],
      "text/plain": [
       "<IPython.core.display.Math object>"
      ]
     },
     "metadata": {},
     "output_type": "display_data"
    },
    {
     "data": {
      "text/latex": [
       "$\\displaystyle 11: (-1, -1, -1, -1, 1, -1, 1, 1) < (-1, -1, -1, -1, -1, -1, -1, -1)\\iff0 < -h_{5} -h_{7} -h_{8} +J_{1,5} +J_{1,7} +J_{1,8} +J_{2,5} +J_{2,7} +J_{2,8} +J_{3,5} +J_{3,7} +J_{3,8} +J_{4,5} +J_{4,7} +J_{4,8} +J_{5,6} +J_{6,7} +J_{6,8}$"
      ],
      "text/plain": [
       "<IPython.core.display.Math object>"
      ]
     },
     "metadata": {},
     "output_type": "display_data"
    },
    {
     "data": {
      "text/latex": [
       "$\\displaystyle 12: (-1, -1, -1, -1, -1, -1, -1, -1) < (-1, -1, -1, -1, 1, 1, -1, -1)\\iff0 < +h_{5} +h_{6} -J_{1,5} -J_{1,6} -J_{2,5} -J_{2,6} -J_{3,5} -J_{3,6} -J_{4,5} -J_{4,6} -J_{5,7} -J_{5,8} -J_{6,7} -J_{6,8}$"
      ],
      "text/plain": [
       "<IPython.core.display.Math object>"
      ]
     },
     "metadata": {},
     "output_type": "display_data"
    },
    {
     "data": {
      "text/latex": [
       "$\\displaystyle 12: (-1, -1, -1, -1, 1, 1, -1, -1) < (-1, -1, -1, -1, -1, -1, -1, -1)\\iff0 < -h_{5} -h_{6} +J_{1,5} +J_{1,6} +J_{2,5} +J_{2,6} +J_{3,5} +J_{3,6} +J_{4,5} +J_{4,6} +J_{5,7} +J_{5,8} +J_{6,7} +J_{6,8}$"
      ],
      "text/plain": [
       "<IPython.core.display.Math object>"
      ]
     },
     "metadata": {},
     "output_type": "display_data"
    },
    {
     "data": {
      "text/latex": [
       "$\\displaystyle 13: (-1, -1, -1, -1, -1, -1, -1, -1) < (-1, -1, -1, -1, 1, 1, -1, 1)\\iff0 < +h_{5} +h_{6} +h_{8} -J_{1,5} -J_{1,6} -J_{1,8} -J_{2,5} -J_{2,6} -J_{2,8} -J_{3,5} -J_{3,6} -J_{3,8} -J_{4,5} -J_{4,6} -J_{4,8} -J_{5,7} -J_{6,7} -J_{7,8}$"
      ],
      "text/plain": [
       "<IPython.core.display.Math object>"
      ]
     },
     "metadata": {},
     "output_type": "display_data"
    },
    {
     "data": {
      "text/latex": [
       "$\\displaystyle 13: (-1, -1, -1, -1, 1, 1, -1, 1) < (-1, -1, -1, -1, -1, -1, -1, -1)\\iff0 < -h_{5} -h_{6} -h_{8} +J_{1,5} +J_{1,6} +J_{1,8} +J_{2,5} +J_{2,6} +J_{2,8} +J_{3,5} +J_{3,6} +J_{3,8} +J_{4,5} +J_{4,6} +J_{4,8} +J_{5,7} +J_{6,7} +J_{7,8}$"
      ],
      "text/plain": [
       "<IPython.core.display.Math object>"
      ]
     },
     "metadata": {},
     "output_type": "display_data"
    },
    {
     "data": {
      "text/latex": [
       "$\\displaystyle 14: (-1, -1, -1, -1, -1, -1, -1, -1) < (-1, -1, -1, -1, 1, 1, 1, -1)\\iff0 < +h_{5} +h_{6} +h_{7} -J_{1,5} -J_{1,6} -J_{1,7} -J_{2,5} -J_{2,6} -J_{2,7} -J_{3,5} -J_{3,6} -J_{3,7} -J_{4,5} -J_{4,6} -J_{4,7} -J_{5,8} -J_{6,8} -J_{7,8}$"
      ],
      "text/plain": [
       "<IPython.core.display.Math object>"
      ]
     },
     "metadata": {},
     "output_type": "display_data"
    },
    {
     "data": {
      "text/latex": [
       "$\\displaystyle 14: (-1, -1, -1, -1, 1, 1, 1, -1) < (-1, -1, -1, -1, -1, -1, -1, -1)\\iff0 < -h_{5} -h_{6} -h_{7} +J_{1,5} +J_{1,6} +J_{1,7} +J_{2,5} +J_{2,6} +J_{2,7} +J_{3,5} +J_{3,6} +J_{3,7} +J_{4,5} +J_{4,6} +J_{4,7} +J_{5,8} +J_{6,8} +J_{7,8}$"
      ],
      "text/plain": [
       "<IPython.core.display.Math object>"
      ]
     },
     "metadata": {},
     "output_type": "display_data"
    },
    {
     "data": {
      "text/latex": [
       "$\\displaystyle 15: (-1, -1, -1, -1, -1, -1, -1, -1) < (-1, -1, -1, -1, 1, 1, 1, 1)\\iff0 < +h_{5} +h_{6} +h_{7} +h_{8} -J_{1,5} -J_{1,6} -J_{1,7} -J_{1,8} -J_{2,5} -J_{2,6} -J_{2,7} -J_{2,8} -J_{3,5} -J_{3,6} -J_{3,7} -J_{3,8} -J_{4,5} -J_{4,6} -J_{4,7} -J_{4,8}$"
      ],
      "text/plain": [
       "<IPython.core.display.Math object>"
      ]
     },
     "metadata": {},
     "output_type": "display_data"
    },
    {
     "data": {
      "text/latex": [
       "$\\displaystyle 15: (-1, -1, -1, -1, 1, 1, 1, 1) < (-1, -1, -1, -1, -1, -1, -1, -1)\\iff0 < -h_{5} -h_{6} -h_{7} -h_{8} +J_{1,5} +J_{1,6} +J_{1,7} +J_{1,8} +J_{2,5} +J_{2,6} +J_{2,7} +J_{2,8} +J_{3,5} +J_{3,6} +J_{3,7} +J_{3,8} +J_{4,5} +J_{4,6} +J_{4,7} +J_{4,8}$"
      ],
      "text/plain": [
       "<IPython.core.display.Math object>"
      ]
     },
     "metadata": {},
     "output_type": "display_data"
    },
    {
     "data": {
      "text/latex": [
       "$\\displaystyle 16: (-1, -1, -1, -1, -1, -1, -1, -1) < (-1, -1, -1, 1, -1, -1, -1, -1)\\iff0 < +h_{4} -J_{1,4} -J_{2,4} -J_{3,4} -J_{4,5} -J_{4,6} -J_{4,7} -J_{4,8}$"
      ],
      "text/plain": [
       "<IPython.core.display.Math object>"
      ]
     },
     "metadata": {},
     "output_type": "display_data"
    },
    {
     "data": {
      "text/latex": [
       "$\\displaystyle 16: (-1, -1, -1, 1, -1, -1, -1, -1) < (-1, -1, -1, -1, -1, -1, -1, -1)\\iff0 < -h_{4} +J_{1,4} +J_{2,4} +J_{3,4} +J_{4,5} +J_{4,6} +J_{4,7} +J_{4,8}$"
      ],
      "text/plain": [
       "<IPython.core.display.Math object>"
      ]
     },
     "metadata": {},
     "output_type": "display_data"
    },
    {
     "data": {
      "text/latex": [
       "$\\displaystyle 17: (-1, -1, -1, -1, -1, -1, -1, -1) < (-1, -1, -1, 1, -1, -1, -1, 1)\\iff0 < +h_{4} +h_{8} -J_{1,4} -J_{1,8} -J_{2,4} -J_{2,8} -J_{3,4} -J_{3,8} -J_{4,5} -J_{4,6} -J_{4,7} -J_{5,8} -J_{6,8} -J_{7,8}$"
      ],
      "text/plain": [
       "<IPython.core.display.Math object>"
      ]
     },
     "metadata": {},
     "output_type": "display_data"
    },
    {
     "data": {
      "text/latex": [
       "$\\displaystyle 17: (-1, -1, -1, 1, -1, -1, -1, 1) < (-1, -1, -1, -1, -1, -1, -1, -1)\\iff0 < -h_{4} -h_{8} +J_{1,4} +J_{1,8} +J_{2,4} +J_{2,8} +J_{3,4} +J_{3,8} +J_{4,5} +J_{4,6} +J_{4,7} +J_{5,8} +J_{6,8} +J_{7,8}$"
      ],
      "text/plain": [
       "<IPython.core.display.Math object>"
      ]
     },
     "metadata": {},
     "output_type": "display_data"
    },
    {
     "data": {
      "text/latex": [
       "$\\displaystyle 18: (-1, -1, -1, -1, -1, -1, -1, -1) < (-1, -1, -1, 1, -1, -1, 1, -1)\\iff0 < +h_{4} +h_{7} -J_{1,4} -J_{1,7} -J_{2,4} -J_{2,7} -J_{3,4} -J_{3,7} -J_{4,5} -J_{4,6} -J_{4,8} -J_{5,7} -J_{6,7} -J_{7,8}$"
      ],
      "text/plain": [
       "<IPython.core.display.Math object>"
      ]
     },
     "metadata": {},
     "output_type": "display_data"
    },
    {
     "data": {
      "text/latex": [
       "$\\displaystyle 18: (-1, -1, -1, 1, -1, -1, 1, -1) < (-1, -1, -1, -1, -1, -1, -1, -1)\\iff0 < -h_{4} -h_{7} +J_{1,4} +J_{1,7} +J_{2,4} +J_{2,7} +J_{3,4} +J_{3,7} +J_{4,5} +J_{4,6} +J_{4,8} +J_{5,7} +J_{6,7} +J_{7,8}$"
      ],
      "text/plain": [
       "<IPython.core.display.Math object>"
      ]
     },
     "metadata": {},
     "output_type": "display_data"
    },
    {
     "data": {
      "text/latex": [
       "$\\displaystyle 19: (-1, -1, -1, -1, -1, -1, -1, -1) < (-1, -1, -1, 1, -1, -1, 1, 1)\\iff0 < +h_{4} +h_{7} +h_{8} -J_{1,4} -J_{1,7} -J_{1,8} -J_{2,4} -J_{2,7} -J_{2,8} -J_{3,4} -J_{3,7} -J_{3,8} -J_{4,5} -J_{4,6} -J_{5,7} -J_{5,8} -J_{6,7} -J_{6,8}$"
      ],
      "text/plain": [
       "<IPython.core.display.Math object>"
      ]
     },
     "metadata": {},
     "output_type": "display_data"
    },
    {
     "data": {
      "text/latex": [
       "$\\displaystyle 19: (-1, -1, -1, 1, -1, -1, 1, 1) < (-1, -1, -1, -1, -1, -1, -1, -1)\\iff0 < -h_{4} -h_{7} -h_{8} +J_{1,4} +J_{1,7} +J_{1,8} +J_{2,4} +J_{2,7} +J_{2,8} +J_{3,4} +J_{3,7} +J_{3,8} +J_{4,5} +J_{4,6} +J_{5,7} +J_{5,8} +J_{6,7} +J_{6,8}$"
      ],
      "text/plain": [
       "<IPython.core.display.Math object>"
      ]
     },
     "metadata": {},
     "output_type": "display_data"
    },
    {
     "data": {
      "text/latex": [
       "$\\displaystyle 20: (-1, -1, -1, -1, -1, -1, -1, -1) < (-1, -1, -1, 1, -1, 1, -1, -1)\\iff0 < +h_{4} +h_{6} -J_{1,4} -J_{1,6} -J_{2,4} -J_{2,6} -J_{3,4} -J_{3,6} -J_{4,5} -J_{4,7} -J_{4,8} -J_{5,6} -J_{6,7} -J_{6,8}$"
      ],
      "text/plain": [
       "<IPython.core.display.Math object>"
      ]
     },
     "metadata": {},
     "output_type": "display_data"
    },
    {
     "data": {
      "text/latex": [
       "$\\displaystyle 20: (-1, -1, -1, 1, -1, 1, -1, -1) < (-1, -1, -1, -1, -1, -1, -1, -1)\\iff0 < -h_{4} -h_{6} +J_{1,4} +J_{1,6} +J_{2,4} +J_{2,6} +J_{3,4} +J_{3,6} +J_{4,5} +J_{4,7} +J_{4,8} +J_{5,6} +J_{6,7} +J_{6,8}$"
      ],
      "text/plain": [
       "<IPython.core.display.Math object>"
      ]
     },
     "metadata": {},
     "output_type": "display_data"
    },
    {
     "data": {
      "text/latex": [
       "$\\displaystyle 21: (-1, -1, -1, -1, -1, -1, -1, -1) < (-1, -1, -1, 1, -1, 1, -1, 1)\\iff0 < +h_{4} +h_{6} +h_{8} -J_{1,4} -J_{1,6} -J_{1,8} -J_{2,4} -J_{2,6} -J_{2,8} -J_{3,4} -J_{3,6} -J_{3,8} -J_{4,5} -J_{4,7} -J_{5,6} -J_{5,8} -J_{6,7} -J_{7,8}$"
      ],
      "text/plain": [
       "<IPython.core.display.Math object>"
      ]
     },
     "metadata": {},
     "output_type": "display_data"
    },
    {
     "data": {
      "text/latex": [
       "$\\displaystyle 21: (-1, -1, -1, 1, -1, 1, -1, 1) < (-1, -1, -1, -1, -1, -1, -1, -1)\\iff0 < -h_{4} -h_{6} -h_{8} +J_{1,4} +J_{1,6} +J_{1,8} +J_{2,4} +J_{2,6} +J_{2,8} +J_{3,4} +J_{3,6} +J_{3,8} +J_{4,5} +J_{4,7} +J_{5,6} +J_{5,8} +J_{6,7} +J_{7,8}$"
      ],
      "text/plain": [
       "<IPython.core.display.Math object>"
      ]
     },
     "metadata": {},
     "output_type": "display_data"
    },
    {
     "data": {
      "text/latex": [
       "$\\displaystyle 22: (-1, -1, -1, -1, -1, -1, -1, -1) < (-1, -1, -1, 1, -1, 1, 1, -1)\\iff0 < +h_{4} +h_{6} +h_{7} -J_{1,4} -J_{1,6} -J_{1,7} -J_{2,4} -J_{2,6} -J_{2,7} -J_{3,4} -J_{3,6} -J_{3,7} -J_{4,5} -J_{4,8} -J_{5,6} -J_{5,7} -J_{6,8} -J_{7,8}$"
      ],
      "text/plain": [
       "<IPython.core.display.Math object>"
      ]
     },
     "metadata": {},
     "output_type": "display_data"
    },
    {
     "data": {
      "text/latex": [
       "$\\displaystyle 22: (-1, -1, -1, 1, -1, 1, 1, -1) < (-1, -1, -1, -1, -1, -1, -1, -1)\\iff0 < -h_{4} -h_{6} -h_{7} +J_{1,4} +J_{1,6} +J_{1,7} +J_{2,4} +J_{2,6} +J_{2,7} +J_{3,4} +J_{3,6} +J_{3,7} +J_{4,5} +J_{4,8} +J_{5,6} +J_{5,7} +J_{6,8} +J_{7,8}$"
      ],
      "text/plain": [
       "<IPython.core.display.Math object>"
      ]
     },
     "metadata": {},
     "output_type": "display_data"
    },
    {
     "data": {
      "text/latex": [
       "$\\displaystyle 23: (-1, -1, -1, -1, -1, -1, -1, -1) < (-1, -1, -1, 1, -1, 1, 1, 1)\\iff0 < +h_{4} +h_{6} +h_{7} +h_{8} -J_{1,4} -J_{1,6} -J_{1,7} -J_{1,8} -J_{2,4} -J_{2,6} -J_{2,7} -J_{2,8} -J_{3,4} -J_{3,6} -J_{3,7} -J_{3,8} -J_{4,5} -J_{5,6} -J_{5,7} -J_{5,8}$"
      ],
      "text/plain": [
       "<IPython.core.display.Math object>"
      ]
     },
     "metadata": {},
     "output_type": "display_data"
    },
    {
     "data": {
      "text/latex": [
       "$\\displaystyle 23: (-1, -1, -1, 1, -1, 1, 1, 1) < (-1, -1, -1, -1, -1, -1, -1, -1)\\iff0 < -h_{4} -h_{6} -h_{7} -h_{8} +J_{1,4} +J_{1,6} +J_{1,7} +J_{1,8} +J_{2,4} +J_{2,6} +J_{2,7} +J_{2,8} +J_{3,4} +J_{3,6} +J_{3,7} +J_{3,8} +J_{4,5} +J_{5,6} +J_{5,7} +J_{5,8}$"
      ],
      "text/plain": [
       "<IPython.core.display.Math object>"
      ]
     },
     "metadata": {},
     "output_type": "display_data"
    },
    {
     "data": {
      "text/latex": [
       "$\\displaystyle 24: (-1, -1, -1, -1, -1, -1, -1, -1) < (-1, -1, -1, 1, 1, -1, -1, -1)\\iff0 < +h_{4} +h_{5} -J_{1,4} -J_{1,5} -J_{2,4} -J_{2,5} -J_{3,4} -J_{3,5} -J_{4,6} -J_{4,7} -J_{4,8} -J_{5,6} -J_{5,7} -J_{5,8}$"
      ],
      "text/plain": [
       "<IPython.core.display.Math object>"
      ]
     },
     "metadata": {},
     "output_type": "display_data"
    },
    {
     "data": {
      "text/latex": [
       "$\\displaystyle 24: (-1, -1, -1, 1, 1, -1, -1, -1) < (-1, -1, -1, -1, -1, -1, -1, -1)\\iff0 < -h_{4} -h_{5} +J_{1,4} +J_{1,5} +J_{2,4} +J_{2,5} +J_{3,4} +J_{3,5} +J_{4,6} +J_{4,7} +J_{4,8} +J_{5,6} +J_{5,7} +J_{5,8}$"
      ],
      "text/plain": [
       "<IPython.core.display.Math object>"
      ]
     },
     "metadata": {},
     "output_type": "display_data"
    },
    {
     "data": {
      "text/latex": [
       "$\\displaystyle 25: (-1, -1, -1, -1, -1, -1, -1, -1) < (-1, -1, -1, 1, 1, -1, -1, 1)\\iff0 < +h_{4} +h_{5} +h_{8} -J_{1,4} -J_{1,5} -J_{1,8} -J_{2,4} -J_{2,5} -J_{2,8} -J_{3,4} -J_{3,5} -J_{3,8} -J_{4,6} -J_{4,7} -J_{5,6} -J_{5,7} -J_{6,8} -J_{7,8}$"
      ],
      "text/plain": [
       "<IPython.core.display.Math object>"
      ]
     },
     "metadata": {},
     "output_type": "display_data"
    },
    {
     "data": {
      "text/latex": [
       "$\\displaystyle 25: (-1, -1, -1, 1, 1, -1, -1, 1) < (-1, -1, -1, -1, -1, -1, -1, -1)\\iff0 < -h_{4} -h_{5} -h_{8} +J_{1,4} +J_{1,5} +J_{1,8} +J_{2,4} +J_{2,5} +J_{2,8} +J_{3,4} +J_{3,5} +J_{3,8} +J_{4,6} +J_{4,7} +J_{5,6} +J_{5,7} +J_{6,8} +J_{7,8}$"
      ],
      "text/plain": [
       "<IPython.core.display.Math object>"
      ]
     },
     "metadata": {},
     "output_type": "display_data"
    },
    {
     "data": {
      "text/latex": [
       "$\\displaystyle 26: (-1, -1, -1, -1, -1, -1, -1, -1) < (-1, -1, -1, 1, 1, -1, 1, -1)\\iff0 < +h_{4} +h_{5} +h_{7} -J_{1,4} -J_{1,5} -J_{1,7} -J_{2,4} -J_{2,5} -J_{2,7} -J_{3,4} -J_{3,5} -J_{3,7} -J_{4,6} -J_{4,8} -J_{5,6} -J_{5,8} -J_{6,7} -J_{7,8}$"
      ],
      "text/plain": [
       "<IPython.core.display.Math object>"
      ]
     },
     "metadata": {},
     "output_type": "display_data"
    },
    {
     "data": {
      "text/latex": [
       "$\\displaystyle 26: (-1, -1, -1, 1, 1, -1, 1, -1) < (-1, -1, -1, -1, -1, -1, -1, -1)\\iff0 < -h_{4} -h_{5} -h_{7} +J_{1,4} +J_{1,5} +J_{1,7} +J_{2,4} +J_{2,5} +J_{2,7} +J_{3,4} +J_{3,5} +J_{3,7} +J_{4,6} +J_{4,8} +J_{5,6} +J_{5,8} +J_{6,7} +J_{7,8}$"
      ],
      "text/plain": [
       "<IPython.core.display.Math object>"
      ]
     },
     "metadata": {},
     "output_type": "display_data"
    },
    {
     "data": {
      "text/latex": [
       "$\\displaystyle 27: (-1, -1, -1, -1, -1, -1, -1, -1) < (-1, -1, -1, 1, 1, -1, 1, 1)\\iff0 < +h_{4} +h_{5} +h_{7} +h_{8} -J_{1,4} -J_{1,5} -J_{1,7} -J_{1,8} -J_{2,4} -J_{2,5} -J_{2,7} -J_{2,8} -J_{3,4} -J_{3,5} -J_{3,7} -J_{3,8} -J_{4,6} -J_{5,6} -J_{6,7} -J_{6,8}$"
      ],
      "text/plain": [
       "<IPython.core.display.Math object>"
      ]
     },
     "metadata": {},
     "output_type": "display_data"
    },
    {
     "data": {
      "text/latex": [
       "$\\displaystyle 27: (-1, -1, -1, 1, 1, -1, 1, 1) < (-1, -1, -1, -1, -1, -1, -1, -1)\\iff0 < -h_{4} -h_{5} -h_{7} -h_{8} +J_{1,4} +J_{1,5} +J_{1,7} +J_{1,8} +J_{2,4} +J_{2,5} +J_{2,7} +J_{2,8} +J_{3,4} +J_{3,5} +J_{3,7} +J_{3,8} +J_{4,6} +J_{5,6} +J_{6,7} +J_{6,8}$"
      ],
      "text/plain": [
       "<IPython.core.display.Math object>"
      ]
     },
     "metadata": {},
     "output_type": "display_data"
    },
    {
     "data": {
      "text/latex": [
       "$\\displaystyle 28: (-1, -1, -1, -1, -1, -1, -1, -1) < (-1, -1, -1, 1, 1, 1, -1, -1)\\iff0 < +h_{4} +h_{5} +h_{6} -J_{1,4} -J_{1,5} -J_{1,6} -J_{2,4} -J_{2,5} -J_{2,6} -J_{3,4} -J_{3,5} -J_{3,6} -J_{4,7} -J_{4,8} -J_{5,7} -J_{5,8} -J_{6,7} -J_{6,8}$"
      ],
      "text/plain": [
       "<IPython.core.display.Math object>"
      ]
     },
     "metadata": {},
     "output_type": "display_data"
    },
    {
     "data": {
      "text/latex": [
       "$\\displaystyle 28: (-1, -1, -1, 1, 1, 1, -1, -1) < (-1, -1, -1, -1, -1, -1, -1, -1)\\iff0 < -h_{4} -h_{5} -h_{6} +J_{1,4} +J_{1,5} +J_{1,6} +J_{2,4} +J_{2,5} +J_{2,6} +J_{3,4} +J_{3,5} +J_{3,6} +J_{4,7} +J_{4,8} +J_{5,7} +J_{5,8} +J_{6,7} +J_{6,8}$"
      ],
      "text/plain": [
       "<IPython.core.display.Math object>"
      ]
     },
     "metadata": {},
     "output_type": "display_data"
    },
    {
     "data": {
      "text/latex": [
       "$\\displaystyle 29: (-1, -1, -1, -1, -1, -1, -1, -1) < (-1, -1, -1, 1, 1, 1, -1, 1)\\iff0 < +h_{4} +h_{5} +h_{6} +h_{8} -J_{1,4} -J_{1,5} -J_{1,6} -J_{1,8} -J_{2,4} -J_{2,5} -J_{2,6} -J_{2,8} -J_{3,4} -J_{3,5} -J_{3,6} -J_{3,8} -J_{4,7} -J_{5,7} -J_{6,7} -J_{7,8}$"
      ],
      "text/plain": [
       "<IPython.core.display.Math object>"
      ]
     },
     "metadata": {},
     "output_type": "display_data"
    },
    {
     "data": {
      "text/latex": [
       "$\\displaystyle 29: (-1, -1, -1, 1, 1, 1, -1, 1) < (-1, -1, -1, -1, -1, -1, -1, -1)\\iff0 < -h_{4} -h_{5} -h_{6} -h_{8} +J_{1,4} +J_{1,5} +J_{1,6} +J_{1,8} +J_{2,4} +J_{2,5} +J_{2,6} +J_{2,8} +J_{3,4} +J_{3,5} +J_{3,6} +J_{3,8} +J_{4,7} +J_{5,7} +J_{6,7} +J_{7,8}$"
      ],
      "text/plain": [
       "<IPython.core.display.Math object>"
      ]
     },
     "metadata": {},
     "output_type": "display_data"
    },
    {
     "data": {
      "text/latex": [
       "$\\displaystyle 30: (-1, -1, -1, -1, -1, -1, -1, -1) < (-1, -1, -1, 1, 1, 1, 1, -1)\\iff0 < +h_{4} +h_{5} +h_{6} +h_{7} -J_{1,4} -J_{1,5} -J_{1,6} -J_{1,7} -J_{2,4} -J_{2,5} -J_{2,6} -J_{2,7} -J_{3,4} -J_{3,5} -J_{3,6} -J_{3,7} -J_{4,8} -J_{5,8} -J_{6,8} -J_{7,8}$"
      ],
      "text/plain": [
       "<IPython.core.display.Math object>"
      ]
     },
     "metadata": {},
     "output_type": "display_data"
    },
    {
     "data": {
      "text/latex": [
       "$\\displaystyle 30: (-1, -1, -1, 1, 1, 1, 1, -1) < (-1, -1, -1, -1, -1, -1, -1, -1)\\iff0 < -h_{4} -h_{5} -h_{6} -h_{7} +J_{1,4} +J_{1,5} +J_{1,6} +J_{1,7} +J_{2,4} +J_{2,5} +J_{2,6} +J_{2,7} +J_{3,4} +J_{3,5} +J_{3,6} +J_{3,7} +J_{4,8} +J_{5,8} +J_{6,8} +J_{7,8}$"
      ],
      "text/plain": [
       "<IPython.core.display.Math object>"
      ]
     },
     "metadata": {},
     "output_type": "display_data"
    },
    {
     "data": {
      "text/latex": [
       "$\\displaystyle 31: (-1, -1, -1, -1, -1, -1, -1, -1) < (-1, -1, -1, 1, 1, 1, 1, 1)\\iff0 < +h_{4} +h_{5} +h_{6} +h_{7} +h_{8} -J_{1,4} -J_{1,5} -J_{1,6} -J_{1,7} -J_{1,8} -J_{2,4} -J_{2,5} -J_{2,6} -J_{2,7} -J_{2,8} -J_{3,4} -J_{3,5} -J_{3,6} -J_{3,7} -J_{3,8}$"
      ],
      "text/plain": [
       "<IPython.core.display.Math object>"
      ]
     },
     "metadata": {},
     "output_type": "display_data"
    },
    {
     "data": {
      "text/latex": [
       "$\\displaystyle 31: (-1, -1, -1, 1, 1, 1, 1, 1) < (-1, -1, -1, -1, -1, -1, -1, -1)\\iff0 < -h_{4} -h_{5} -h_{6} -h_{7} -h_{8} +J_{1,4} +J_{1,5} +J_{1,6} +J_{1,7} +J_{1,8} +J_{2,4} +J_{2,5} +J_{2,6} +J_{2,7} +J_{2,8} +J_{3,4} +J_{3,5} +J_{3,6} +J_{3,7} +J_{3,8}$"
      ],
      "text/plain": [
       "<IPython.core.display.Math object>"
      ]
     },
     "metadata": {},
     "output_type": "display_data"
    },
    {
     "data": {
      "text/latex": [
       "$\\displaystyle 32: (-1, -1, -1, -1, -1, -1, -1, -1) < (-1, -1, 1, -1, -1, -1, -1, -1)\\iff0 < +h_{3} -J_{1,3} -J_{2,3} -J_{3,4} -J_{3,5} -J_{3,6} -J_{3,7} -J_{3,8}$"
      ],
      "text/plain": [
       "<IPython.core.display.Math object>"
      ]
     },
     "metadata": {},
     "output_type": "display_data"
    },
    {
     "data": {
      "text/latex": [
       "$\\displaystyle 32: (-1, -1, 1, -1, -1, -1, -1, -1) < (-1, -1, -1, -1, -1, -1, -1, -1)\\iff0 < -h_{3} +J_{1,3} +J_{2,3} +J_{3,4} +J_{3,5} +J_{3,6} +J_{3,7} +J_{3,8}$"
      ],
      "text/plain": [
       "<IPython.core.display.Math object>"
      ]
     },
     "metadata": {},
     "output_type": "display_data"
    },
    {
     "data": {
      "text/latex": [
       "$\\displaystyle 33: (-1, -1, -1, -1, -1, -1, -1, -1) < (-1, -1, 1, -1, -1, -1, -1, 1)\\iff0 < +h_{3} +h_{8} -J_{1,3} -J_{1,8} -J_{2,3} -J_{2,8} -J_{3,4} -J_{3,5} -J_{3,6} -J_{3,7} -J_{4,8} -J_{5,8} -J_{6,8} -J_{7,8}$"
      ],
      "text/plain": [
       "<IPython.core.display.Math object>"
      ]
     },
     "metadata": {},
     "output_type": "display_data"
    },
    {
     "data": {
      "text/latex": [
       "$\\displaystyle 33: (-1, -1, 1, -1, -1, -1, -1, 1) < (-1, -1, -1, -1, -1, -1, -1, -1)\\iff0 < -h_{3} -h_{8} +J_{1,3} +J_{1,8} +J_{2,3} +J_{2,8} +J_{3,4} +J_{3,5} +J_{3,6} +J_{3,7} +J_{4,8} +J_{5,8} +J_{6,8} +J_{7,8}$"
      ],
      "text/plain": [
       "<IPython.core.display.Math object>"
      ]
     },
     "metadata": {},
     "output_type": "display_data"
    },
    {
     "data": {
      "text/latex": [
       "$\\displaystyle 34: (-1, -1, -1, -1, -1, -1, -1, -1) < (-1, -1, 1, -1, -1, -1, 1, -1)\\iff0 < +h_{3} +h_{7} -J_{1,3} -J_{1,7} -J_{2,3} -J_{2,7} -J_{3,4} -J_{3,5} -J_{3,6} -J_{3,8} -J_{4,7} -J_{5,7} -J_{6,7} -J_{7,8}$"
      ],
      "text/plain": [
       "<IPython.core.display.Math object>"
      ]
     },
     "metadata": {},
     "output_type": "display_data"
    },
    {
     "data": {
      "text/latex": [
       "$\\displaystyle 34: (-1, -1, 1, -1, -1, -1, 1, -1) < (-1, -1, -1, -1, -1, -1, -1, -1)\\iff0 < -h_{3} -h_{7} +J_{1,3} +J_{1,7} +J_{2,3} +J_{2,7} +J_{3,4} +J_{3,5} +J_{3,6} +J_{3,8} +J_{4,7} +J_{5,7} +J_{6,7} +J_{7,8}$"
      ],
      "text/plain": [
       "<IPython.core.display.Math object>"
      ]
     },
     "metadata": {},
     "output_type": "display_data"
    },
    {
     "data": {
      "text/latex": [
       "$\\displaystyle 35: (-1, -1, -1, -1, -1, -1, -1, -1) < (-1, -1, 1, -1, -1, -1, 1, 1)\\iff0 < +h_{3} +h_{7} +h_{8} -J_{1,3} -J_{1,7} -J_{1,8} -J_{2,3} -J_{2,7} -J_{2,8} -J_{3,4} -J_{3,5} -J_{3,6} -J_{4,7} -J_{4,8} -J_{5,7} -J_{5,8} -J_{6,7} -J_{6,8}$"
      ],
      "text/plain": [
       "<IPython.core.display.Math object>"
      ]
     },
     "metadata": {},
     "output_type": "display_data"
    },
    {
     "data": {
      "text/latex": [
       "$\\displaystyle 35: (-1, -1, 1, -1, -1, -1, 1, 1) < (-1, -1, -1, -1, -1, -1, -1, -1)\\iff0 < -h_{3} -h_{7} -h_{8} +J_{1,3} +J_{1,7} +J_{1,8} +J_{2,3} +J_{2,7} +J_{2,8} +J_{3,4} +J_{3,5} +J_{3,6} +J_{4,7} +J_{4,8} +J_{5,7} +J_{5,8} +J_{6,7} +J_{6,8}$"
      ],
      "text/plain": [
       "<IPython.core.display.Math object>"
      ]
     },
     "metadata": {},
     "output_type": "display_data"
    },
    {
     "data": {
      "text/latex": [
       "$\\displaystyle 36: (-1, -1, -1, -1, -1, -1, -1, -1) < (-1, -1, 1, -1, -1, 1, -1, -1)\\iff0 < +h_{3} +h_{6} -J_{1,3} -J_{1,6} -J_{2,3} -J_{2,6} -J_{3,4} -J_{3,5} -J_{3,7} -J_{3,8} -J_{4,6} -J_{5,6} -J_{6,7} -J_{6,8}$"
      ],
      "text/plain": [
       "<IPython.core.display.Math object>"
      ]
     },
     "metadata": {},
     "output_type": "display_data"
    },
    {
     "data": {
      "text/latex": [
       "$\\displaystyle 36: (-1, -1, 1, -1, -1, 1, -1, -1) < (-1, -1, -1, -1, -1, -1, -1, -1)\\iff0 < -h_{3} -h_{6} +J_{1,3} +J_{1,6} +J_{2,3} +J_{2,6} +J_{3,4} +J_{3,5} +J_{3,7} +J_{3,8} +J_{4,6} +J_{5,6} +J_{6,7} +J_{6,8}$"
      ],
      "text/plain": [
       "<IPython.core.display.Math object>"
      ]
     },
     "metadata": {},
     "output_type": "display_data"
    },
    {
     "data": {
      "text/latex": [
       "$\\displaystyle 37: (-1, -1, -1, -1, -1, -1, -1, -1) < (-1, -1, 1, -1, -1, 1, -1, 1)\\iff0 < +h_{3} +h_{6} +h_{8} -J_{1,3} -J_{1,6} -J_{1,8} -J_{2,3} -J_{2,6} -J_{2,8} -J_{3,4} -J_{3,5} -J_{3,7} -J_{4,6} -J_{4,8} -J_{5,6} -J_{5,8} -J_{6,7} -J_{7,8}$"
      ],
      "text/plain": [
       "<IPython.core.display.Math object>"
      ]
     },
     "metadata": {},
     "output_type": "display_data"
    },
    {
     "data": {
      "text/latex": [
       "$\\displaystyle 37: (-1, -1, 1, -1, -1, 1, -1, 1) < (-1, -1, -1, -1, -1, -1, -1, -1)\\iff0 < -h_{3} -h_{6} -h_{8} +J_{1,3} +J_{1,6} +J_{1,8} +J_{2,3} +J_{2,6} +J_{2,8} +J_{3,4} +J_{3,5} +J_{3,7} +J_{4,6} +J_{4,8} +J_{5,6} +J_{5,8} +J_{6,7} +J_{7,8}$"
      ],
      "text/plain": [
       "<IPython.core.display.Math object>"
      ]
     },
     "metadata": {},
     "output_type": "display_data"
    },
    {
     "data": {
      "text/latex": [
       "$\\displaystyle 38: (-1, -1, -1, -1, -1, -1, -1, -1) < (-1, -1, 1, -1, -1, 1, 1, -1)\\iff0 < +h_{3} +h_{6} +h_{7} -J_{1,3} -J_{1,6} -J_{1,7} -J_{2,3} -J_{2,6} -J_{2,7} -J_{3,4} -J_{3,5} -J_{3,8} -J_{4,6} -J_{4,7} -J_{5,6} -J_{5,7} -J_{6,8} -J_{7,8}$"
      ],
      "text/plain": [
       "<IPython.core.display.Math object>"
      ]
     },
     "metadata": {},
     "output_type": "display_data"
    },
    {
     "data": {
      "text/latex": [
       "$\\displaystyle 38: (-1, -1, 1, -1, -1, 1, 1, -1) < (-1, -1, -1, -1, -1, -1, -1, -1)\\iff0 < -h_{3} -h_{6} -h_{7} +J_{1,3} +J_{1,6} +J_{1,7} +J_{2,3} +J_{2,6} +J_{2,7} +J_{3,4} +J_{3,5} +J_{3,8} +J_{4,6} +J_{4,7} +J_{5,6} +J_{5,7} +J_{6,8} +J_{7,8}$"
      ],
      "text/plain": [
       "<IPython.core.display.Math object>"
      ]
     },
     "metadata": {},
     "output_type": "display_data"
    },
    {
     "data": {
      "text/latex": [
       "$\\displaystyle 39: (-1, -1, -1, -1, -1, -1, -1, -1) < (-1, -1, 1, -1, -1, 1, 1, 1)\\iff0 < +h_{3} +h_{6} +h_{7} +h_{8} -J_{1,3} -J_{1,6} -J_{1,7} -J_{1,8} -J_{2,3} -J_{2,6} -J_{2,7} -J_{2,8} -J_{3,4} -J_{3,5} -J_{4,6} -J_{4,7} -J_{4,8} -J_{5,6} -J_{5,7} -J_{5,8}$"
      ],
      "text/plain": [
       "<IPython.core.display.Math object>"
      ]
     },
     "metadata": {},
     "output_type": "display_data"
    },
    {
     "data": {
      "text/latex": [
       "$\\displaystyle 39: (-1, -1, 1, -1, -1, 1, 1, 1) < (-1, -1, -1, -1, -1, -1, -1, -1)\\iff0 < -h_{3} -h_{6} -h_{7} -h_{8} +J_{1,3} +J_{1,6} +J_{1,7} +J_{1,8} +J_{2,3} +J_{2,6} +J_{2,7} +J_{2,8} +J_{3,4} +J_{3,5} +J_{4,6} +J_{4,7} +J_{4,8} +J_{5,6} +J_{5,7} +J_{5,8}$"
      ],
      "text/plain": [
       "<IPython.core.display.Math object>"
      ]
     },
     "metadata": {},
     "output_type": "display_data"
    },
    {
     "data": {
      "text/latex": [
       "$\\displaystyle 40: (-1, -1, -1, -1, -1, -1, -1, -1) < (-1, -1, 1, -1, 1, -1, -1, -1)\\iff0 < +h_{3} +h_{5} -J_{1,3} -J_{1,5} -J_{2,3} -J_{2,5} -J_{3,4} -J_{3,6} -J_{3,7} -J_{3,8} -J_{4,5} -J_{5,6} -J_{5,7} -J_{5,8}$"
      ],
      "text/plain": [
       "<IPython.core.display.Math object>"
      ]
     },
     "metadata": {},
     "output_type": "display_data"
    },
    {
     "data": {
      "text/latex": [
       "$\\displaystyle 40: (-1, -1, 1, -1, 1, -1, -1, -1) < (-1, -1, -1, -1, -1, -1, -1, -1)\\iff0 < -h_{3} -h_{5} +J_{1,3} +J_{1,5} +J_{2,3} +J_{2,5} +J_{3,4} +J_{3,6} +J_{3,7} +J_{3,8} +J_{4,5} +J_{5,6} +J_{5,7} +J_{5,8}$"
      ],
      "text/plain": [
       "<IPython.core.display.Math object>"
      ]
     },
     "metadata": {},
     "output_type": "display_data"
    },
    {
     "data": {
      "text/latex": [
       "$\\displaystyle 41: (-1, -1, -1, -1, -1, -1, -1, -1) < (-1, -1, 1, -1, 1, -1, -1, 1)\\iff0 < +h_{3} +h_{5} +h_{8} -J_{1,3} -J_{1,5} -J_{1,8} -J_{2,3} -J_{2,5} -J_{2,8} -J_{3,4} -J_{3,6} -J_{3,7} -J_{4,5} -J_{4,8} -J_{5,6} -J_{5,7} -J_{6,8} -J_{7,8}$"
      ],
      "text/plain": [
       "<IPython.core.display.Math object>"
      ]
     },
     "metadata": {},
     "output_type": "display_data"
    },
    {
     "data": {
      "text/latex": [
       "$\\displaystyle 41: (-1, -1, 1, -1, 1, -1, -1, 1) < (-1, -1, -1, -1, -1, -1, -1, -1)\\iff0 < -h_{3} -h_{5} -h_{8} +J_{1,3} +J_{1,5} +J_{1,8} +J_{2,3} +J_{2,5} +J_{2,8} +J_{3,4} +J_{3,6} +J_{3,7} +J_{4,5} +J_{4,8} +J_{5,6} +J_{5,7} +J_{6,8} +J_{7,8}$"
      ],
      "text/plain": [
       "<IPython.core.display.Math object>"
      ]
     },
     "metadata": {},
     "output_type": "display_data"
    },
    {
     "data": {
      "text/latex": [
       "$\\displaystyle 42: (-1, -1, -1, -1, -1, -1, -1, -1) < (-1, -1, 1, -1, 1, -1, 1, -1)\\iff0 < +h_{3} +h_{5} +h_{7} -J_{1,3} -J_{1,5} -J_{1,7} -J_{2,3} -J_{2,5} -J_{2,7} -J_{3,4} -J_{3,6} -J_{3,8} -J_{4,5} -J_{4,7} -J_{5,6} -J_{5,8} -J_{6,7} -J_{7,8}$"
      ],
      "text/plain": [
       "<IPython.core.display.Math object>"
      ]
     },
     "metadata": {},
     "output_type": "display_data"
    },
    {
     "data": {
      "text/latex": [
       "$\\displaystyle 42: (-1, -1, 1, -1, 1, -1, 1, -1) < (-1, -1, -1, -1, -1, -1, -1, -1)\\iff0 < -h_{3} -h_{5} -h_{7} +J_{1,3} +J_{1,5} +J_{1,7} +J_{2,3} +J_{2,5} +J_{2,7} +J_{3,4} +J_{3,6} +J_{3,8} +J_{4,5} +J_{4,7} +J_{5,6} +J_{5,8} +J_{6,7} +J_{7,8}$"
      ],
      "text/plain": [
       "<IPython.core.display.Math object>"
      ]
     },
     "metadata": {},
     "output_type": "display_data"
    },
    {
     "data": {
      "text/latex": [
       "$\\displaystyle 43: (-1, -1, -1, -1, -1, -1, -1, -1) < (-1, -1, 1, -1, 1, -1, 1, 1)\\iff0 < +h_{3} +h_{5} +h_{7} +h_{8} -J_{1,3} -J_{1,5} -J_{1,7} -J_{1,8} -J_{2,3} -J_{2,5} -J_{2,7} -J_{2,8} -J_{3,4} -J_{3,6} -J_{4,5} -J_{4,7} -J_{4,8} -J_{5,6} -J_{6,7} -J_{6,8}$"
      ],
      "text/plain": [
       "<IPython.core.display.Math object>"
      ]
     },
     "metadata": {},
     "output_type": "display_data"
    },
    {
     "data": {
      "text/latex": [
       "$\\displaystyle 43: (-1, -1, 1, -1, 1, -1, 1, 1) < (-1, -1, -1, -1, -1, -1, -1, -1)\\iff0 < -h_{3} -h_{5} -h_{7} -h_{8} +J_{1,3} +J_{1,5} +J_{1,7} +J_{1,8} +J_{2,3} +J_{2,5} +J_{2,7} +J_{2,8} +J_{3,4} +J_{3,6} +J_{4,5} +J_{4,7} +J_{4,8} +J_{5,6} +J_{6,7} +J_{6,8}$"
      ],
      "text/plain": [
       "<IPython.core.display.Math object>"
      ]
     },
     "metadata": {},
     "output_type": "display_data"
    },
    {
     "data": {
      "text/latex": [
       "$\\displaystyle 44: (-1, -1, -1, -1, -1, -1, -1, -1) < (-1, -1, 1, -1, 1, 1, -1, -1)\\iff0 < +h_{3} +h_{5} +h_{6} -J_{1,3} -J_{1,5} -J_{1,6} -J_{2,3} -J_{2,5} -J_{2,6} -J_{3,4} -J_{3,7} -J_{3,8} -J_{4,5} -J_{4,6} -J_{5,7} -J_{5,8} -J_{6,7} -J_{6,8}$"
      ],
      "text/plain": [
       "<IPython.core.display.Math object>"
      ]
     },
     "metadata": {},
     "output_type": "display_data"
    },
    {
     "data": {
      "text/latex": [
       "$\\displaystyle 44: (-1, -1, 1, -1, 1, 1, -1, -1) < (-1, -1, -1, -1, -1, -1, -1, -1)\\iff0 < -h_{3} -h_{5} -h_{6} +J_{1,3} +J_{1,5} +J_{1,6} +J_{2,3} +J_{2,5} +J_{2,6} +J_{3,4} +J_{3,7} +J_{3,8} +J_{4,5} +J_{4,6} +J_{5,7} +J_{5,8} +J_{6,7} +J_{6,8}$"
      ],
      "text/plain": [
       "<IPython.core.display.Math object>"
      ]
     },
     "metadata": {},
     "output_type": "display_data"
    },
    {
     "data": {
      "text/latex": [
       "$\\displaystyle 45: (-1, -1, -1, -1, -1, -1, -1, -1) < (-1, -1, 1, -1, 1, 1, -1, 1)\\iff0 < +h_{3} +h_{5} +h_{6} +h_{8} -J_{1,3} -J_{1,5} -J_{1,6} -J_{1,8} -J_{2,3} -J_{2,5} -J_{2,6} -J_{2,8} -J_{3,4} -J_{3,7} -J_{4,5} -J_{4,6} -J_{4,8} -J_{5,7} -J_{6,7} -J_{7,8}$"
      ],
      "text/plain": [
       "<IPython.core.display.Math object>"
      ]
     },
     "metadata": {},
     "output_type": "display_data"
    },
    {
     "data": {
      "text/latex": [
       "$\\displaystyle 45: (-1, -1, 1, -1, 1, 1, -1, 1) < (-1, -1, -1, -1, -1, -1, -1, -1)\\iff0 < -h_{3} -h_{5} -h_{6} -h_{8} +J_{1,3} +J_{1,5} +J_{1,6} +J_{1,8} +J_{2,3} +J_{2,5} +J_{2,6} +J_{2,8} +J_{3,4} +J_{3,7} +J_{4,5} +J_{4,6} +J_{4,8} +J_{5,7} +J_{6,7} +J_{7,8}$"
      ],
      "text/plain": [
       "<IPython.core.display.Math object>"
      ]
     },
     "metadata": {},
     "output_type": "display_data"
    },
    {
     "data": {
      "text/latex": [
       "$\\displaystyle 46: (-1, -1, -1, -1, -1, -1, -1, -1) < (-1, -1, 1, -1, 1, 1, 1, -1)\\iff0 < +h_{3} +h_{5} +h_{6} +h_{7} -J_{1,3} -J_{1,5} -J_{1,6} -J_{1,7} -J_{2,3} -J_{2,5} -J_{2,6} -J_{2,7} -J_{3,4} -J_{3,8} -J_{4,5} -J_{4,6} -J_{4,7} -J_{5,8} -J_{6,8} -J_{7,8}$"
      ],
      "text/plain": [
       "<IPython.core.display.Math object>"
      ]
     },
     "metadata": {},
     "output_type": "display_data"
    },
    {
     "data": {
      "text/latex": [
       "$\\displaystyle 46: (-1, -1, 1, -1, 1, 1, 1, -1) < (-1, -1, -1, -1, -1, -1, -1, -1)\\iff0 < -h_{3} -h_{5} -h_{6} -h_{7} +J_{1,3} +J_{1,5} +J_{1,6} +J_{1,7} +J_{2,3} +J_{2,5} +J_{2,6} +J_{2,7} +J_{3,4} +J_{3,8} +J_{4,5} +J_{4,6} +J_{4,7} +J_{5,8} +J_{6,8} +J_{7,8}$"
      ],
      "text/plain": [
       "<IPython.core.display.Math object>"
      ]
     },
     "metadata": {},
     "output_type": "display_data"
    },
    {
     "data": {
      "text/latex": [
       "$\\displaystyle 47: (-1, -1, -1, -1, -1, -1, -1, -1) < (-1, -1, 1, -1, 1, 1, 1, 1)\\iff0 < +h_{3} +h_{5} +h_{6} +h_{7} +h_{8} -J_{1,3} -J_{1,5} -J_{1,6} -J_{1,7} -J_{1,8} -J_{2,3} -J_{2,5} -J_{2,6} -J_{2,7} -J_{2,8} -J_{3,4} -J_{4,5} -J_{4,6} -J_{4,7} -J_{4,8}$"
      ],
      "text/plain": [
       "<IPython.core.display.Math object>"
      ]
     },
     "metadata": {},
     "output_type": "display_data"
    },
    {
     "data": {
      "text/latex": [
       "$\\displaystyle 47: (-1, -1, 1, -1, 1, 1, 1, 1) < (-1, -1, -1, -1, -1, -1, -1, -1)\\iff0 < -h_{3} -h_{5} -h_{6} -h_{7} -h_{8} +J_{1,3} +J_{1,5} +J_{1,6} +J_{1,7} +J_{1,8} +J_{2,3} +J_{2,5} +J_{2,6} +J_{2,7} +J_{2,8} +J_{3,4} +J_{4,5} +J_{4,6} +J_{4,7} +J_{4,8}$"
      ],
      "text/plain": [
       "<IPython.core.display.Math object>"
      ]
     },
     "metadata": {},
     "output_type": "display_data"
    },
    {
     "data": {
      "text/latex": [
       "$\\displaystyle 48: (-1, -1, -1, -1, -1, -1, -1, -1) < (-1, -1, 1, 1, -1, -1, -1, -1)\\iff0 < +h_{3} +h_{4} -J_{1,3} -J_{1,4} -J_{2,3} -J_{2,4} -J_{3,5} -J_{3,6} -J_{3,7} -J_{3,8} -J_{4,5} -J_{4,6} -J_{4,7} -J_{4,8}$"
      ],
      "text/plain": [
       "<IPython.core.display.Math object>"
      ]
     },
     "metadata": {},
     "output_type": "display_data"
    },
    {
     "data": {
      "text/latex": [
       "$\\displaystyle 48: (-1, -1, 1, 1, -1, -1, -1, -1) < (-1, -1, -1, -1, -1, -1, -1, -1)\\iff0 < -h_{3} -h_{4} +J_{1,3} +J_{1,4} +J_{2,3} +J_{2,4} +J_{3,5} +J_{3,6} +J_{3,7} +J_{3,8} +J_{4,5} +J_{4,6} +J_{4,7} +J_{4,8}$"
      ],
      "text/plain": [
       "<IPython.core.display.Math object>"
      ]
     },
     "metadata": {},
     "output_type": "display_data"
    },
    {
     "data": {
      "text/latex": [
       "$\\displaystyle 49: (-1, -1, -1, -1, -1, -1, -1, -1) < (-1, -1, 1, 1, -1, -1, -1, 1)\\iff0 < +h_{3} +h_{4} +h_{8} -J_{1,3} -J_{1,4} -J_{1,8} -J_{2,3} -J_{2,4} -J_{2,8} -J_{3,5} -J_{3,6} -J_{3,7} -J_{4,5} -J_{4,6} -J_{4,7} -J_{5,8} -J_{6,8} -J_{7,8}$"
      ],
      "text/plain": [
       "<IPython.core.display.Math object>"
      ]
     },
     "metadata": {},
     "output_type": "display_data"
    },
    {
     "data": {
      "text/latex": [
       "$\\displaystyle 49: (-1, -1, 1, 1, -1, -1, -1, 1) < (-1, -1, -1, -1, -1, -1, -1, -1)\\iff0 < -h_{3} -h_{4} -h_{8} +J_{1,3} +J_{1,4} +J_{1,8} +J_{2,3} +J_{2,4} +J_{2,8} +J_{3,5} +J_{3,6} +J_{3,7} +J_{4,5} +J_{4,6} +J_{4,7} +J_{5,8} +J_{6,8} +J_{7,8}$"
      ],
      "text/plain": [
       "<IPython.core.display.Math object>"
      ]
     },
     "metadata": {},
     "output_type": "display_data"
    },
    {
     "data": {
      "text/latex": [
       "$\\displaystyle 50: (-1, -1, -1, -1, -1, -1, -1, -1) < (-1, -1, 1, 1, -1, -1, 1, -1)\\iff0 < +h_{3} +h_{4} +h_{7} -J_{1,3} -J_{1,4} -J_{1,7} -J_{2,3} -J_{2,4} -J_{2,7} -J_{3,5} -J_{3,6} -J_{3,8} -J_{4,5} -J_{4,6} -J_{4,8} -J_{5,7} -J_{6,7} -J_{7,8}$"
      ],
      "text/plain": [
       "<IPython.core.display.Math object>"
      ]
     },
     "metadata": {},
     "output_type": "display_data"
    },
    {
     "data": {
      "text/latex": [
       "$\\displaystyle 50: (-1, -1, 1, 1, -1, -1, 1, -1) < (-1, -1, -1, -1, -1, -1, -1, -1)\\iff0 < -h_{3} -h_{4} -h_{7} +J_{1,3} +J_{1,4} +J_{1,7} +J_{2,3} +J_{2,4} +J_{2,7} +J_{3,5} +J_{3,6} +J_{3,8} +J_{4,5} +J_{4,6} +J_{4,8} +J_{5,7} +J_{6,7} +J_{7,8}$"
      ],
      "text/plain": [
       "<IPython.core.display.Math object>"
      ]
     },
     "metadata": {},
     "output_type": "display_data"
    },
    {
     "data": {
      "text/latex": [
       "$\\displaystyle 51: (-1, -1, -1, -1, -1, -1, -1, -1) < (-1, -1, 1, 1, -1, -1, 1, 1)\\iff0 < +h_{3} +h_{4} +h_{7} +h_{8} -J_{1,3} -J_{1,4} -J_{1,7} -J_{1,8} -J_{2,3} -J_{2,4} -J_{2,7} -J_{2,8} -J_{3,5} -J_{3,6} -J_{4,5} -J_{4,6} -J_{5,7} -J_{5,8} -J_{6,7} -J_{6,8}$"
      ],
      "text/plain": [
       "<IPython.core.display.Math object>"
      ]
     },
     "metadata": {},
     "output_type": "display_data"
    },
    {
     "data": {
      "text/latex": [
       "$\\displaystyle 51: (-1, -1, 1, 1, -1, -1, 1, 1) < (-1, -1, -1, -1, -1, -1, -1, -1)\\iff0 < -h_{3} -h_{4} -h_{7} -h_{8} +J_{1,3} +J_{1,4} +J_{1,7} +J_{1,8} +J_{2,3} +J_{2,4} +J_{2,7} +J_{2,8} +J_{3,5} +J_{3,6} +J_{4,5} +J_{4,6} +J_{5,7} +J_{5,8} +J_{6,7} +J_{6,8}$"
      ],
      "text/plain": [
       "<IPython.core.display.Math object>"
      ]
     },
     "metadata": {},
     "output_type": "display_data"
    },
    {
     "data": {
      "text/latex": [
       "$\\displaystyle 52: (-1, -1, -1, -1, -1, -1, -1, -1) < (-1, -1, 1, 1, -1, 1, -1, -1)\\iff0 < +h_{3} +h_{4} +h_{6} -J_{1,3} -J_{1,4} -J_{1,6} -J_{2,3} -J_{2,4} -J_{2,6} -J_{3,5} -J_{3,7} -J_{3,8} -J_{4,5} -J_{4,7} -J_{4,8} -J_{5,6} -J_{6,7} -J_{6,8}$"
      ],
      "text/plain": [
       "<IPython.core.display.Math object>"
      ]
     },
     "metadata": {},
     "output_type": "display_data"
    },
    {
     "data": {
      "text/latex": [
       "$\\displaystyle 52: (-1, -1, 1, 1, -1, 1, -1, -1) < (-1, -1, -1, -1, -1, -1, -1, -1)\\iff0 < -h_{3} -h_{4} -h_{6} +J_{1,3} +J_{1,4} +J_{1,6} +J_{2,3} +J_{2,4} +J_{2,6} +J_{3,5} +J_{3,7} +J_{3,8} +J_{4,5} +J_{4,7} +J_{4,8} +J_{5,6} +J_{6,7} +J_{6,8}$"
      ],
      "text/plain": [
       "<IPython.core.display.Math object>"
      ]
     },
     "metadata": {},
     "output_type": "display_data"
    },
    {
     "data": {
      "text/latex": [
       "$\\displaystyle 53: (-1, -1, -1, -1, -1, -1, -1, -1) < (-1, -1, 1, 1, -1, 1, -1, 1)\\iff0 < +h_{3} +h_{4} +h_{6} +h_{8} -J_{1,3} -J_{1,4} -J_{1,6} -J_{1,8} -J_{2,3} -J_{2,4} -J_{2,6} -J_{2,8} -J_{3,5} -J_{3,7} -J_{4,5} -J_{4,7} -J_{5,6} -J_{5,8} -J_{6,7} -J_{7,8}$"
      ],
      "text/plain": [
       "<IPython.core.display.Math object>"
      ]
     },
     "metadata": {},
     "output_type": "display_data"
    },
    {
     "data": {
      "text/latex": [
       "$\\displaystyle 53: (-1, -1, 1, 1, -1, 1, -1, 1) < (-1, -1, -1, -1, -1, -1, -1, -1)\\iff0 < -h_{3} -h_{4} -h_{6} -h_{8} +J_{1,3} +J_{1,4} +J_{1,6} +J_{1,8} +J_{2,3} +J_{2,4} +J_{2,6} +J_{2,8} +J_{3,5} +J_{3,7} +J_{4,5} +J_{4,7} +J_{5,6} +J_{5,8} +J_{6,7} +J_{7,8}$"
      ],
      "text/plain": [
       "<IPython.core.display.Math object>"
      ]
     },
     "metadata": {},
     "output_type": "display_data"
    },
    {
     "data": {
      "text/latex": [
       "$\\displaystyle 54: (-1, -1, -1, -1, -1, -1, -1, -1) < (-1, -1, 1, 1, -1, 1, 1, -1)\\iff0 < +h_{3} +h_{4} +h_{6} +h_{7} -J_{1,3} -J_{1,4} -J_{1,6} -J_{1,7} -J_{2,3} -J_{2,4} -J_{2,6} -J_{2,7} -J_{3,5} -J_{3,8} -J_{4,5} -J_{4,8} -J_{5,6} -J_{5,7} -J_{6,8} -J_{7,8}$"
      ],
      "text/plain": [
       "<IPython.core.display.Math object>"
      ]
     },
     "metadata": {},
     "output_type": "display_data"
    },
    {
     "data": {
      "text/latex": [
       "$\\displaystyle 54: (-1, -1, 1, 1, -1, 1, 1, -1) < (-1, -1, -1, -1, -1, -1, -1, -1)\\iff0 < -h_{3} -h_{4} -h_{6} -h_{7} +J_{1,3} +J_{1,4} +J_{1,6} +J_{1,7} +J_{2,3} +J_{2,4} +J_{2,6} +J_{2,7} +J_{3,5} +J_{3,8} +J_{4,5} +J_{4,8} +J_{5,6} +J_{5,7} +J_{6,8} +J_{7,8}$"
      ],
      "text/plain": [
       "<IPython.core.display.Math object>"
      ]
     },
     "metadata": {},
     "output_type": "display_data"
    },
    {
     "data": {
      "text/latex": [
       "$\\displaystyle 55: (-1, -1, -1, -1, -1, -1, -1, -1) < (-1, -1, 1, 1, -1, 1, 1, 1)\\iff0 < +h_{3} +h_{4} +h_{6} +h_{7} +h_{8} -J_{1,3} -J_{1,4} -J_{1,6} -J_{1,7} -J_{1,8} -J_{2,3} -J_{2,4} -J_{2,6} -J_{2,7} -J_{2,8} -J_{3,5} -J_{4,5} -J_{5,6} -J_{5,7} -J_{5,8}$"
      ],
      "text/plain": [
       "<IPython.core.display.Math object>"
      ]
     },
     "metadata": {},
     "output_type": "display_data"
    },
    {
     "data": {
      "text/latex": [
       "$\\displaystyle 55: (-1, -1, 1, 1, -1, 1, 1, 1) < (-1, -1, -1, -1, -1, -1, -1, -1)\\iff0 < -h_{3} -h_{4} -h_{6} -h_{7} -h_{8} +J_{1,3} +J_{1,4} +J_{1,6} +J_{1,7} +J_{1,8} +J_{2,3} +J_{2,4} +J_{2,6} +J_{2,7} +J_{2,8} +J_{3,5} +J_{4,5} +J_{5,6} +J_{5,7} +J_{5,8}$"
      ],
      "text/plain": [
       "<IPython.core.display.Math object>"
      ]
     },
     "metadata": {},
     "output_type": "display_data"
    },
    {
     "data": {
      "text/latex": [
       "$\\displaystyle 56: (-1, -1, -1, -1, -1, -1, -1, -1) < (-1, -1, 1, 1, 1, -1, -1, -1)\\iff0 < +h_{3} +h_{4} +h_{5} -J_{1,3} -J_{1,4} -J_{1,5} -J_{2,3} -J_{2,4} -J_{2,5} -J_{3,6} -J_{3,7} -J_{3,8} -J_{4,6} -J_{4,7} -J_{4,8} -J_{5,6} -J_{5,7} -J_{5,8}$"
      ],
      "text/plain": [
       "<IPython.core.display.Math object>"
      ]
     },
     "metadata": {},
     "output_type": "display_data"
    },
    {
     "data": {
      "text/latex": [
       "$\\displaystyle 56: (-1, -1, 1, 1, 1, -1, -1, -1) < (-1, -1, -1, -1, -1, -1, -1, -1)\\iff0 < -h_{3} -h_{4} -h_{5} +J_{1,3} +J_{1,4} +J_{1,5} +J_{2,3} +J_{2,4} +J_{2,5} +J_{3,6} +J_{3,7} +J_{3,8} +J_{4,6} +J_{4,7} +J_{4,8} +J_{5,6} +J_{5,7} +J_{5,8}$"
      ],
      "text/plain": [
       "<IPython.core.display.Math object>"
      ]
     },
     "metadata": {},
     "output_type": "display_data"
    },
    {
     "data": {
      "text/latex": [
       "$\\displaystyle 57: (-1, -1, -1, -1, -1, -1, -1, -1) < (-1, -1, 1, 1, 1, -1, -1, 1)\\iff0 < +h_{3} +h_{4} +h_{5} +h_{8} -J_{1,3} -J_{1,4} -J_{1,5} -J_{1,8} -J_{2,3} -J_{2,4} -J_{2,5} -J_{2,8} -J_{3,6} -J_{3,7} -J_{4,6} -J_{4,7} -J_{5,6} -J_{5,7} -J_{6,8} -J_{7,8}$"
      ],
      "text/plain": [
       "<IPython.core.display.Math object>"
      ]
     },
     "metadata": {},
     "output_type": "display_data"
    },
    {
     "data": {
      "text/latex": [
       "$\\displaystyle 57: (-1, -1, 1, 1, 1, -1, -1, 1) < (-1, -1, -1, -1, -1, -1, -1, -1)\\iff0 < -h_{3} -h_{4} -h_{5} -h_{8} +J_{1,3} +J_{1,4} +J_{1,5} +J_{1,8} +J_{2,3} +J_{2,4} +J_{2,5} +J_{2,8} +J_{3,6} +J_{3,7} +J_{4,6} +J_{4,7} +J_{5,6} +J_{5,7} +J_{6,8} +J_{7,8}$"
      ],
      "text/plain": [
       "<IPython.core.display.Math object>"
      ]
     },
     "metadata": {},
     "output_type": "display_data"
    },
    {
     "data": {
      "text/latex": [
       "$\\displaystyle 58: (-1, -1, -1, -1, -1, -1, -1, -1) < (-1, -1, 1, 1, 1, -1, 1, -1)\\iff0 < +h_{3} +h_{4} +h_{5} +h_{7} -J_{1,3} -J_{1,4} -J_{1,5} -J_{1,7} -J_{2,3} -J_{2,4} -J_{2,5} -J_{2,7} -J_{3,6} -J_{3,8} -J_{4,6} -J_{4,8} -J_{5,6} -J_{5,8} -J_{6,7} -J_{7,8}$"
      ],
      "text/plain": [
       "<IPython.core.display.Math object>"
      ]
     },
     "metadata": {},
     "output_type": "display_data"
    },
    {
     "data": {
      "text/latex": [
       "$\\displaystyle 58: (-1, -1, 1, 1, 1, -1, 1, -1) < (-1, -1, -1, -1, -1, -1, -1, -1)\\iff0 < -h_{3} -h_{4} -h_{5} -h_{7} +J_{1,3} +J_{1,4} +J_{1,5} +J_{1,7} +J_{2,3} +J_{2,4} +J_{2,5} +J_{2,7} +J_{3,6} +J_{3,8} +J_{4,6} +J_{4,8} +J_{5,6} +J_{5,8} +J_{6,7} +J_{7,8}$"
      ],
      "text/plain": [
       "<IPython.core.display.Math object>"
      ]
     },
     "metadata": {},
     "output_type": "display_data"
    },
    {
     "data": {
      "text/latex": [
       "$\\displaystyle 59: (-1, -1, -1, -1, -1, -1, -1, -1) < (-1, -1, 1, 1, 1, -1, 1, 1)\\iff0 < +h_{3} +h_{4} +h_{5} +h_{7} +h_{8} -J_{1,3} -J_{1,4} -J_{1,5} -J_{1,7} -J_{1,8} -J_{2,3} -J_{2,4} -J_{2,5} -J_{2,7} -J_{2,8} -J_{3,6} -J_{4,6} -J_{5,6} -J_{6,7} -J_{6,8}$"
      ],
      "text/plain": [
       "<IPython.core.display.Math object>"
      ]
     },
     "metadata": {},
     "output_type": "display_data"
    },
    {
     "data": {
      "text/latex": [
       "$\\displaystyle 59: (-1, -1, 1, 1, 1, -1, 1, 1) < (-1, -1, -1, -1, -1, -1, -1, -1)\\iff0 < -h_{3} -h_{4} -h_{5} -h_{7} -h_{8} +J_{1,3} +J_{1,4} +J_{1,5} +J_{1,7} +J_{1,8} +J_{2,3} +J_{2,4} +J_{2,5} +J_{2,7} +J_{2,8} +J_{3,6} +J_{4,6} +J_{5,6} +J_{6,7} +J_{6,8}$"
      ],
      "text/plain": [
       "<IPython.core.display.Math object>"
      ]
     },
     "metadata": {},
     "output_type": "display_data"
    },
    {
     "data": {
      "text/latex": [
       "$\\displaystyle 60: (-1, -1, -1, -1, -1, -1, -1, -1) < (-1, -1, 1, 1, 1, 1, -1, -1)\\iff0 < +h_{3} +h_{4} +h_{5} +h_{6} -J_{1,3} -J_{1,4} -J_{1,5} -J_{1,6} -J_{2,3} -J_{2,4} -J_{2,5} -J_{2,6} -J_{3,7} -J_{3,8} -J_{4,7} -J_{4,8} -J_{5,7} -J_{5,8} -J_{6,7} -J_{6,8}$"
      ],
      "text/plain": [
       "<IPython.core.display.Math object>"
      ]
     },
     "metadata": {},
     "output_type": "display_data"
    },
    {
     "data": {
      "text/latex": [
       "$\\displaystyle 60: (-1, -1, 1, 1, 1, 1, -1, -1) < (-1, -1, -1, -1, -1, -1, -1, -1)\\iff0 < -h_{3} -h_{4} -h_{5} -h_{6} +J_{1,3} +J_{1,4} +J_{1,5} +J_{1,6} +J_{2,3} +J_{2,4} +J_{2,5} +J_{2,6} +J_{3,7} +J_{3,8} +J_{4,7} +J_{4,8} +J_{5,7} +J_{5,8} +J_{6,7} +J_{6,8}$"
      ],
      "text/plain": [
       "<IPython.core.display.Math object>"
      ]
     },
     "metadata": {},
     "output_type": "display_data"
    },
    {
     "data": {
      "text/latex": [
       "$\\displaystyle 61: (-1, -1, -1, -1, -1, -1, -1, -1) < (-1, -1, 1, 1, 1, 1, -1, 1)\\iff0 < +h_{3} +h_{4} +h_{5} +h_{6} +h_{8} -J_{1,3} -J_{1,4} -J_{1,5} -J_{1,6} -J_{1,8} -J_{2,3} -J_{2,4} -J_{2,5} -J_{2,6} -J_{2,8} -J_{3,7} -J_{4,7} -J_{5,7} -J_{6,7} -J_{7,8}$"
      ],
      "text/plain": [
       "<IPython.core.display.Math object>"
      ]
     },
     "metadata": {},
     "output_type": "display_data"
    },
    {
     "data": {
      "text/latex": [
       "$\\displaystyle 61: (-1, -1, 1, 1, 1, 1, -1, 1) < (-1, -1, -1, -1, -1, -1, -1, -1)\\iff0 < -h_{3} -h_{4} -h_{5} -h_{6} -h_{8} +J_{1,3} +J_{1,4} +J_{1,5} +J_{1,6} +J_{1,8} +J_{2,3} +J_{2,4} +J_{2,5} +J_{2,6} +J_{2,8} +J_{3,7} +J_{4,7} +J_{5,7} +J_{6,7} +J_{7,8}$"
      ],
      "text/plain": [
       "<IPython.core.display.Math object>"
      ]
     },
     "metadata": {},
     "output_type": "display_data"
    },
    {
     "data": {
      "text/latex": [
       "$\\displaystyle 62: (-1, -1, -1, -1, -1, -1, -1, -1) < (-1, -1, 1, 1, 1, 1, 1, -1)\\iff0 < +h_{3} +h_{4} +h_{5} +h_{6} +h_{7} -J_{1,3} -J_{1,4} -J_{1,5} -J_{1,6} -J_{1,7} -J_{2,3} -J_{2,4} -J_{2,5} -J_{2,6} -J_{2,7} -J_{3,8} -J_{4,8} -J_{5,8} -J_{6,8} -J_{7,8}$"
      ],
      "text/plain": [
       "<IPython.core.display.Math object>"
      ]
     },
     "metadata": {},
     "output_type": "display_data"
    },
    {
     "data": {
      "text/latex": [
       "$\\displaystyle 62: (-1, -1, 1, 1, 1, 1, 1, -1) < (-1, -1, -1, -1, -1, -1, -1, -1)\\iff0 < -h_{3} -h_{4} -h_{5} -h_{6} -h_{7} +J_{1,3} +J_{1,4} +J_{1,5} +J_{1,6} +J_{1,7} +J_{2,3} +J_{2,4} +J_{2,5} +J_{2,6} +J_{2,7} +J_{3,8} +J_{4,8} +J_{5,8} +J_{6,8} +J_{7,8}$"
      ],
      "text/plain": [
       "<IPython.core.display.Math object>"
      ]
     },
     "metadata": {},
     "output_type": "display_data"
    },
    {
     "data": {
      "text/latex": [
       "$\\displaystyle 63: (-1, -1, -1, -1, -1, -1, -1, -1) < (-1, -1, 1, 1, 1, 1, 1, 1)\\iff0 < +h_{3} +h_{4} +h_{5} +h_{6} +h_{7} +h_{8} -J_{1,3} -J_{1,4} -J_{1,5} -J_{1,6} -J_{1,7} -J_{1,8} -J_{2,3} -J_{2,4} -J_{2,5} -J_{2,6} -J_{2,7} -J_{2,8}$"
      ],
      "text/plain": [
       "<IPython.core.display.Math object>"
      ]
     },
     "metadata": {},
     "output_type": "display_data"
    },
    {
     "data": {
      "text/latex": [
       "$\\displaystyle 63: (-1, -1, 1, 1, 1, 1, 1, 1) < (-1, -1, -1, -1, -1, -1, -1, -1)\\iff0 < -h_{3} -h_{4} -h_{5} -h_{6} -h_{7} -h_{8} +J_{1,3} +J_{1,4} +J_{1,5} +J_{1,6} +J_{1,7} +J_{1,8} +J_{2,3} +J_{2,4} +J_{2,5} +J_{2,6} +J_{2,7} +J_{2,8}$"
      ],
      "text/plain": [
       "<IPython.core.display.Math object>"
      ]
     },
     "metadata": {},
     "output_type": "display_data"
    },
    {
     "data": {
      "text/latex": [
       "$\\displaystyle 64: (-1, -1, -1, -1, -1, -1, -1, -1) < (-1, 1, -1, -1, -1, -1, -1, -1)\\iff0 < +h_{2} -J_{1,2} -J_{2,3} -J_{2,4} -J_{2,5} -J_{2,6} -J_{2,7} -J_{2,8}$"
      ],
      "text/plain": [
       "<IPython.core.display.Math object>"
      ]
     },
     "metadata": {},
     "output_type": "display_data"
    },
    {
     "data": {
      "text/latex": [
       "$\\displaystyle 64: (-1, 1, -1, -1, -1, -1, -1, -1) < (-1, -1, -1, -1, -1, -1, -1, -1)\\iff0 < -h_{2} +J_{1,2} +J_{2,3} +J_{2,4} +J_{2,5} +J_{2,6} +J_{2,7} +J_{2,8}$"
      ],
      "text/plain": [
       "<IPython.core.display.Math object>"
      ]
     },
     "metadata": {},
     "output_type": "display_data"
    },
    {
     "data": {
      "text/latex": [
       "$\\displaystyle 65: (-1, -1, -1, -1, -1, -1, -1, -1) < (-1, 1, -1, -1, -1, -1, -1, 1)\\iff0 < +h_{2} +h_{8} -J_{1,2} -J_{1,8} -J_{2,3} -J_{2,4} -J_{2,5} -J_{2,6} -J_{2,7} -J_{3,8} -J_{4,8} -J_{5,8} -J_{6,8} -J_{7,8}$"
      ],
      "text/plain": [
       "<IPython.core.display.Math object>"
      ]
     },
     "metadata": {},
     "output_type": "display_data"
    },
    {
     "data": {
      "text/latex": [
       "$\\displaystyle 65: (-1, 1, -1, -1, -1, -1, -1, 1) < (-1, -1, -1, -1, -1, -1, -1, -1)\\iff0 < -h_{2} -h_{8} +J_{1,2} +J_{1,8} +J_{2,3} +J_{2,4} +J_{2,5} +J_{2,6} +J_{2,7} +J_{3,8} +J_{4,8} +J_{5,8} +J_{6,8} +J_{7,8}$"
      ],
      "text/plain": [
       "<IPython.core.display.Math object>"
      ]
     },
     "metadata": {},
     "output_type": "display_data"
    },
    {
     "data": {
      "text/latex": [
       "$\\displaystyle 66: (-1, -1, -1, -1, -1, -1, -1, -1) < (-1, 1, -1, -1, -1, -1, 1, -1)\\iff0 < +h_{2} +h_{7} -J_{1,2} -J_{1,7} -J_{2,3} -J_{2,4} -J_{2,5} -J_{2,6} -J_{2,8} -J_{3,7} -J_{4,7} -J_{5,7} -J_{6,7} -J_{7,8}$"
      ],
      "text/plain": [
       "<IPython.core.display.Math object>"
      ]
     },
     "metadata": {},
     "output_type": "display_data"
    },
    {
     "data": {
      "text/latex": [
       "$\\displaystyle 66: (-1, 1, -1, -1, -1, -1, 1, -1) < (-1, -1, -1, -1, -1, -1, -1, -1)\\iff0 < -h_{2} -h_{7} +J_{1,2} +J_{1,7} +J_{2,3} +J_{2,4} +J_{2,5} +J_{2,6} +J_{2,8} +J_{3,7} +J_{4,7} +J_{5,7} +J_{6,7} +J_{7,8}$"
      ],
      "text/plain": [
       "<IPython.core.display.Math object>"
      ]
     },
     "metadata": {},
     "output_type": "display_data"
    },
    {
     "data": {
      "text/latex": [
       "$\\displaystyle 67: (-1, -1, -1, -1, -1, -1, -1, -1) < (-1, 1, -1, -1, -1, -1, 1, 1)\\iff0 < +h_{2} +h_{7} +h_{8} -J_{1,2} -J_{1,7} -J_{1,8} -J_{2,3} -J_{2,4} -J_{2,5} -J_{2,6} -J_{3,7} -J_{3,8} -J_{4,7} -J_{4,8} -J_{5,7} -J_{5,8} -J_{6,7} -J_{6,8}$"
      ],
      "text/plain": [
       "<IPython.core.display.Math object>"
      ]
     },
     "metadata": {},
     "output_type": "display_data"
    },
    {
     "data": {
      "text/latex": [
       "$\\displaystyle 67: (-1, 1, -1, -1, -1, -1, 1, 1) < (-1, -1, -1, -1, -1, -1, -1, -1)\\iff0 < -h_{2} -h_{7} -h_{8} +J_{1,2} +J_{1,7} +J_{1,8} +J_{2,3} +J_{2,4} +J_{2,5} +J_{2,6} +J_{3,7} +J_{3,8} +J_{4,7} +J_{4,8} +J_{5,7} +J_{5,8} +J_{6,7} +J_{6,8}$"
      ],
      "text/plain": [
       "<IPython.core.display.Math object>"
      ]
     },
     "metadata": {},
     "output_type": "display_data"
    },
    {
     "data": {
      "text/latex": [
       "$\\displaystyle 68: (-1, -1, -1, -1, -1, -1, -1, -1) < (-1, 1, -1, -1, -1, 1, -1, -1)\\iff0 < +h_{2} +h_{6} -J_{1,2} -J_{1,6} -J_{2,3} -J_{2,4} -J_{2,5} -J_{2,7} -J_{2,8} -J_{3,6} -J_{4,6} -J_{5,6} -J_{6,7} -J_{6,8}$"
      ],
      "text/plain": [
       "<IPython.core.display.Math object>"
      ]
     },
     "metadata": {},
     "output_type": "display_data"
    },
    {
     "data": {
      "text/latex": [
       "$\\displaystyle 68: (-1, 1, -1, -1, -1, 1, -1, -1) < (-1, -1, -1, -1, -1, -1, -1, -1)\\iff0 < -h_{2} -h_{6} +J_{1,2} +J_{1,6} +J_{2,3} +J_{2,4} +J_{2,5} +J_{2,7} +J_{2,8} +J_{3,6} +J_{4,6} +J_{5,6} +J_{6,7} +J_{6,8}$"
      ],
      "text/plain": [
       "<IPython.core.display.Math object>"
      ]
     },
     "metadata": {},
     "output_type": "display_data"
    },
    {
     "data": {
      "text/latex": [
       "$\\displaystyle 69: (-1, -1, -1, -1, -1, -1, -1, -1) < (-1, 1, -1, -1, -1, 1, -1, 1)\\iff0 < +h_{2} +h_{6} +h_{8} -J_{1,2} -J_{1,6} -J_{1,8} -J_{2,3} -J_{2,4} -J_{2,5} -J_{2,7} -J_{3,6} -J_{3,8} -J_{4,6} -J_{4,8} -J_{5,6} -J_{5,8} -J_{6,7} -J_{7,8}$"
      ],
      "text/plain": [
       "<IPython.core.display.Math object>"
      ]
     },
     "metadata": {},
     "output_type": "display_data"
    },
    {
     "data": {
      "text/latex": [
       "$\\displaystyle 69: (-1, 1, -1, -1, -1, 1, -1, 1) < (-1, -1, -1, -1, -1, -1, -1, -1)\\iff0 < -h_{2} -h_{6} -h_{8} +J_{1,2} +J_{1,6} +J_{1,8} +J_{2,3} +J_{2,4} +J_{2,5} +J_{2,7} +J_{3,6} +J_{3,8} +J_{4,6} +J_{4,8} +J_{5,6} +J_{5,8} +J_{6,7} +J_{7,8}$"
      ],
      "text/plain": [
       "<IPython.core.display.Math object>"
      ]
     },
     "metadata": {},
     "output_type": "display_data"
    },
    {
     "data": {
      "text/latex": [
       "$\\displaystyle 70: (-1, -1, -1, -1, -1, -1, -1, -1) < (-1, 1, -1, -1, -1, 1, 1, -1)\\iff0 < +h_{2} +h_{6} +h_{7} -J_{1,2} -J_{1,6} -J_{1,7} -J_{2,3} -J_{2,4} -J_{2,5} -J_{2,8} -J_{3,6} -J_{3,7} -J_{4,6} -J_{4,7} -J_{5,6} -J_{5,7} -J_{6,8} -J_{7,8}$"
      ],
      "text/plain": [
       "<IPython.core.display.Math object>"
      ]
     },
     "metadata": {},
     "output_type": "display_data"
    },
    {
     "data": {
      "text/latex": [
       "$\\displaystyle 70: (-1, 1, -1, -1, -1, 1, 1, -1) < (-1, -1, -1, -1, -1, -1, -1, -1)\\iff0 < -h_{2} -h_{6} -h_{7} +J_{1,2} +J_{1,6} +J_{1,7} +J_{2,3} +J_{2,4} +J_{2,5} +J_{2,8} +J_{3,6} +J_{3,7} +J_{4,6} +J_{4,7} +J_{5,6} +J_{5,7} +J_{6,8} +J_{7,8}$"
      ],
      "text/plain": [
       "<IPython.core.display.Math object>"
      ]
     },
     "metadata": {},
     "output_type": "display_data"
    },
    {
     "data": {
      "text/latex": [
       "$\\displaystyle 71: (-1, -1, -1, -1, -1, -1, -1, -1) < (-1, 1, -1, -1, -1, 1, 1, 1)\\iff0 < +h_{2} +h_{6} +h_{7} +h_{8} -J_{1,2} -J_{1,6} -J_{1,7} -J_{1,8} -J_{2,3} -J_{2,4} -J_{2,5} -J_{3,6} -J_{3,7} -J_{3,8} -J_{4,6} -J_{4,7} -J_{4,8} -J_{5,6} -J_{5,7} -J_{5,8}$"
      ],
      "text/plain": [
       "<IPython.core.display.Math object>"
      ]
     },
     "metadata": {},
     "output_type": "display_data"
    },
    {
     "data": {
      "text/latex": [
       "$\\displaystyle 71: (-1, 1, -1, -1, -1, 1, 1, 1) < (-1, -1, -1, -1, -1, -1, -1, -1)\\iff0 < -h_{2} -h_{6} -h_{7} -h_{8} +J_{1,2} +J_{1,6} +J_{1,7} +J_{1,8} +J_{2,3} +J_{2,4} +J_{2,5} +J_{3,6} +J_{3,7} +J_{3,8} +J_{4,6} +J_{4,7} +J_{4,8} +J_{5,6} +J_{5,7} +J_{5,8}$"
      ],
      "text/plain": [
       "<IPython.core.display.Math object>"
      ]
     },
     "metadata": {},
     "output_type": "display_data"
    },
    {
     "data": {
      "text/latex": [
       "$\\displaystyle 72: (-1, -1, -1, -1, -1, -1, -1, -1) < (-1, 1, -1, -1, 1, -1, -1, -1)\\iff0 < +h_{2} +h_{5} -J_{1,2} -J_{1,5} -J_{2,3} -J_{2,4} -J_{2,6} -J_{2,7} -J_{2,8} -J_{3,5} -J_{4,5} -J_{5,6} -J_{5,7} -J_{5,8}$"
      ],
      "text/plain": [
       "<IPython.core.display.Math object>"
      ]
     },
     "metadata": {},
     "output_type": "display_data"
    },
    {
     "data": {
      "text/latex": [
       "$\\displaystyle 72: (-1, 1, -1, -1, 1, -1, -1, -1) < (-1, -1, -1, -1, -1, -1, -1, -1)\\iff0 < -h_{2} -h_{5} +J_{1,2} +J_{1,5} +J_{2,3} +J_{2,4} +J_{2,6} +J_{2,7} +J_{2,8} +J_{3,5} +J_{4,5} +J_{5,6} +J_{5,7} +J_{5,8}$"
      ],
      "text/plain": [
       "<IPython.core.display.Math object>"
      ]
     },
     "metadata": {},
     "output_type": "display_data"
    },
    {
     "data": {
      "text/latex": [
       "$\\displaystyle 73: (-1, -1, -1, -1, -1, -1, -1, -1) < (-1, 1, -1, -1, 1, -1, -1, 1)\\iff0 < +h_{2} +h_{5} +h_{8} -J_{1,2} -J_{1,5} -J_{1,8} -J_{2,3} -J_{2,4} -J_{2,6} -J_{2,7} -J_{3,5} -J_{3,8} -J_{4,5} -J_{4,8} -J_{5,6} -J_{5,7} -J_{6,8} -J_{7,8}$"
      ],
      "text/plain": [
       "<IPython.core.display.Math object>"
      ]
     },
     "metadata": {},
     "output_type": "display_data"
    },
    {
     "data": {
      "text/latex": [
       "$\\displaystyle 73: (-1, 1, -1, -1, 1, -1, -1, 1) < (-1, -1, -1, -1, -1, -1, -1, -1)\\iff0 < -h_{2} -h_{5} -h_{8} +J_{1,2} +J_{1,5} +J_{1,8} +J_{2,3} +J_{2,4} +J_{2,6} +J_{2,7} +J_{3,5} +J_{3,8} +J_{4,5} +J_{4,8} +J_{5,6} +J_{5,7} +J_{6,8} +J_{7,8}$"
      ],
      "text/plain": [
       "<IPython.core.display.Math object>"
      ]
     },
     "metadata": {},
     "output_type": "display_data"
    },
    {
     "data": {
      "text/latex": [
       "$\\displaystyle 74: (-1, -1, -1, -1, -1, -1, -1, -1) < (-1, 1, -1, -1, 1, -1, 1, -1)\\iff0 < +h_{2} +h_{5} +h_{7} -J_{1,2} -J_{1,5} -J_{1,7} -J_{2,3} -J_{2,4} -J_{2,6} -J_{2,8} -J_{3,5} -J_{3,7} -J_{4,5} -J_{4,7} -J_{5,6} -J_{5,8} -J_{6,7} -J_{7,8}$"
      ],
      "text/plain": [
       "<IPython.core.display.Math object>"
      ]
     },
     "metadata": {},
     "output_type": "display_data"
    },
    {
     "data": {
      "text/latex": [
       "$\\displaystyle 74: (-1, 1, -1, -1, 1, -1, 1, -1) < (-1, -1, -1, -1, -1, -1, -1, -1)\\iff0 < -h_{2} -h_{5} -h_{7} +J_{1,2} +J_{1,5} +J_{1,7} +J_{2,3} +J_{2,4} +J_{2,6} +J_{2,8} +J_{3,5} +J_{3,7} +J_{4,5} +J_{4,7} +J_{5,6} +J_{5,8} +J_{6,7} +J_{7,8}$"
      ],
      "text/plain": [
       "<IPython.core.display.Math object>"
      ]
     },
     "metadata": {},
     "output_type": "display_data"
    },
    {
     "data": {
      "text/latex": [
       "$\\displaystyle 75: (-1, -1, -1, -1, -1, -1, -1, -1) < (-1, 1, -1, -1, 1, -1, 1, 1)\\iff0 < +h_{2} +h_{5} +h_{7} +h_{8} -J_{1,2} -J_{1,5} -J_{1,7} -J_{1,8} -J_{2,3} -J_{2,4} -J_{2,6} -J_{3,5} -J_{3,7} -J_{3,8} -J_{4,5} -J_{4,7} -J_{4,8} -J_{5,6} -J_{6,7} -J_{6,8}$"
      ],
      "text/plain": [
       "<IPython.core.display.Math object>"
      ]
     },
     "metadata": {},
     "output_type": "display_data"
    },
    {
     "data": {
      "text/latex": [
       "$\\displaystyle 75: (-1, 1, -1, -1, 1, -1, 1, 1) < (-1, -1, -1, -1, -1, -1, -1, -1)\\iff0 < -h_{2} -h_{5} -h_{7} -h_{8} +J_{1,2} +J_{1,5} +J_{1,7} +J_{1,8} +J_{2,3} +J_{2,4} +J_{2,6} +J_{3,5} +J_{3,7} +J_{3,8} +J_{4,5} +J_{4,7} +J_{4,8} +J_{5,6} +J_{6,7} +J_{6,8}$"
      ],
      "text/plain": [
       "<IPython.core.display.Math object>"
      ]
     },
     "metadata": {},
     "output_type": "display_data"
    },
    {
     "data": {
      "text/latex": [
       "$\\displaystyle 76: (-1, -1, -1, -1, -1, -1, -1, -1) < (-1, 1, -1, -1, 1, 1, -1, -1)\\iff0 < +h_{2} +h_{5} +h_{6} -J_{1,2} -J_{1,5} -J_{1,6} -J_{2,3} -J_{2,4} -J_{2,7} -J_{2,8} -J_{3,5} -J_{3,6} -J_{4,5} -J_{4,6} -J_{5,7} -J_{5,8} -J_{6,7} -J_{6,8}$"
      ],
      "text/plain": [
       "<IPython.core.display.Math object>"
      ]
     },
     "metadata": {},
     "output_type": "display_data"
    },
    {
     "data": {
      "text/latex": [
       "$\\displaystyle 76: (-1, 1, -1, -1, 1, 1, -1, -1) < (-1, -1, -1, -1, -1, -1, -1, -1)\\iff0 < -h_{2} -h_{5} -h_{6} +J_{1,2} +J_{1,5} +J_{1,6} +J_{2,3} +J_{2,4} +J_{2,7} +J_{2,8} +J_{3,5} +J_{3,6} +J_{4,5} +J_{4,6} +J_{5,7} +J_{5,8} +J_{6,7} +J_{6,8}$"
      ],
      "text/plain": [
       "<IPython.core.display.Math object>"
      ]
     },
     "metadata": {},
     "output_type": "display_data"
    },
    {
     "data": {
      "text/latex": [
       "$\\displaystyle 77: (-1, -1, -1, -1, -1, -1, -1, -1) < (-1, 1, -1, -1, 1, 1, -1, 1)\\iff0 < +h_{2} +h_{5} +h_{6} +h_{8} -J_{1,2} -J_{1,5} -J_{1,6} -J_{1,8} -J_{2,3} -J_{2,4} -J_{2,7} -J_{3,5} -J_{3,6} -J_{3,8} -J_{4,5} -J_{4,6} -J_{4,8} -J_{5,7} -J_{6,7} -J_{7,8}$"
      ],
      "text/plain": [
       "<IPython.core.display.Math object>"
      ]
     },
     "metadata": {},
     "output_type": "display_data"
    },
    {
     "data": {
      "text/latex": [
       "$\\displaystyle 77: (-1, 1, -1, -1, 1, 1, -1, 1) < (-1, -1, -1, -1, -1, -1, -1, -1)\\iff0 < -h_{2} -h_{5} -h_{6} -h_{8} +J_{1,2} +J_{1,5} +J_{1,6} +J_{1,8} +J_{2,3} +J_{2,4} +J_{2,7} +J_{3,5} +J_{3,6} +J_{3,8} +J_{4,5} +J_{4,6} +J_{4,8} +J_{5,7} +J_{6,7} +J_{7,8}$"
      ],
      "text/plain": [
       "<IPython.core.display.Math object>"
      ]
     },
     "metadata": {},
     "output_type": "display_data"
    },
    {
     "data": {
      "text/latex": [
       "$\\displaystyle 78: (-1, -1, -1, -1, -1, -1, -1, -1) < (-1, 1, -1, -1, 1, 1, 1, -1)\\iff0 < +h_{2} +h_{5} +h_{6} +h_{7} -J_{1,2} -J_{1,5} -J_{1,6} -J_{1,7} -J_{2,3} -J_{2,4} -J_{2,8} -J_{3,5} -J_{3,6} -J_{3,7} -J_{4,5} -J_{4,6} -J_{4,7} -J_{5,8} -J_{6,8} -J_{7,8}$"
      ],
      "text/plain": [
       "<IPython.core.display.Math object>"
      ]
     },
     "metadata": {},
     "output_type": "display_data"
    },
    {
     "data": {
      "text/latex": [
       "$\\displaystyle 78: (-1, 1, -1, -1, 1, 1, 1, -1) < (-1, -1, -1, -1, -1, -1, -1, -1)\\iff0 < -h_{2} -h_{5} -h_{6} -h_{7} +J_{1,2} +J_{1,5} +J_{1,6} +J_{1,7} +J_{2,3} +J_{2,4} +J_{2,8} +J_{3,5} +J_{3,6} +J_{3,7} +J_{4,5} +J_{4,6} +J_{4,7} +J_{5,8} +J_{6,8} +J_{7,8}$"
      ],
      "text/plain": [
       "<IPython.core.display.Math object>"
      ]
     },
     "metadata": {},
     "output_type": "display_data"
    },
    {
     "data": {
      "text/latex": [
       "$\\displaystyle 79: (-1, -1, -1, -1, -1, -1, -1, -1) < (-1, 1, -1, -1, 1, 1, 1, 1)\\iff0 < +h_{2} +h_{5} +h_{6} +h_{7} +h_{8} -J_{1,2} -J_{1,5} -J_{1,6} -J_{1,7} -J_{1,8} -J_{2,3} -J_{2,4} -J_{3,5} -J_{3,6} -J_{3,7} -J_{3,8} -J_{4,5} -J_{4,6} -J_{4,7} -J_{4,8}$"
      ],
      "text/plain": [
       "<IPython.core.display.Math object>"
      ]
     },
     "metadata": {},
     "output_type": "display_data"
    },
    {
     "data": {
      "text/latex": [
       "$\\displaystyle 79: (-1, 1, -1, -1, 1, 1, 1, 1) < (-1, -1, -1, -1, -1, -1, -1, -1)\\iff0 < -h_{2} -h_{5} -h_{6} -h_{7} -h_{8} +J_{1,2} +J_{1,5} +J_{1,6} +J_{1,7} +J_{1,8} +J_{2,3} +J_{2,4} +J_{3,5} +J_{3,6} +J_{3,7} +J_{3,8} +J_{4,5} +J_{4,6} +J_{4,7} +J_{4,8}$"
      ],
      "text/plain": [
       "<IPython.core.display.Math object>"
      ]
     },
     "metadata": {},
     "output_type": "display_data"
    },
    {
     "data": {
      "text/latex": [
       "$\\displaystyle 80: (-1, -1, -1, -1, -1, -1, -1, -1) < (-1, 1, -1, 1, -1, -1, -1, -1)\\iff0 < +h_{2} +h_{4} -J_{1,2} -J_{1,4} -J_{2,3} -J_{2,5} -J_{2,6} -J_{2,7} -J_{2,8} -J_{3,4} -J_{4,5} -J_{4,6} -J_{4,7} -J_{4,8}$"
      ],
      "text/plain": [
       "<IPython.core.display.Math object>"
      ]
     },
     "metadata": {},
     "output_type": "display_data"
    },
    {
     "data": {
      "text/latex": [
       "$\\displaystyle 80: (-1, 1, -1, 1, -1, -1, -1, -1) < (-1, -1, -1, -1, -1, -1, -1, -1)\\iff0 < -h_{2} -h_{4} +J_{1,2} +J_{1,4} +J_{2,3} +J_{2,5} +J_{2,6} +J_{2,7} +J_{2,8} +J_{3,4} +J_{4,5} +J_{4,6} +J_{4,7} +J_{4,8}$"
      ],
      "text/plain": [
       "<IPython.core.display.Math object>"
      ]
     },
     "metadata": {},
     "output_type": "display_data"
    },
    {
     "data": {
      "text/latex": [
       "$\\displaystyle 81: (-1, -1, -1, -1, -1, -1, -1, -1) < (-1, 1, -1, 1, -1, -1, -1, 1)\\iff0 < +h_{2} +h_{4} +h_{8} -J_{1,2} -J_{1,4} -J_{1,8} -J_{2,3} -J_{2,5} -J_{2,6} -J_{2,7} -J_{3,4} -J_{3,8} -J_{4,5} -J_{4,6} -J_{4,7} -J_{5,8} -J_{6,8} -J_{7,8}$"
      ],
      "text/plain": [
       "<IPython.core.display.Math object>"
      ]
     },
     "metadata": {},
     "output_type": "display_data"
    },
    {
     "data": {
      "text/latex": [
       "$\\displaystyle 81: (-1, 1, -1, 1, -1, -1, -1, 1) < (-1, -1, -1, -1, -1, -1, -1, -1)\\iff0 < -h_{2} -h_{4} -h_{8} +J_{1,2} +J_{1,4} +J_{1,8} +J_{2,3} +J_{2,5} +J_{2,6} +J_{2,7} +J_{3,4} +J_{3,8} +J_{4,5} +J_{4,6} +J_{4,7} +J_{5,8} +J_{6,8} +J_{7,8}$"
      ],
      "text/plain": [
       "<IPython.core.display.Math object>"
      ]
     },
     "metadata": {},
     "output_type": "display_data"
    },
    {
     "data": {
      "text/latex": [
       "$\\displaystyle 82: (-1, -1, -1, -1, -1, -1, -1, -1) < (-1, 1, -1, 1, -1, -1, 1, -1)\\iff0 < +h_{2} +h_{4} +h_{7} -J_{1,2} -J_{1,4} -J_{1,7} -J_{2,3} -J_{2,5} -J_{2,6} -J_{2,8} -J_{3,4} -J_{3,7} -J_{4,5} -J_{4,6} -J_{4,8} -J_{5,7} -J_{6,7} -J_{7,8}$"
      ],
      "text/plain": [
       "<IPython.core.display.Math object>"
      ]
     },
     "metadata": {},
     "output_type": "display_data"
    },
    {
     "data": {
      "text/latex": [
       "$\\displaystyle 82: (-1, 1, -1, 1, -1, -1, 1, -1) < (-1, -1, -1, -1, -1, -1, -1, -1)\\iff0 < -h_{2} -h_{4} -h_{7} +J_{1,2} +J_{1,4} +J_{1,7} +J_{2,3} +J_{2,5} +J_{2,6} +J_{2,8} +J_{3,4} +J_{3,7} +J_{4,5} +J_{4,6} +J_{4,8} +J_{5,7} +J_{6,7} +J_{7,8}$"
      ],
      "text/plain": [
       "<IPython.core.display.Math object>"
      ]
     },
     "metadata": {},
     "output_type": "display_data"
    },
    {
     "data": {
      "text/latex": [
       "$\\displaystyle 83: (-1, -1, -1, -1, -1, -1, -1, -1) < (-1, 1, -1, 1, -1, -1, 1, 1)\\iff0 < +h_{2} +h_{4} +h_{7} +h_{8} -J_{1,2} -J_{1,4} -J_{1,7} -J_{1,8} -J_{2,3} -J_{2,5} -J_{2,6} -J_{3,4} -J_{3,7} -J_{3,8} -J_{4,5} -J_{4,6} -J_{5,7} -J_{5,8} -J_{6,7} -J_{6,8}$"
      ],
      "text/plain": [
       "<IPython.core.display.Math object>"
      ]
     },
     "metadata": {},
     "output_type": "display_data"
    },
    {
     "data": {
      "text/latex": [
       "$\\displaystyle 83: (-1, 1, -1, 1, -1, -1, 1, 1) < (-1, -1, -1, -1, -1, -1, -1, -1)\\iff0 < -h_{2} -h_{4} -h_{7} -h_{8} +J_{1,2} +J_{1,4} +J_{1,7} +J_{1,8} +J_{2,3} +J_{2,5} +J_{2,6} +J_{3,4} +J_{3,7} +J_{3,8} +J_{4,5} +J_{4,6} +J_{5,7} +J_{5,8} +J_{6,7} +J_{6,8}$"
      ],
      "text/plain": [
       "<IPython.core.display.Math object>"
      ]
     },
     "metadata": {},
     "output_type": "display_data"
    },
    {
     "data": {
      "text/latex": [
       "$\\displaystyle 84: (-1, -1, -1, -1, -1, -1, -1, -1) < (-1, 1, -1, 1, -1, 1, -1, -1)\\iff0 < +h_{2} +h_{4} +h_{6} -J_{1,2} -J_{1,4} -J_{1,6} -J_{2,3} -J_{2,5} -J_{2,7} -J_{2,8} -J_{3,4} -J_{3,6} -J_{4,5} -J_{4,7} -J_{4,8} -J_{5,6} -J_{6,7} -J_{6,8}$"
      ],
      "text/plain": [
       "<IPython.core.display.Math object>"
      ]
     },
     "metadata": {},
     "output_type": "display_data"
    },
    {
     "data": {
      "text/latex": [
       "$\\displaystyle 84: (-1, 1, -1, 1, -1, 1, -1, -1) < (-1, -1, -1, -1, -1, -1, -1, -1)\\iff0 < -h_{2} -h_{4} -h_{6} +J_{1,2} +J_{1,4} +J_{1,6} +J_{2,3} +J_{2,5} +J_{2,7} +J_{2,8} +J_{3,4} +J_{3,6} +J_{4,5} +J_{4,7} +J_{4,8} +J_{5,6} +J_{6,7} +J_{6,8}$"
      ],
      "text/plain": [
       "<IPython.core.display.Math object>"
      ]
     },
     "metadata": {},
     "output_type": "display_data"
    },
    {
     "data": {
      "text/latex": [
       "$\\displaystyle 85: (-1, -1, -1, -1, -1, -1, -1, -1) < (-1, 1, -1, 1, -1, 1, -1, 1)\\iff0 < +h_{2} +h_{4} +h_{6} +h_{8} -J_{1,2} -J_{1,4} -J_{1,6} -J_{1,8} -J_{2,3} -J_{2,5} -J_{2,7} -J_{3,4} -J_{3,6} -J_{3,8} -J_{4,5} -J_{4,7} -J_{5,6} -J_{5,8} -J_{6,7} -J_{7,8}$"
      ],
      "text/plain": [
       "<IPython.core.display.Math object>"
      ]
     },
     "metadata": {},
     "output_type": "display_data"
    },
    {
     "data": {
      "text/latex": [
       "$\\displaystyle 85: (-1, 1, -1, 1, -1, 1, -1, 1) < (-1, -1, -1, -1, -1, -1, -1, -1)\\iff0 < -h_{2} -h_{4} -h_{6} -h_{8} +J_{1,2} +J_{1,4} +J_{1,6} +J_{1,8} +J_{2,3} +J_{2,5} +J_{2,7} +J_{3,4} +J_{3,6} +J_{3,8} +J_{4,5} +J_{4,7} +J_{5,6} +J_{5,8} +J_{6,7} +J_{7,8}$"
      ],
      "text/plain": [
       "<IPython.core.display.Math object>"
      ]
     },
     "metadata": {},
     "output_type": "display_data"
    },
    {
     "data": {
      "text/latex": [
       "$\\displaystyle 86: (-1, -1, -1, -1, -1, -1, -1, -1) < (-1, 1, -1, 1, -1, 1, 1, -1)\\iff0 < +h_{2} +h_{4} +h_{6} +h_{7} -J_{1,2} -J_{1,4} -J_{1,6} -J_{1,7} -J_{2,3} -J_{2,5} -J_{2,8} -J_{3,4} -J_{3,6} -J_{3,7} -J_{4,5} -J_{4,8} -J_{5,6} -J_{5,7} -J_{6,8} -J_{7,8}$"
      ],
      "text/plain": [
       "<IPython.core.display.Math object>"
      ]
     },
     "metadata": {},
     "output_type": "display_data"
    },
    {
     "data": {
      "text/latex": [
       "$\\displaystyle 86: (-1, 1, -1, 1, -1, 1, 1, -1) < (-1, -1, -1, -1, -1, -1, -1, -1)\\iff0 < -h_{2} -h_{4} -h_{6} -h_{7} +J_{1,2} +J_{1,4} +J_{1,6} +J_{1,7} +J_{2,3} +J_{2,5} +J_{2,8} +J_{3,4} +J_{3,6} +J_{3,7} +J_{4,5} +J_{4,8} +J_{5,6} +J_{5,7} +J_{6,8} +J_{7,8}$"
      ],
      "text/plain": [
       "<IPython.core.display.Math object>"
      ]
     },
     "metadata": {},
     "output_type": "display_data"
    },
    {
     "data": {
      "text/latex": [
       "$\\displaystyle 87: (-1, -1, -1, -1, -1, -1, -1, -1) < (-1, 1, -1, 1, -1, 1, 1, 1)\\iff0 < +h_{2} +h_{4} +h_{6} +h_{7} +h_{8} -J_{1,2} -J_{1,4} -J_{1,6} -J_{1,7} -J_{1,8} -J_{2,3} -J_{2,5} -J_{3,4} -J_{3,6} -J_{3,7} -J_{3,8} -J_{4,5} -J_{5,6} -J_{5,7} -J_{5,8}$"
      ],
      "text/plain": [
       "<IPython.core.display.Math object>"
      ]
     },
     "metadata": {},
     "output_type": "display_data"
    },
    {
     "data": {
      "text/latex": [
       "$\\displaystyle 87: (-1, 1, -1, 1, -1, 1, 1, 1) < (-1, -1, -1, -1, -1, -1, -1, -1)\\iff0 < -h_{2} -h_{4} -h_{6} -h_{7} -h_{8} +J_{1,2} +J_{1,4} +J_{1,6} +J_{1,7} +J_{1,8} +J_{2,3} +J_{2,5} +J_{3,4} +J_{3,6} +J_{3,7} +J_{3,8} +J_{4,5} +J_{5,6} +J_{5,7} +J_{5,8}$"
      ],
      "text/plain": [
       "<IPython.core.display.Math object>"
      ]
     },
     "metadata": {},
     "output_type": "display_data"
    },
    {
     "data": {
      "text/latex": [
       "$\\displaystyle 88: (-1, -1, -1, -1, -1, -1, -1, -1) < (-1, 1, -1, 1, 1, -1, -1, -1)\\iff0 < +h_{2} +h_{4} +h_{5} -J_{1,2} -J_{1,4} -J_{1,5} -J_{2,3} -J_{2,6} -J_{2,7} -J_{2,8} -J_{3,4} -J_{3,5} -J_{4,6} -J_{4,7} -J_{4,8} -J_{5,6} -J_{5,7} -J_{5,8}$"
      ],
      "text/plain": [
       "<IPython.core.display.Math object>"
      ]
     },
     "metadata": {},
     "output_type": "display_data"
    },
    {
     "data": {
      "text/latex": [
       "$\\displaystyle 88: (-1, 1, -1, 1, 1, -1, -1, -1) < (-1, -1, -1, -1, -1, -1, -1, -1)\\iff0 < -h_{2} -h_{4} -h_{5} +J_{1,2} +J_{1,4} +J_{1,5} +J_{2,3} +J_{2,6} +J_{2,7} +J_{2,8} +J_{3,4} +J_{3,5} +J_{4,6} +J_{4,7} +J_{4,8} +J_{5,6} +J_{5,7} +J_{5,8}$"
      ],
      "text/plain": [
       "<IPython.core.display.Math object>"
      ]
     },
     "metadata": {},
     "output_type": "display_data"
    },
    {
     "data": {
      "text/latex": [
       "$\\displaystyle 89: (-1, -1, -1, -1, -1, -1, -1, -1) < (-1, 1, -1, 1, 1, -1, -1, 1)\\iff0 < +h_{2} +h_{4} +h_{5} +h_{8} -J_{1,2} -J_{1,4} -J_{1,5} -J_{1,8} -J_{2,3} -J_{2,6} -J_{2,7} -J_{3,4} -J_{3,5} -J_{3,8} -J_{4,6} -J_{4,7} -J_{5,6} -J_{5,7} -J_{6,8} -J_{7,8}$"
      ],
      "text/plain": [
       "<IPython.core.display.Math object>"
      ]
     },
     "metadata": {},
     "output_type": "display_data"
    },
    {
     "data": {
      "text/latex": [
       "$\\displaystyle 89: (-1, 1, -1, 1, 1, -1, -1, 1) < (-1, -1, -1, -1, -1, -1, -1, -1)\\iff0 < -h_{2} -h_{4} -h_{5} -h_{8} +J_{1,2} +J_{1,4} +J_{1,5} +J_{1,8} +J_{2,3} +J_{2,6} +J_{2,7} +J_{3,4} +J_{3,5} +J_{3,8} +J_{4,6} +J_{4,7} +J_{5,6} +J_{5,7} +J_{6,8} +J_{7,8}$"
      ],
      "text/plain": [
       "<IPython.core.display.Math object>"
      ]
     },
     "metadata": {},
     "output_type": "display_data"
    },
    {
     "data": {
      "text/latex": [
       "$\\displaystyle 90: (-1, -1, -1, -1, -1, -1, -1, -1) < (-1, 1, -1, 1, 1, -1, 1, -1)\\iff0 < +h_{2} +h_{4} +h_{5} +h_{7} -J_{1,2} -J_{1,4} -J_{1,5} -J_{1,7} -J_{2,3} -J_{2,6} -J_{2,8} -J_{3,4} -J_{3,5} -J_{3,7} -J_{4,6} -J_{4,8} -J_{5,6} -J_{5,8} -J_{6,7} -J_{7,8}$"
      ],
      "text/plain": [
       "<IPython.core.display.Math object>"
      ]
     },
     "metadata": {},
     "output_type": "display_data"
    },
    {
     "data": {
      "text/latex": [
       "$\\displaystyle 90: (-1, 1, -1, 1, 1, -1, 1, -1) < (-1, -1, -1, -1, -1, -1, -1, -1)\\iff0 < -h_{2} -h_{4} -h_{5} -h_{7} +J_{1,2} +J_{1,4} +J_{1,5} +J_{1,7} +J_{2,3} +J_{2,6} +J_{2,8} +J_{3,4} +J_{3,5} +J_{3,7} +J_{4,6} +J_{4,8} +J_{5,6} +J_{5,8} +J_{6,7} +J_{7,8}$"
      ],
      "text/plain": [
       "<IPython.core.display.Math object>"
      ]
     },
     "metadata": {},
     "output_type": "display_data"
    },
    {
     "data": {
      "text/latex": [
       "$\\displaystyle 91: (-1, -1, -1, -1, -1, -1, -1, -1) < (-1, 1, -1, 1, 1, -1, 1, 1)\\iff0 < +h_{2} +h_{4} +h_{5} +h_{7} +h_{8} -J_{1,2} -J_{1,4} -J_{1,5} -J_{1,7} -J_{1,8} -J_{2,3} -J_{2,6} -J_{3,4} -J_{3,5} -J_{3,7} -J_{3,8} -J_{4,6} -J_{5,6} -J_{6,7} -J_{6,8}$"
      ],
      "text/plain": [
       "<IPython.core.display.Math object>"
      ]
     },
     "metadata": {},
     "output_type": "display_data"
    },
    {
     "data": {
      "text/latex": [
       "$\\displaystyle 91: (-1, 1, -1, 1, 1, -1, 1, 1) < (-1, -1, -1, -1, -1, -1, -1, -1)\\iff0 < -h_{2} -h_{4} -h_{5} -h_{7} -h_{8} +J_{1,2} +J_{1,4} +J_{1,5} +J_{1,7} +J_{1,8} +J_{2,3} +J_{2,6} +J_{3,4} +J_{3,5} +J_{3,7} +J_{3,8} +J_{4,6} +J_{5,6} +J_{6,7} +J_{6,8}$"
      ],
      "text/plain": [
       "<IPython.core.display.Math object>"
      ]
     },
     "metadata": {},
     "output_type": "display_data"
    },
    {
     "data": {
      "text/latex": [
       "$\\displaystyle 92: (-1, -1, -1, -1, -1, -1, -1, -1) < (-1, 1, -1, 1, 1, 1, -1, -1)\\iff0 < +h_{2} +h_{4} +h_{5} +h_{6} -J_{1,2} -J_{1,4} -J_{1,5} -J_{1,6} -J_{2,3} -J_{2,7} -J_{2,8} -J_{3,4} -J_{3,5} -J_{3,6} -J_{4,7} -J_{4,8} -J_{5,7} -J_{5,8} -J_{6,7} -J_{6,8}$"
      ],
      "text/plain": [
       "<IPython.core.display.Math object>"
      ]
     },
     "metadata": {},
     "output_type": "display_data"
    },
    {
     "data": {
      "text/latex": [
       "$\\displaystyle 92: (-1, 1, -1, 1, 1, 1, -1, -1) < (-1, -1, -1, -1, -1, -1, -1, -1)\\iff0 < -h_{2} -h_{4} -h_{5} -h_{6} +J_{1,2} +J_{1,4} +J_{1,5} +J_{1,6} +J_{2,3} +J_{2,7} +J_{2,8} +J_{3,4} +J_{3,5} +J_{3,6} +J_{4,7} +J_{4,8} +J_{5,7} +J_{5,8} +J_{6,7} +J_{6,8}$"
      ],
      "text/plain": [
       "<IPython.core.display.Math object>"
      ]
     },
     "metadata": {},
     "output_type": "display_data"
    },
    {
     "data": {
      "text/latex": [
       "$\\displaystyle 93: (-1, -1, -1, -1, -1, -1, -1, -1) < (-1, 1, -1, 1, 1, 1, -1, 1)\\iff0 < +h_{2} +h_{4} +h_{5} +h_{6} +h_{8} -J_{1,2} -J_{1,4} -J_{1,5} -J_{1,6} -J_{1,8} -J_{2,3} -J_{2,7} -J_{3,4} -J_{3,5} -J_{3,6} -J_{3,8} -J_{4,7} -J_{5,7} -J_{6,7} -J_{7,8}$"
      ],
      "text/plain": [
       "<IPython.core.display.Math object>"
      ]
     },
     "metadata": {},
     "output_type": "display_data"
    },
    {
     "data": {
      "text/latex": [
       "$\\displaystyle 93: (-1, 1, -1, 1, 1, 1, -1, 1) < (-1, -1, -1, -1, -1, -1, -1, -1)\\iff0 < -h_{2} -h_{4} -h_{5} -h_{6} -h_{8} +J_{1,2} +J_{1,4} +J_{1,5} +J_{1,6} +J_{1,8} +J_{2,3} +J_{2,7} +J_{3,4} +J_{3,5} +J_{3,6} +J_{3,8} +J_{4,7} +J_{5,7} +J_{6,7} +J_{7,8}$"
      ],
      "text/plain": [
       "<IPython.core.display.Math object>"
      ]
     },
     "metadata": {},
     "output_type": "display_data"
    },
    {
     "data": {
      "text/latex": [
       "$\\displaystyle 94: (-1, -1, -1, -1, -1, -1, -1, -1) < (-1, 1, -1, 1, 1, 1, 1, -1)\\iff0 < +h_{2} +h_{4} +h_{5} +h_{6} +h_{7} -J_{1,2} -J_{1,4} -J_{1,5} -J_{1,6} -J_{1,7} -J_{2,3} -J_{2,8} -J_{3,4} -J_{3,5} -J_{3,6} -J_{3,7} -J_{4,8} -J_{5,8} -J_{6,8} -J_{7,8}$"
      ],
      "text/plain": [
       "<IPython.core.display.Math object>"
      ]
     },
     "metadata": {},
     "output_type": "display_data"
    },
    {
     "data": {
      "text/latex": [
       "$\\displaystyle 94: (-1, 1, -1, 1, 1, 1, 1, -1) < (-1, -1, -1, -1, -1, -1, -1, -1)\\iff0 < -h_{2} -h_{4} -h_{5} -h_{6} -h_{7} +J_{1,2} +J_{1,4} +J_{1,5} +J_{1,6} +J_{1,7} +J_{2,3} +J_{2,8} +J_{3,4} +J_{3,5} +J_{3,6} +J_{3,7} +J_{4,8} +J_{5,8} +J_{6,8} +J_{7,8}$"
      ],
      "text/plain": [
       "<IPython.core.display.Math object>"
      ]
     },
     "metadata": {},
     "output_type": "display_data"
    },
    {
     "data": {
      "text/latex": [
       "$\\displaystyle 95: (-1, -1, -1, -1, -1, -1, -1, -1) < (-1, 1, -1, 1, 1, 1, 1, 1)\\iff0 < +h_{2} +h_{4} +h_{5} +h_{6} +h_{7} +h_{8} -J_{1,2} -J_{1,4} -J_{1,5} -J_{1,6} -J_{1,7} -J_{1,8} -J_{2,3} -J_{3,4} -J_{3,5} -J_{3,6} -J_{3,7} -J_{3,8}$"
      ],
      "text/plain": [
       "<IPython.core.display.Math object>"
      ]
     },
     "metadata": {},
     "output_type": "display_data"
    },
    {
     "data": {
      "text/latex": [
       "$\\displaystyle 95: (-1, 1, -1, 1, 1, 1, 1, 1) < (-1, -1, -1, -1, -1, -1, -1, -1)\\iff0 < -h_{2} -h_{4} -h_{5} -h_{6} -h_{7} -h_{8} +J_{1,2} +J_{1,4} +J_{1,5} +J_{1,6} +J_{1,7} +J_{1,8} +J_{2,3} +J_{3,4} +J_{3,5} +J_{3,6} +J_{3,7} +J_{3,8}$"
      ],
      "text/plain": [
       "<IPython.core.display.Math object>"
      ]
     },
     "metadata": {},
     "output_type": "display_data"
    },
    {
     "data": {
      "text/latex": [
       "$\\displaystyle 96: (-1, -1, -1, -1, -1, -1, -1, -1) < (-1, 1, 1, -1, -1, -1, -1, -1)\\iff0 < +h_{2} +h_{3} -J_{1,2} -J_{1,3} -J_{2,4} -J_{2,5} -J_{2,6} -J_{2,7} -J_{2,8} -J_{3,4} -J_{3,5} -J_{3,6} -J_{3,7} -J_{3,8}$"
      ],
      "text/plain": [
       "<IPython.core.display.Math object>"
      ]
     },
     "metadata": {},
     "output_type": "display_data"
    },
    {
     "data": {
      "text/latex": [
       "$\\displaystyle 96: (-1, 1, 1, -1, -1, -1, -1, -1) < (-1, -1, -1, -1, -1, -1, -1, -1)\\iff0 < -h_{2} -h_{3} +J_{1,2} +J_{1,3} +J_{2,4} +J_{2,5} +J_{2,6} +J_{2,7} +J_{2,8} +J_{3,4} +J_{3,5} +J_{3,6} +J_{3,7} +J_{3,8}$"
      ],
      "text/plain": [
       "<IPython.core.display.Math object>"
      ]
     },
     "metadata": {},
     "output_type": "display_data"
    },
    {
     "data": {
      "text/latex": [
       "$\\displaystyle 97: (-1, -1, -1, -1, -1, -1, -1, -1) < (-1, 1, 1, -1, -1, -1, -1, 1)\\iff0 < +h_{2} +h_{3} +h_{8} -J_{1,2} -J_{1,3} -J_{1,8} -J_{2,4} -J_{2,5} -J_{2,6} -J_{2,7} -J_{3,4} -J_{3,5} -J_{3,6} -J_{3,7} -J_{4,8} -J_{5,8} -J_{6,8} -J_{7,8}$"
      ],
      "text/plain": [
       "<IPython.core.display.Math object>"
      ]
     },
     "metadata": {},
     "output_type": "display_data"
    },
    {
     "data": {
      "text/latex": [
       "$\\displaystyle 97: (-1, 1, 1, -1, -1, -1, -1, 1) < (-1, -1, -1, -1, -1, -1, -1, -1)\\iff0 < -h_{2} -h_{3} -h_{8} +J_{1,2} +J_{1,3} +J_{1,8} +J_{2,4} +J_{2,5} +J_{2,6} +J_{2,7} +J_{3,4} +J_{3,5} +J_{3,6} +J_{3,7} +J_{4,8} +J_{5,8} +J_{6,8} +J_{7,8}$"
      ],
      "text/plain": [
       "<IPython.core.display.Math object>"
      ]
     },
     "metadata": {},
     "output_type": "display_data"
    },
    {
     "data": {
      "text/latex": [
       "$\\displaystyle 98: (-1, -1, -1, -1, -1, -1, -1, -1) < (-1, 1, 1, -1, -1, -1, 1, -1)\\iff0 < +h_{2} +h_{3} +h_{7} -J_{1,2} -J_{1,3} -J_{1,7} -J_{2,4} -J_{2,5} -J_{2,6} -J_{2,8} -J_{3,4} -J_{3,5} -J_{3,6} -J_{3,8} -J_{4,7} -J_{5,7} -J_{6,7} -J_{7,8}$"
      ],
      "text/plain": [
       "<IPython.core.display.Math object>"
      ]
     },
     "metadata": {},
     "output_type": "display_data"
    },
    {
     "data": {
      "text/latex": [
       "$\\displaystyle 98: (-1, 1, 1, -1, -1, -1, 1, -1) < (-1, -1, -1, -1, -1, -1, -1, -1)\\iff0 < -h_{2} -h_{3} -h_{7} +J_{1,2} +J_{1,3} +J_{1,7} +J_{2,4} +J_{2,5} +J_{2,6} +J_{2,8} +J_{3,4} +J_{3,5} +J_{3,6} +J_{3,8} +J_{4,7} +J_{5,7} +J_{6,7} +J_{7,8}$"
      ],
      "text/plain": [
       "<IPython.core.display.Math object>"
      ]
     },
     "metadata": {},
     "output_type": "display_data"
    },
    {
     "data": {
      "text/latex": [
       "$\\displaystyle 99: (-1, -1, -1, -1, -1, -1, -1, -1) < (-1, 1, 1, -1, -1, -1, 1, 1)\\iff0 < +h_{2} +h_{3} +h_{7} +h_{8} -J_{1,2} -J_{1,3} -J_{1,7} -J_{1,8} -J_{2,4} -J_{2,5} -J_{2,6} -J_{3,4} -J_{3,5} -J_{3,6} -J_{4,7} -J_{4,8} -J_{5,7} -J_{5,8} -J_{6,7} -J_{6,8}$"
      ],
      "text/plain": [
       "<IPython.core.display.Math object>"
      ]
     },
     "metadata": {},
     "output_type": "display_data"
    },
    {
     "data": {
      "text/latex": [
       "$\\displaystyle 99: (-1, 1, 1, -1, -1, -1, 1, 1) < (-1, -1, -1, -1, -1, -1, -1, -1)\\iff0 < -h_{2} -h_{3} -h_{7} -h_{8} +J_{1,2} +J_{1,3} +J_{1,7} +J_{1,8} +J_{2,4} +J_{2,5} +J_{2,6} +J_{3,4} +J_{3,5} +J_{3,6} +J_{4,7} +J_{4,8} +J_{5,7} +J_{5,8} +J_{6,7} +J_{6,8}$"
      ],
      "text/plain": [
       "<IPython.core.display.Math object>"
      ]
     },
     "metadata": {},
     "output_type": "display_data"
    },
    {
     "data": {
      "text/latex": [
       "$\\displaystyle 100: (-1, -1, -1, -1, -1, -1, -1, -1) < (-1, 1, 1, -1, -1, 1, -1, -1)\\iff0 < +h_{2} +h_{3} +h_{6} -J_{1,2} -J_{1,3} -J_{1,6} -J_{2,4} -J_{2,5} -J_{2,7} -J_{2,8} -J_{3,4} -J_{3,5} -J_{3,7} -J_{3,8} -J_{4,6} -J_{5,6} -J_{6,7} -J_{6,8}$"
      ],
      "text/plain": [
       "<IPython.core.display.Math object>"
      ]
     },
     "metadata": {},
     "output_type": "display_data"
    },
    {
     "data": {
      "text/latex": [
       "$\\displaystyle 100: (-1, 1, 1, -1, -1, 1, -1, -1) < (-1, -1, -1, -1, -1, -1, -1, -1)\\iff0 < -h_{2} -h_{3} -h_{6} +J_{1,2} +J_{1,3} +J_{1,6} +J_{2,4} +J_{2,5} +J_{2,7} +J_{2,8} +J_{3,4} +J_{3,5} +J_{3,7} +J_{3,8} +J_{4,6} +J_{5,6} +J_{6,7} +J_{6,8}$"
      ],
      "text/plain": [
       "<IPython.core.display.Math object>"
      ]
     },
     "metadata": {},
     "output_type": "display_data"
    },
    {
     "data": {
      "text/latex": [
       "$\\displaystyle 101: (-1, -1, -1, -1, -1, -1, -1, -1) < (-1, 1, 1, -1, -1, 1, -1, 1)\\iff0 < +h_{2} +h_{3} +h_{6} +h_{8} -J_{1,2} -J_{1,3} -J_{1,6} -J_{1,8} -J_{2,4} -J_{2,5} -J_{2,7} -J_{3,4} -J_{3,5} -J_{3,7} -J_{4,6} -J_{4,8} -J_{5,6} -J_{5,8} -J_{6,7} -J_{7,8}$"
      ],
      "text/plain": [
       "<IPython.core.display.Math object>"
      ]
     },
     "metadata": {},
     "output_type": "display_data"
    },
    {
     "data": {
      "text/latex": [
       "$\\displaystyle 101: (-1, 1, 1, -1, -1, 1, -1, 1) < (-1, -1, -1, -1, -1, -1, -1, -1)\\iff0 < -h_{2} -h_{3} -h_{6} -h_{8} +J_{1,2} +J_{1,3} +J_{1,6} +J_{1,8} +J_{2,4} +J_{2,5} +J_{2,7} +J_{3,4} +J_{3,5} +J_{3,7} +J_{4,6} +J_{4,8} +J_{5,6} +J_{5,8} +J_{6,7} +J_{7,8}$"
      ],
      "text/plain": [
       "<IPython.core.display.Math object>"
      ]
     },
     "metadata": {},
     "output_type": "display_data"
    },
    {
     "data": {
      "text/latex": [
       "$\\displaystyle 102: (-1, -1, -1, -1, -1, -1, -1, -1) < (-1, 1, 1, -1, -1, 1, 1, -1)\\iff0 < +h_{2} +h_{3} +h_{6} +h_{7} -J_{1,2} -J_{1,3} -J_{1,6} -J_{1,7} -J_{2,4} -J_{2,5} -J_{2,8} -J_{3,4} -J_{3,5} -J_{3,8} -J_{4,6} -J_{4,7} -J_{5,6} -J_{5,7} -J_{6,8} -J_{7,8}$"
      ],
      "text/plain": [
       "<IPython.core.display.Math object>"
      ]
     },
     "metadata": {},
     "output_type": "display_data"
    },
    {
     "data": {
      "text/latex": [
       "$\\displaystyle 102: (-1, 1, 1, -1, -1, 1, 1, -1) < (-1, -1, -1, -1, -1, -1, -1, -1)\\iff0 < -h_{2} -h_{3} -h_{6} -h_{7} +J_{1,2} +J_{1,3} +J_{1,6} +J_{1,7} +J_{2,4} +J_{2,5} +J_{2,8} +J_{3,4} +J_{3,5} +J_{3,8} +J_{4,6} +J_{4,7} +J_{5,6} +J_{5,7} +J_{6,8} +J_{7,8}$"
      ],
      "text/plain": [
       "<IPython.core.display.Math object>"
      ]
     },
     "metadata": {},
     "output_type": "display_data"
    },
    {
     "data": {
      "text/latex": [
       "$\\displaystyle 103: (-1, -1, -1, -1, -1, -1, -1, -1) < (-1, 1, 1, -1, -1, 1, 1, 1)\\iff0 < +h_{2} +h_{3} +h_{6} +h_{7} +h_{8} -J_{1,2} -J_{1,3} -J_{1,6} -J_{1,7} -J_{1,8} -J_{2,4} -J_{2,5} -J_{3,4} -J_{3,5} -J_{4,6} -J_{4,7} -J_{4,8} -J_{5,6} -J_{5,7} -J_{5,8}$"
      ],
      "text/plain": [
       "<IPython.core.display.Math object>"
      ]
     },
     "metadata": {},
     "output_type": "display_data"
    },
    {
     "data": {
      "text/latex": [
       "$\\displaystyle 103: (-1, 1, 1, -1, -1, 1, 1, 1) < (-1, -1, -1, -1, -1, -1, -1, -1)\\iff0 < -h_{2} -h_{3} -h_{6} -h_{7} -h_{8} +J_{1,2} +J_{1,3} +J_{1,6} +J_{1,7} +J_{1,8} +J_{2,4} +J_{2,5} +J_{3,4} +J_{3,5} +J_{4,6} +J_{4,7} +J_{4,8} +J_{5,6} +J_{5,7} +J_{5,8}$"
      ],
      "text/plain": [
       "<IPython.core.display.Math object>"
      ]
     },
     "metadata": {},
     "output_type": "display_data"
    },
    {
     "data": {
      "text/latex": [
       "$\\displaystyle 104: (-1, -1, -1, -1, -1, -1, -1, -1) < (-1, 1, 1, -1, 1, -1, -1, -1)\\iff0 < +h_{2} +h_{3} +h_{5} -J_{1,2} -J_{1,3} -J_{1,5} -J_{2,4} -J_{2,6} -J_{2,7} -J_{2,8} -J_{3,4} -J_{3,6} -J_{3,7} -J_{3,8} -J_{4,5} -J_{5,6} -J_{5,7} -J_{5,8}$"
      ],
      "text/plain": [
       "<IPython.core.display.Math object>"
      ]
     },
     "metadata": {},
     "output_type": "display_data"
    },
    {
     "data": {
      "text/latex": [
       "$\\displaystyle 104: (-1, 1, 1, -1, 1, -1, -1, -1) < (-1, -1, -1, -1, -1, -1, -1, -1)\\iff0 < -h_{2} -h_{3} -h_{5} +J_{1,2} +J_{1,3} +J_{1,5} +J_{2,4} +J_{2,6} +J_{2,7} +J_{2,8} +J_{3,4} +J_{3,6} +J_{3,7} +J_{3,8} +J_{4,5} +J_{5,6} +J_{5,7} +J_{5,8}$"
      ],
      "text/plain": [
       "<IPython.core.display.Math object>"
      ]
     },
     "metadata": {},
     "output_type": "display_data"
    },
    {
     "data": {
      "text/latex": [
       "$\\displaystyle 105: (-1, -1, -1, -1, -1, -1, -1, -1) < (-1, 1, 1, -1, 1, -1, -1, 1)\\iff0 < +h_{2} +h_{3} +h_{5} +h_{8} -J_{1,2} -J_{1,3} -J_{1,5} -J_{1,8} -J_{2,4} -J_{2,6} -J_{2,7} -J_{3,4} -J_{3,6} -J_{3,7} -J_{4,5} -J_{4,8} -J_{5,6} -J_{5,7} -J_{6,8} -J_{7,8}$"
      ],
      "text/plain": [
       "<IPython.core.display.Math object>"
      ]
     },
     "metadata": {},
     "output_type": "display_data"
    },
    {
     "data": {
      "text/latex": [
       "$\\displaystyle 105: (-1, 1, 1, -1, 1, -1, -1, 1) < (-1, -1, -1, -1, -1, -1, -1, -1)\\iff0 < -h_{2} -h_{3} -h_{5} -h_{8} +J_{1,2} +J_{1,3} +J_{1,5} +J_{1,8} +J_{2,4} +J_{2,6} +J_{2,7} +J_{3,4} +J_{3,6} +J_{3,7} +J_{4,5} +J_{4,8} +J_{5,6} +J_{5,7} +J_{6,8} +J_{7,8}$"
      ],
      "text/plain": [
       "<IPython.core.display.Math object>"
      ]
     },
     "metadata": {},
     "output_type": "display_data"
    },
    {
     "data": {
      "text/latex": [
       "$\\displaystyle 106: (-1, -1, -1, -1, -1, -1, -1, -1) < (-1, 1, 1, -1, 1, -1, 1, -1)\\iff0 < +h_{2} +h_{3} +h_{5} +h_{7} -J_{1,2} -J_{1,3} -J_{1,5} -J_{1,7} -J_{2,4} -J_{2,6} -J_{2,8} -J_{3,4} -J_{3,6} -J_{3,8} -J_{4,5} -J_{4,7} -J_{5,6} -J_{5,8} -J_{6,7} -J_{7,8}$"
      ],
      "text/plain": [
       "<IPython.core.display.Math object>"
      ]
     },
     "metadata": {},
     "output_type": "display_data"
    },
    {
     "data": {
      "text/latex": [
       "$\\displaystyle 106: (-1, 1, 1, -1, 1, -1, 1, -1) < (-1, -1, -1, -1, -1, -1, -1, -1)\\iff0 < -h_{2} -h_{3} -h_{5} -h_{7} +J_{1,2} +J_{1,3} +J_{1,5} +J_{1,7} +J_{2,4} +J_{2,6} +J_{2,8} +J_{3,4} +J_{3,6} +J_{3,8} +J_{4,5} +J_{4,7} +J_{5,6} +J_{5,8} +J_{6,7} +J_{7,8}$"
      ],
      "text/plain": [
       "<IPython.core.display.Math object>"
      ]
     },
     "metadata": {},
     "output_type": "display_data"
    },
    {
     "data": {
      "text/latex": [
       "$\\displaystyle 107: (-1, -1, -1, -1, -1, -1, -1, -1) < (-1, 1, 1, -1, 1, -1, 1, 1)\\iff0 < +h_{2} +h_{3} +h_{5} +h_{7} +h_{8} -J_{1,2} -J_{1,3} -J_{1,5} -J_{1,7} -J_{1,8} -J_{2,4} -J_{2,6} -J_{3,4} -J_{3,6} -J_{4,5} -J_{4,7} -J_{4,8} -J_{5,6} -J_{6,7} -J_{6,8}$"
      ],
      "text/plain": [
       "<IPython.core.display.Math object>"
      ]
     },
     "metadata": {},
     "output_type": "display_data"
    },
    {
     "data": {
      "text/latex": [
       "$\\displaystyle 107: (-1, 1, 1, -1, 1, -1, 1, 1) < (-1, -1, -1, -1, -1, -1, -1, -1)\\iff0 < -h_{2} -h_{3} -h_{5} -h_{7} -h_{8} +J_{1,2} +J_{1,3} +J_{1,5} +J_{1,7} +J_{1,8} +J_{2,4} +J_{2,6} +J_{3,4} +J_{3,6} +J_{4,5} +J_{4,7} +J_{4,8} +J_{5,6} +J_{6,7} +J_{6,8}$"
      ],
      "text/plain": [
       "<IPython.core.display.Math object>"
      ]
     },
     "metadata": {},
     "output_type": "display_data"
    },
    {
     "data": {
      "text/latex": [
       "$\\displaystyle 108: (-1, -1, -1, -1, -1, -1, -1, -1) < (-1, 1, 1, -1, 1, 1, -1, -1)\\iff0 < +h_{2} +h_{3} +h_{5} +h_{6} -J_{1,2} -J_{1,3} -J_{1,5} -J_{1,6} -J_{2,4} -J_{2,7} -J_{2,8} -J_{3,4} -J_{3,7} -J_{3,8} -J_{4,5} -J_{4,6} -J_{5,7} -J_{5,8} -J_{6,7} -J_{6,8}$"
      ],
      "text/plain": [
       "<IPython.core.display.Math object>"
      ]
     },
     "metadata": {},
     "output_type": "display_data"
    },
    {
     "data": {
      "text/latex": [
       "$\\displaystyle 108: (-1, 1, 1, -1, 1, 1, -1, -1) < (-1, -1, -1, -1, -1, -1, -1, -1)\\iff0 < -h_{2} -h_{3} -h_{5} -h_{6} +J_{1,2} +J_{1,3} +J_{1,5} +J_{1,6} +J_{2,4} +J_{2,7} +J_{2,8} +J_{3,4} +J_{3,7} +J_{3,8} +J_{4,5} +J_{4,6} +J_{5,7} +J_{5,8} +J_{6,7} +J_{6,8}$"
      ],
      "text/plain": [
       "<IPython.core.display.Math object>"
      ]
     },
     "metadata": {},
     "output_type": "display_data"
    },
    {
     "data": {
      "text/latex": [
       "$\\displaystyle 109: (-1, -1, -1, -1, -1, -1, -1, -1) < (-1, 1, 1, -1, 1, 1, -1, 1)\\iff0 < +h_{2} +h_{3} +h_{5} +h_{6} +h_{8} -J_{1,2} -J_{1,3} -J_{1,5} -J_{1,6} -J_{1,8} -J_{2,4} -J_{2,7} -J_{3,4} -J_{3,7} -J_{4,5} -J_{4,6} -J_{4,8} -J_{5,7} -J_{6,7} -J_{7,8}$"
      ],
      "text/plain": [
       "<IPython.core.display.Math object>"
      ]
     },
     "metadata": {},
     "output_type": "display_data"
    },
    {
     "data": {
      "text/latex": [
       "$\\displaystyle 109: (-1, 1, 1, -1, 1, 1, -1, 1) < (-1, -1, -1, -1, -1, -1, -1, -1)\\iff0 < -h_{2} -h_{3} -h_{5} -h_{6} -h_{8} +J_{1,2} +J_{1,3} +J_{1,5} +J_{1,6} +J_{1,8} +J_{2,4} +J_{2,7} +J_{3,4} +J_{3,7} +J_{4,5} +J_{4,6} +J_{4,8} +J_{5,7} +J_{6,7} +J_{7,8}$"
      ],
      "text/plain": [
       "<IPython.core.display.Math object>"
      ]
     },
     "metadata": {},
     "output_type": "display_data"
    },
    {
     "data": {
      "text/latex": [
       "$\\displaystyle 110: (-1, -1, -1, -1, -1, -1, -1, -1) < (-1, 1, 1, -1, 1, 1, 1, -1)\\iff0 < +h_{2} +h_{3} +h_{5} +h_{6} +h_{7} -J_{1,2} -J_{1,3} -J_{1,5} -J_{1,6} -J_{1,7} -J_{2,4} -J_{2,8} -J_{3,4} -J_{3,8} -J_{4,5} -J_{4,6} -J_{4,7} -J_{5,8} -J_{6,8} -J_{7,8}$"
      ],
      "text/plain": [
       "<IPython.core.display.Math object>"
      ]
     },
     "metadata": {},
     "output_type": "display_data"
    },
    {
     "data": {
      "text/latex": [
       "$\\displaystyle 110: (-1, 1, 1, -1, 1, 1, 1, -1) < (-1, -1, -1, -1, -1, -1, -1, -1)\\iff0 < -h_{2} -h_{3} -h_{5} -h_{6} -h_{7} +J_{1,2} +J_{1,3} +J_{1,5} +J_{1,6} +J_{1,7} +J_{2,4} +J_{2,8} +J_{3,4} +J_{3,8} +J_{4,5} +J_{4,6} +J_{4,7} +J_{5,8} +J_{6,8} +J_{7,8}$"
      ],
      "text/plain": [
       "<IPython.core.display.Math object>"
      ]
     },
     "metadata": {},
     "output_type": "display_data"
    },
    {
     "data": {
      "text/latex": [
       "$\\displaystyle 111: (-1, -1, -1, -1, -1, -1, -1, -1) < (-1, 1, 1, -1, 1, 1, 1, 1)\\iff0 < +h_{2} +h_{3} +h_{5} +h_{6} +h_{7} +h_{8} -J_{1,2} -J_{1,3} -J_{1,5} -J_{1,6} -J_{1,7} -J_{1,8} -J_{2,4} -J_{3,4} -J_{4,5} -J_{4,6} -J_{4,7} -J_{4,8}$"
      ],
      "text/plain": [
       "<IPython.core.display.Math object>"
      ]
     },
     "metadata": {},
     "output_type": "display_data"
    },
    {
     "data": {
      "text/latex": [
       "$\\displaystyle 111: (-1, 1, 1, -1, 1, 1, 1, 1) < (-1, -1, -1, -1, -1, -1, -1, -1)\\iff0 < -h_{2} -h_{3} -h_{5} -h_{6} -h_{7} -h_{8} +J_{1,2} +J_{1,3} +J_{1,5} +J_{1,6} +J_{1,7} +J_{1,8} +J_{2,4} +J_{3,4} +J_{4,5} +J_{4,6} +J_{4,7} +J_{4,8}$"
      ],
      "text/plain": [
       "<IPython.core.display.Math object>"
      ]
     },
     "metadata": {},
     "output_type": "display_data"
    },
    {
     "data": {
      "text/latex": [
       "$\\displaystyle 112: (-1, -1, -1, -1, -1, -1, -1, -1) < (-1, 1, 1, 1, -1, -1, -1, -1)\\iff0 < +h_{2} +h_{3} +h_{4} -J_{1,2} -J_{1,3} -J_{1,4} -J_{2,5} -J_{2,6} -J_{2,7} -J_{2,8} -J_{3,5} -J_{3,6} -J_{3,7} -J_{3,8} -J_{4,5} -J_{4,6} -J_{4,7} -J_{4,8}$"
      ],
      "text/plain": [
       "<IPython.core.display.Math object>"
      ]
     },
     "metadata": {},
     "output_type": "display_data"
    },
    {
     "data": {
      "text/latex": [
       "$\\displaystyle 112: (-1, 1, 1, 1, -1, -1, -1, -1) < (-1, -1, -1, -1, -1, -1, -1, -1)\\iff0 < -h_{2} -h_{3} -h_{4} +J_{1,2} +J_{1,3} +J_{1,4} +J_{2,5} +J_{2,6} +J_{2,7} +J_{2,8} +J_{3,5} +J_{3,6} +J_{3,7} +J_{3,8} +J_{4,5} +J_{4,6} +J_{4,7} +J_{4,8}$"
      ],
      "text/plain": [
       "<IPython.core.display.Math object>"
      ]
     },
     "metadata": {},
     "output_type": "display_data"
    },
    {
     "data": {
      "text/latex": [
       "$\\displaystyle 113: (-1, -1, -1, -1, -1, -1, -1, -1) < (-1, 1, 1, 1, -1, -1, -1, 1)\\iff0 < +h_{2} +h_{3} +h_{4} +h_{8} -J_{1,2} -J_{1,3} -J_{1,4} -J_{1,8} -J_{2,5} -J_{2,6} -J_{2,7} -J_{3,5} -J_{3,6} -J_{3,7} -J_{4,5} -J_{4,6} -J_{4,7} -J_{5,8} -J_{6,8} -J_{7,8}$"
      ],
      "text/plain": [
       "<IPython.core.display.Math object>"
      ]
     },
     "metadata": {},
     "output_type": "display_data"
    },
    {
     "data": {
      "text/latex": [
       "$\\displaystyle 113: (-1, 1, 1, 1, -1, -1, -1, 1) < (-1, -1, -1, -1, -1, -1, -1, -1)\\iff0 < -h_{2} -h_{3} -h_{4} -h_{8} +J_{1,2} +J_{1,3} +J_{1,4} +J_{1,8} +J_{2,5} +J_{2,6} +J_{2,7} +J_{3,5} +J_{3,6} +J_{3,7} +J_{4,5} +J_{4,6} +J_{4,7} +J_{5,8} +J_{6,8} +J_{7,8}$"
      ],
      "text/plain": [
       "<IPython.core.display.Math object>"
      ]
     },
     "metadata": {},
     "output_type": "display_data"
    },
    {
     "data": {
      "text/latex": [
       "$\\displaystyle 114: (-1, -1, -1, -1, -1, -1, -1, -1) < (-1, 1, 1, 1, -1, -1, 1, -1)\\iff0 < +h_{2} +h_{3} +h_{4} +h_{7} -J_{1,2} -J_{1,3} -J_{1,4} -J_{1,7} -J_{2,5} -J_{2,6} -J_{2,8} -J_{3,5} -J_{3,6} -J_{3,8} -J_{4,5} -J_{4,6} -J_{4,8} -J_{5,7} -J_{6,7} -J_{7,8}$"
      ],
      "text/plain": [
       "<IPython.core.display.Math object>"
      ]
     },
     "metadata": {},
     "output_type": "display_data"
    },
    {
     "data": {
      "text/latex": [
       "$\\displaystyle 114: (-1, 1, 1, 1, -1, -1, 1, -1) < (-1, -1, -1, -1, -1, -1, -1, -1)\\iff0 < -h_{2} -h_{3} -h_{4} -h_{7} +J_{1,2} +J_{1,3} +J_{1,4} +J_{1,7} +J_{2,5} +J_{2,6} +J_{2,8} +J_{3,5} +J_{3,6} +J_{3,8} +J_{4,5} +J_{4,6} +J_{4,8} +J_{5,7} +J_{6,7} +J_{7,8}$"
      ],
      "text/plain": [
       "<IPython.core.display.Math object>"
      ]
     },
     "metadata": {},
     "output_type": "display_data"
    },
    {
     "data": {
      "text/latex": [
       "$\\displaystyle 115: (-1, -1, -1, -1, -1, -1, -1, -1) < (-1, 1, 1, 1, -1, -1, 1, 1)\\iff0 < +h_{2} +h_{3} +h_{4} +h_{7} +h_{8} -J_{1,2} -J_{1,3} -J_{1,4} -J_{1,7} -J_{1,8} -J_{2,5} -J_{2,6} -J_{3,5} -J_{3,6} -J_{4,5} -J_{4,6} -J_{5,7} -J_{5,8} -J_{6,7} -J_{6,8}$"
      ],
      "text/plain": [
       "<IPython.core.display.Math object>"
      ]
     },
     "metadata": {},
     "output_type": "display_data"
    },
    {
     "data": {
      "text/latex": [
       "$\\displaystyle 115: (-1, 1, 1, 1, -1, -1, 1, 1) < (-1, -1, -1, -1, -1, -1, -1, -1)\\iff0 < -h_{2} -h_{3} -h_{4} -h_{7} -h_{8} +J_{1,2} +J_{1,3} +J_{1,4} +J_{1,7} +J_{1,8} +J_{2,5} +J_{2,6} +J_{3,5} +J_{3,6} +J_{4,5} +J_{4,6} +J_{5,7} +J_{5,8} +J_{6,7} +J_{6,8}$"
      ],
      "text/plain": [
       "<IPython.core.display.Math object>"
      ]
     },
     "metadata": {},
     "output_type": "display_data"
    },
    {
     "data": {
      "text/latex": [
       "$\\displaystyle 116: (-1, -1, -1, -1, -1, -1, -1, -1) < (-1, 1, 1, 1, -1, 1, -1, -1)\\iff0 < +h_{2} +h_{3} +h_{4} +h_{6} -J_{1,2} -J_{1,3} -J_{1,4} -J_{1,6} -J_{2,5} -J_{2,7} -J_{2,8} -J_{3,5} -J_{3,7} -J_{3,8} -J_{4,5} -J_{4,7} -J_{4,8} -J_{5,6} -J_{6,7} -J_{6,8}$"
      ],
      "text/plain": [
       "<IPython.core.display.Math object>"
      ]
     },
     "metadata": {},
     "output_type": "display_data"
    },
    {
     "data": {
      "text/latex": [
       "$\\displaystyle 116: (-1, 1, 1, 1, -1, 1, -1, -1) < (-1, -1, -1, -1, -1, -1, -1, -1)\\iff0 < -h_{2} -h_{3} -h_{4} -h_{6} +J_{1,2} +J_{1,3} +J_{1,4} +J_{1,6} +J_{2,5} +J_{2,7} +J_{2,8} +J_{3,5} +J_{3,7} +J_{3,8} +J_{4,5} +J_{4,7} +J_{4,8} +J_{5,6} +J_{6,7} +J_{6,8}$"
      ],
      "text/plain": [
       "<IPython.core.display.Math object>"
      ]
     },
     "metadata": {},
     "output_type": "display_data"
    },
    {
     "data": {
      "text/latex": [
       "$\\displaystyle 117: (-1, -1, -1, -1, -1, -1, -1, -1) < (-1, 1, 1, 1, -1, 1, -1, 1)\\iff0 < +h_{2} +h_{3} +h_{4} +h_{6} +h_{8} -J_{1,2} -J_{1,3} -J_{1,4} -J_{1,6} -J_{1,8} -J_{2,5} -J_{2,7} -J_{3,5} -J_{3,7} -J_{4,5} -J_{4,7} -J_{5,6} -J_{5,8} -J_{6,7} -J_{7,8}$"
      ],
      "text/plain": [
       "<IPython.core.display.Math object>"
      ]
     },
     "metadata": {},
     "output_type": "display_data"
    },
    {
     "data": {
      "text/latex": [
       "$\\displaystyle 117: (-1, 1, 1, 1, -1, 1, -1, 1) < (-1, -1, -1, -1, -1, -1, -1, -1)\\iff0 < -h_{2} -h_{3} -h_{4} -h_{6} -h_{8} +J_{1,2} +J_{1,3} +J_{1,4} +J_{1,6} +J_{1,8} +J_{2,5} +J_{2,7} +J_{3,5} +J_{3,7} +J_{4,5} +J_{4,7} +J_{5,6} +J_{5,8} +J_{6,7} +J_{7,8}$"
      ],
      "text/plain": [
       "<IPython.core.display.Math object>"
      ]
     },
     "metadata": {},
     "output_type": "display_data"
    },
    {
     "data": {
      "text/latex": [
       "$\\displaystyle 118: (-1, -1, -1, -1, -1, -1, -1, -1) < (-1, 1, 1, 1, -1, 1, 1, -1)\\iff0 < +h_{2} +h_{3} +h_{4} +h_{6} +h_{7} -J_{1,2} -J_{1,3} -J_{1,4} -J_{1,6} -J_{1,7} -J_{2,5} -J_{2,8} -J_{3,5} -J_{3,8} -J_{4,5} -J_{4,8} -J_{5,6} -J_{5,7} -J_{6,8} -J_{7,8}$"
      ],
      "text/plain": [
       "<IPython.core.display.Math object>"
      ]
     },
     "metadata": {},
     "output_type": "display_data"
    },
    {
     "data": {
      "text/latex": [
       "$\\displaystyle 118: (-1, 1, 1, 1, -1, 1, 1, -1) < (-1, -1, -1, -1, -1, -1, -1, -1)\\iff0 < -h_{2} -h_{3} -h_{4} -h_{6} -h_{7} +J_{1,2} +J_{1,3} +J_{1,4} +J_{1,6} +J_{1,7} +J_{2,5} +J_{2,8} +J_{3,5} +J_{3,8} +J_{4,5} +J_{4,8} +J_{5,6} +J_{5,7} +J_{6,8} +J_{7,8}$"
      ],
      "text/plain": [
       "<IPython.core.display.Math object>"
      ]
     },
     "metadata": {},
     "output_type": "display_data"
    },
    {
     "data": {
      "text/latex": [
       "$\\displaystyle 119: (-1, -1, -1, -1, -1, -1, -1, -1) < (-1, 1, 1, 1, -1, 1, 1, 1)\\iff0 < +h_{2} +h_{3} +h_{4} +h_{6} +h_{7} +h_{8} -J_{1,2} -J_{1,3} -J_{1,4} -J_{1,6} -J_{1,7} -J_{1,8} -J_{2,5} -J_{3,5} -J_{4,5} -J_{5,6} -J_{5,7} -J_{5,8}$"
      ],
      "text/plain": [
       "<IPython.core.display.Math object>"
      ]
     },
     "metadata": {},
     "output_type": "display_data"
    },
    {
     "data": {
      "text/latex": [
       "$\\displaystyle 119: (-1, 1, 1, 1, -1, 1, 1, 1) < (-1, -1, -1, -1, -1, -1, -1, -1)\\iff0 < -h_{2} -h_{3} -h_{4} -h_{6} -h_{7} -h_{8} +J_{1,2} +J_{1,3} +J_{1,4} +J_{1,6} +J_{1,7} +J_{1,8} +J_{2,5} +J_{3,5} +J_{4,5} +J_{5,6} +J_{5,7} +J_{5,8}$"
      ],
      "text/plain": [
       "<IPython.core.display.Math object>"
      ]
     },
     "metadata": {},
     "output_type": "display_data"
    },
    {
     "data": {
      "text/latex": [
       "$\\displaystyle 120: (-1, -1, -1, -1, -1, -1, -1, -1) < (-1, 1, 1, 1, 1, -1, -1, -1)\\iff0 < +h_{2} +h_{3} +h_{4} +h_{5} -J_{1,2} -J_{1,3} -J_{1,4} -J_{1,5} -J_{2,6} -J_{2,7} -J_{2,8} -J_{3,6} -J_{3,7} -J_{3,8} -J_{4,6} -J_{4,7} -J_{4,8} -J_{5,6} -J_{5,7} -J_{5,8}$"
      ],
      "text/plain": [
       "<IPython.core.display.Math object>"
      ]
     },
     "metadata": {},
     "output_type": "display_data"
    },
    {
     "data": {
      "text/latex": [
       "$\\displaystyle 120: (-1, 1, 1, 1, 1, -1, -1, -1) < (-1, -1, -1, -1, -1, -1, -1, -1)\\iff0 < -h_{2} -h_{3} -h_{4} -h_{5} +J_{1,2} +J_{1,3} +J_{1,4} +J_{1,5} +J_{2,6} +J_{2,7} +J_{2,8} +J_{3,6} +J_{3,7} +J_{3,8} +J_{4,6} +J_{4,7} +J_{4,8} +J_{5,6} +J_{5,7} +J_{5,8}$"
      ],
      "text/plain": [
       "<IPython.core.display.Math object>"
      ]
     },
     "metadata": {},
     "output_type": "display_data"
    },
    {
     "data": {
      "text/latex": [
       "$\\displaystyle 121: (-1, -1, -1, -1, -1, -1, -1, -1) < (-1, 1, 1, 1, 1, -1, -1, 1)\\iff0 < +h_{2} +h_{3} +h_{4} +h_{5} +h_{8} -J_{1,2} -J_{1,3} -J_{1,4} -J_{1,5} -J_{1,8} -J_{2,6} -J_{2,7} -J_{3,6} -J_{3,7} -J_{4,6} -J_{4,7} -J_{5,6} -J_{5,7} -J_{6,8} -J_{7,8}$"
      ],
      "text/plain": [
       "<IPython.core.display.Math object>"
      ]
     },
     "metadata": {},
     "output_type": "display_data"
    },
    {
     "data": {
      "text/latex": [
       "$\\displaystyle 121: (-1, 1, 1, 1, 1, -1, -1, 1) < (-1, -1, -1, -1, -1, -1, -1, -1)\\iff0 < -h_{2} -h_{3} -h_{4} -h_{5} -h_{8} +J_{1,2} +J_{1,3} +J_{1,4} +J_{1,5} +J_{1,8} +J_{2,6} +J_{2,7} +J_{3,6} +J_{3,7} +J_{4,6} +J_{4,7} +J_{5,6} +J_{5,7} +J_{6,8} +J_{7,8}$"
      ],
      "text/plain": [
       "<IPython.core.display.Math object>"
      ]
     },
     "metadata": {},
     "output_type": "display_data"
    },
    {
     "data": {
      "text/latex": [
       "$\\displaystyle 122: (-1, -1, -1, -1, -1, -1, -1, -1) < (-1, 1, 1, 1, 1, -1, 1, -1)\\iff0 < +h_{2} +h_{3} +h_{4} +h_{5} +h_{7} -J_{1,2} -J_{1,3} -J_{1,4} -J_{1,5} -J_{1,7} -J_{2,6} -J_{2,8} -J_{3,6} -J_{3,8} -J_{4,6} -J_{4,8} -J_{5,6} -J_{5,8} -J_{6,7} -J_{7,8}$"
      ],
      "text/plain": [
       "<IPython.core.display.Math object>"
      ]
     },
     "metadata": {},
     "output_type": "display_data"
    },
    {
     "data": {
      "text/latex": [
       "$\\displaystyle 122: (-1, 1, 1, 1, 1, -1, 1, -1) < (-1, -1, -1, -1, -1, -1, -1, -1)\\iff0 < -h_{2} -h_{3} -h_{4} -h_{5} -h_{7} +J_{1,2} +J_{1,3} +J_{1,4} +J_{1,5} +J_{1,7} +J_{2,6} +J_{2,8} +J_{3,6} +J_{3,8} +J_{4,6} +J_{4,8} +J_{5,6} +J_{5,8} +J_{6,7} +J_{7,8}$"
      ],
      "text/plain": [
       "<IPython.core.display.Math object>"
      ]
     },
     "metadata": {},
     "output_type": "display_data"
    },
    {
     "data": {
      "text/latex": [
       "$\\displaystyle 123: (-1, -1, -1, -1, -1, -1, -1, -1) < (-1, 1, 1, 1, 1, -1, 1, 1)\\iff0 < +h_{2} +h_{3} +h_{4} +h_{5} +h_{7} +h_{8} -J_{1,2} -J_{1,3} -J_{1,4} -J_{1,5} -J_{1,7} -J_{1,8} -J_{2,6} -J_{3,6} -J_{4,6} -J_{5,6} -J_{6,7} -J_{6,8}$"
      ],
      "text/plain": [
       "<IPython.core.display.Math object>"
      ]
     },
     "metadata": {},
     "output_type": "display_data"
    },
    {
     "data": {
      "text/latex": [
       "$\\displaystyle 123: (-1, 1, 1, 1, 1, -1, 1, 1) < (-1, -1, -1, -1, -1, -1, -1, -1)\\iff0 < -h_{2} -h_{3} -h_{4} -h_{5} -h_{7} -h_{8} +J_{1,2} +J_{1,3} +J_{1,4} +J_{1,5} +J_{1,7} +J_{1,8} +J_{2,6} +J_{3,6} +J_{4,6} +J_{5,6} +J_{6,7} +J_{6,8}$"
      ],
      "text/plain": [
       "<IPython.core.display.Math object>"
      ]
     },
     "metadata": {},
     "output_type": "display_data"
    },
    {
     "data": {
      "text/latex": [
       "$\\displaystyle 124: (-1, -1, -1, -1, -1, -1, -1, -1) < (-1, 1, 1, 1, 1, 1, -1, -1)\\iff0 < +h_{2} +h_{3} +h_{4} +h_{5} +h_{6} -J_{1,2} -J_{1,3} -J_{1,4} -J_{1,5} -J_{1,6} -J_{2,7} -J_{2,8} -J_{3,7} -J_{3,8} -J_{4,7} -J_{4,8} -J_{5,7} -J_{5,8} -J_{6,7} -J_{6,8}$"
      ],
      "text/plain": [
       "<IPython.core.display.Math object>"
      ]
     },
     "metadata": {},
     "output_type": "display_data"
    },
    {
     "data": {
      "text/latex": [
       "$\\displaystyle 124: (-1, 1, 1, 1, 1, 1, -1, -1) < (-1, -1, -1, -1, -1, -1, -1, -1)\\iff0 < -h_{2} -h_{3} -h_{4} -h_{5} -h_{6} +J_{1,2} +J_{1,3} +J_{1,4} +J_{1,5} +J_{1,6} +J_{2,7} +J_{2,8} +J_{3,7} +J_{3,8} +J_{4,7} +J_{4,8} +J_{5,7} +J_{5,8} +J_{6,7} +J_{6,8}$"
      ],
      "text/plain": [
       "<IPython.core.display.Math object>"
      ]
     },
     "metadata": {},
     "output_type": "display_data"
    },
    {
     "data": {
      "text/latex": [
       "$\\displaystyle 125: (-1, -1, -1, -1, -1, -1, -1, -1) < (-1, 1, 1, 1, 1, 1, -1, 1)\\iff0 < +h_{2} +h_{3} +h_{4} +h_{5} +h_{6} +h_{8} -J_{1,2} -J_{1,3} -J_{1,4} -J_{1,5} -J_{1,6} -J_{1,8} -J_{2,7} -J_{3,7} -J_{4,7} -J_{5,7} -J_{6,7} -J_{7,8}$"
      ],
      "text/plain": [
       "<IPython.core.display.Math object>"
      ]
     },
     "metadata": {},
     "output_type": "display_data"
    },
    {
     "data": {
      "text/latex": [
       "$\\displaystyle 125: (-1, 1, 1, 1, 1, 1, -1, 1) < (-1, -1, -1, -1, -1, -1, -1, -1)\\iff0 < -h_{2} -h_{3} -h_{4} -h_{5} -h_{6} -h_{8} +J_{1,2} +J_{1,3} +J_{1,4} +J_{1,5} +J_{1,6} +J_{1,8} +J_{2,7} +J_{3,7} +J_{4,7} +J_{5,7} +J_{6,7} +J_{7,8}$"
      ],
      "text/plain": [
       "<IPython.core.display.Math object>"
      ]
     },
     "metadata": {},
     "output_type": "display_data"
    },
    {
     "data": {
      "text/latex": [
       "$\\displaystyle 126: (-1, -1, -1, -1, -1, -1, -1, -1) < (-1, 1, 1, 1, 1, 1, 1, -1)\\iff0 < +h_{2} +h_{3} +h_{4} +h_{5} +h_{6} +h_{7} -J_{1,2} -J_{1,3} -J_{1,4} -J_{1,5} -J_{1,6} -J_{1,7} -J_{2,8} -J_{3,8} -J_{4,8} -J_{5,8} -J_{6,8} -J_{7,8}$"
      ],
      "text/plain": [
       "<IPython.core.display.Math object>"
      ]
     },
     "metadata": {},
     "output_type": "display_data"
    },
    {
     "data": {
      "text/latex": [
       "$\\displaystyle 126: (-1, 1, 1, 1, 1, 1, 1, -1) < (-1, -1, -1, -1, -1, -1, -1, -1)\\iff0 < -h_{2} -h_{3} -h_{4} -h_{5} -h_{6} -h_{7} +J_{1,2} +J_{1,3} +J_{1,4} +J_{1,5} +J_{1,6} +J_{1,7} +J_{2,8} +J_{3,8} +J_{4,8} +J_{5,8} +J_{6,8} +J_{7,8}$"
      ],
      "text/plain": [
       "<IPython.core.display.Math object>"
      ]
     },
     "metadata": {},
     "output_type": "display_data"
    },
    {
     "data": {
      "text/latex": [
       "$\\displaystyle 127: (-1, -1, -1, -1, -1, -1, -1, -1) < (-1, 1, 1, 1, 1, 1, 1, 1)\\iff0 < +h_{2} +h_{3} +h_{4} +h_{5} +h_{6} +h_{7} +h_{8} -J_{1,2} -J_{1,3} -J_{1,4} -J_{1,5} -J_{1,6} -J_{1,7} -J_{1,8}$"
      ],
      "text/plain": [
       "<IPython.core.display.Math object>"
      ]
     },
     "metadata": {},
     "output_type": "display_data"
    },
    {
     "data": {
      "text/latex": [
       "$\\displaystyle 127: (-1, 1, 1, 1, 1, 1, 1, 1) < (-1, -1, -1, -1, -1, -1, -1, -1)\\iff0 < -h_{2} -h_{3} -h_{4} -h_{5} -h_{6} -h_{7} -h_{8} +J_{1,2} +J_{1,3} +J_{1,4} +J_{1,5} +J_{1,6} +J_{1,7} +J_{1,8}$"
      ],
      "text/plain": [
       "<IPython.core.display.Math object>"
      ]
     },
     "metadata": {},
     "output_type": "display_data"
    },
    {
     "data": {
      "text/latex": [
       "$\\displaystyle 128: (-1, -1, -1, -1, -1, -1, -1, -1) < (1, -1, -1, -1, -1, -1, -1, -1)\\iff0 < +h_{1} -J_{1,2} -J_{1,3} -J_{1,4} -J_{1,5} -J_{1,6} -J_{1,7} -J_{1,8}$"
      ],
      "text/plain": [
       "<IPython.core.display.Math object>"
      ]
     },
     "metadata": {},
     "output_type": "display_data"
    },
    {
     "data": {
      "text/latex": [
       "$\\displaystyle 128: (1, -1, -1, -1, -1, -1, -1, -1) < (-1, -1, -1, -1, -1, -1, -1, -1)\\iff0 < -h_{1} +J_{1,2} +J_{1,3} +J_{1,4} +J_{1,5} +J_{1,6} +J_{1,7} +J_{1,8}$"
      ],
      "text/plain": [
       "<IPython.core.display.Math object>"
      ]
     },
     "metadata": {},
     "output_type": "display_data"
    },
    {
     "data": {
      "text/latex": [
       "$\\displaystyle 129: (-1, -1, -1, -1, -1, -1, -1, -1) < (1, -1, -1, -1, -1, -1, -1, 1)\\iff0 < +h_{1} +h_{8} -J_{1,2} -J_{1,3} -J_{1,4} -J_{1,5} -J_{1,6} -J_{1,7} -J_{2,8} -J_{3,8} -J_{4,8} -J_{5,8} -J_{6,8} -J_{7,8}$"
      ],
      "text/plain": [
       "<IPython.core.display.Math object>"
      ]
     },
     "metadata": {},
     "output_type": "display_data"
    },
    {
     "data": {
      "text/latex": [
       "$\\displaystyle 129: (1, -1, -1, -1, -1, -1, -1, 1) < (-1, -1, -1, -1, -1, -1, -1, -1)\\iff0 < -h_{1} -h_{8} +J_{1,2} +J_{1,3} +J_{1,4} +J_{1,5} +J_{1,6} +J_{1,7} +J_{2,8} +J_{3,8} +J_{4,8} +J_{5,8} +J_{6,8} +J_{7,8}$"
      ],
      "text/plain": [
       "<IPython.core.display.Math object>"
      ]
     },
     "metadata": {},
     "output_type": "display_data"
    },
    {
     "data": {
      "text/latex": [
       "$\\displaystyle 130: (-1, -1, -1, -1, -1, -1, -1, -1) < (1, -1, -1, -1, -1, -1, 1, -1)\\iff0 < +h_{1} +h_{7} -J_{1,2} -J_{1,3} -J_{1,4} -J_{1,5} -J_{1,6} -J_{1,8} -J_{2,7} -J_{3,7} -J_{4,7} -J_{5,7} -J_{6,7} -J_{7,8}$"
      ],
      "text/plain": [
       "<IPython.core.display.Math object>"
      ]
     },
     "metadata": {},
     "output_type": "display_data"
    },
    {
     "data": {
      "text/latex": [
       "$\\displaystyle 130: (1, -1, -1, -1, -1, -1, 1, -1) < (-1, -1, -1, -1, -1, -1, -1, -1)\\iff0 < -h_{1} -h_{7} +J_{1,2} +J_{1,3} +J_{1,4} +J_{1,5} +J_{1,6} +J_{1,8} +J_{2,7} +J_{3,7} +J_{4,7} +J_{5,7} +J_{6,7} +J_{7,8}$"
      ],
      "text/plain": [
       "<IPython.core.display.Math object>"
      ]
     },
     "metadata": {},
     "output_type": "display_data"
    },
    {
     "data": {
      "text/latex": [
       "$\\displaystyle 131: (-1, -1, -1, -1, -1, -1, -1, -1) < (1, -1, -1, -1, -1, -1, 1, 1)\\iff0 < +h_{1} +h_{7} +h_{8} -J_{1,2} -J_{1,3} -J_{1,4} -J_{1,5} -J_{1,6} -J_{2,7} -J_{2,8} -J_{3,7} -J_{3,8} -J_{4,7} -J_{4,8} -J_{5,7} -J_{5,8} -J_{6,7} -J_{6,8}$"
      ],
      "text/plain": [
       "<IPython.core.display.Math object>"
      ]
     },
     "metadata": {},
     "output_type": "display_data"
    },
    {
     "data": {
      "text/latex": [
       "$\\displaystyle 131: (1, -1, -1, -1, -1, -1, 1, 1) < (-1, -1, -1, -1, -1, -1, -1, -1)\\iff0 < -h_{1} -h_{7} -h_{8} +J_{1,2} +J_{1,3} +J_{1,4} +J_{1,5} +J_{1,6} +J_{2,7} +J_{2,8} +J_{3,7} +J_{3,8} +J_{4,7} +J_{4,8} +J_{5,7} +J_{5,8} +J_{6,7} +J_{6,8}$"
      ],
      "text/plain": [
       "<IPython.core.display.Math object>"
      ]
     },
     "metadata": {},
     "output_type": "display_data"
    },
    {
     "data": {
      "text/latex": [
       "$\\displaystyle 132: (-1, -1, -1, -1, -1, -1, -1, -1) < (1, -1, -1, -1, -1, 1, -1, -1)\\iff0 < +h_{1} +h_{6} -J_{1,2} -J_{1,3} -J_{1,4} -J_{1,5} -J_{1,7} -J_{1,8} -J_{2,6} -J_{3,6} -J_{4,6} -J_{5,6} -J_{6,7} -J_{6,8}$"
      ],
      "text/plain": [
       "<IPython.core.display.Math object>"
      ]
     },
     "metadata": {},
     "output_type": "display_data"
    },
    {
     "data": {
      "text/latex": [
       "$\\displaystyle 132: (1, -1, -1, -1, -1, 1, -1, -1) < (-1, -1, -1, -1, -1, -1, -1, -1)\\iff0 < -h_{1} -h_{6} +J_{1,2} +J_{1,3} +J_{1,4} +J_{1,5} +J_{1,7} +J_{1,8} +J_{2,6} +J_{3,6} +J_{4,6} +J_{5,6} +J_{6,7} +J_{6,8}$"
      ],
      "text/plain": [
       "<IPython.core.display.Math object>"
      ]
     },
     "metadata": {},
     "output_type": "display_data"
    },
    {
     "data": {
      "text/latex": [
       "$\\displaystyle 133: (-1, -1, -1, -1, -1, -1, -1, -1) < (1, -1, -1, -1, -1, 1, -1, 1)\\iff0 < +h_{1} +h_{6} +h_{8} -J_{1,2} -J_{1,3} -J_{1,4} -J_{1,5} -J_{1,7} -J_{2,6} -J_{2,8} -J_{3,6} -J_{3,8} -J_{4,6} -J_{4,8} -J_{5,6} -J_{5,8} -J_{6,7} -J_{7,8}$"
      ],
      "text/plain": [
       "<IPython.core.display.Math object>"
      ]
     },
     "metadata": {},
     "output_type": "display_data"
    },
    {
     "data": {
      "text/latex": [
       "$\\displaystyle 133: (1, -1, -1, -1, -1, 1, -1, 1) < (-1, -1, -1, -1, -1, -1, -1, -1)\\iff0 < -h_{1} -h_{6} -h_{8} +J_{1,2} +J_{1,3} +J_{1,4} +J_{1,5} +J_{1,7} +J_{2,6} +J_{2,8} +J_{3,6} +J_{3,8} +J_{4,6} +J_{4,8} +J_{5,6} +J_{5,8} +J_{6,7} +J_{7,8}$"
      ],
      "text/plain": [
       "<IPython.core.display.Math object>"
      ]
     },
     "metadata": {},
     "output_type": "display_data"
    },
    {
     "data": {
      "text/latex": [
       "$\\displaystyle 134: (-1, -1, -1, -1, -1, -1, -1, -1) < (1, -1, -1, -1, -1, 1, 1, -1)\\iff0 < +h_{1} +h_{6} +h_{7} -J_{1,2} -J_{1,3} -J_{1,4} -J_{1,5} -J_{1,8} -J_{2,6} -J_{2,7} -J_{3,6} -J_{3,7} -J_{4,6} -J_{4,7} -J_{5,6} -J_{5,7} -J_{6,8} -J_{7,8}$"
      ],
      "text/plain": [
       "<IPython.core.display.Math object>"
      ]
     },
     "metadata": {},
     "output_type": "display_data"
    },
    {
     "data": {
      "text/latex": [
       "$\\displaystyle 134: (1, -1, -1, -1, -1, 1, 1, -1) < (-1, -1, -1, -1, -1, -1, -1, -1)\\iff0 < -h_{1} -h_{6} -h_{7} +J_{1,2} +J_{1,3} +J_{1,4} +J_{1,5} +J_{1,8} +J_{2,6} +J_{2,7} +J_{3,6} +J_{3,7} +J_{4,6} +J_{4,7} +J_{5,6} +J_{5,7} +J_{6,8} +J_{7,8}$"
      ],
      "text/plain": [
       "<IPython.core.display.Math object>"
      ]
     },
     "metadata": {},
     "output_type": "display_data"
    },
    {
     "data": {
      "text/latex": [
       "$\\displaystyle 135: (-1, -1, -1, -1, -1, -1, -1, -1) < (1, -1, -1, -1, -1, 1, 1, 1)\\iff0 < +h_{1} +h_{6} +h_{7} +h_{8} -J_{1,2} -J_{1,3} -J_{1,4} -J_{1,5} -J_{2,6} -J_{2,7} -J_{2,8} -J_{3,6} -J_{3,7} -J_{3,8} -J_{4,6} -J_{4,7} -J_{4,8} -J_{5,6} -J_{5,7} -J_{5,8}$"
      ],
      "text/plain": [
       "<IPython.core.display.Math object>"
      ]
     },
     "metadata": {},
     "output_type": "display_data"
    },
    {
     "data": {
      "text/latex": [
       "$\\displaystyle 135: (1, -1, -1, -1, -1, 1, 1, 1) < (-1, -1, -1, -1, -1, -1, -1, -1)\\iff0 < -h_{1} -h_{6} -h_{7} -h_{8} +J_{1,2} +J_{1,3} +J_{1,4} +J_{1,5} +J_{2,6} +J_{2,7} +J_{2,8} +J_{3,6} +J_{3,7} +J_{3,8} +J_{4,6} +J_{4,7} +J_{4,8} +J_{5,6} +J_{5,7} +J_{5,8}$"
      ],
      "text/plain": [
       "<IPython.core.display.Math object>"
      ]
     },
     "metadata": {},
     "output_type": "display_data"
    },
    {
     "data": {
      "text/latex": [
       "$\\displaystyle 136: (-1, -1, -1, -1, -1, -1, -1, -1) < (1, -1, -1, -1, 1, -1, -1, -1)\\iff0 < +h_{1} +h_{5} -J_{1,2} -J_{1,3} -J_{1,4} -J_{1,6} -J_{1,7} -J_{1,8} -J_{2,5} -J_{3,5} -J_{4,5} -J_{5,6} -J_{5,7} -J_{5,8}$"
      ],
      "text/plain": [
       "<IPython.core.display.Math object>"
      ]
     },
     "metadata": {},
     "output_type": "display_data"
    },
    {
     "data": {
      "text/latex": [
       "$\\displaystyle 136: (1, -1, -1, -1, 1, -1, -1, -1) < (-1, -1, -1, -1, -1, -1, -1, -1)\\iff0 < -h_{1} -h_{5} +J_{1,2} +J_{1,3} +J_{1,4} +J_{1,6} +J_{1,7} +J_{1,8} +J_{2,5} +J_{3,5} +J_{4,5} +J_{5,6} +J_{5,7} +J_{5,8}$"
      ],
      "text/plain": [
       "<IPython.core.display.Math object>"
      ]
     },
     "metadata": {},
     "output_type": "display_data"
    },
    {
     "data": {
      "text/latex": [
       "$\\displaystyle 137: (-1, -1, -1, -1, -1, -1, -1, -1) < (1, -1, -1, -1, 1, -1, -1, 1)\\iff0 < +h_{1} +h_{5} +h_{8} -J_{1,2} -J_{1,3} -J_{1,4} -J_{1,6} -J_{1,7} -J_{2,5} -J_{2,8} -J_{3,5} -J_{3,8} -J_{4,5} -J_{4,8} -J_{5,6} -J_{5,7} -J_{6,8} -J_{7,8}$"
      ],
      "text/plain": [
       "<IPython.core.display.Math object>"
      ]
     },
     "metadata": {},
     "output_type": "display_data"
    },
    {
     "data": {
      "text/latex": [
       "$\\displaystyle 137: (1, -1, -1, -1, 1, -1, -1, 1) < (-1, -1, -1, -1, -1, -1, -1, -1)\\iff0 < -h_{1} -h_{5} -h_{8} +J_{1,2} +J_{1,3} +J_{1,4} +J_{1,6} +J_{1,7} +J_{2,5} +J_{2,8} +J_{3,5} +J_{3,8} +J_{4,5} +J_{4,8} +J_{5,6} +J_{5,7} +J_{6,8} +J_{7,8}$"
      ],
      "text/plain": [
       "<IPython.core.display.Math object>"
      ]
     },
     "metadata": {},
     "output_type": "display_data"
    },
    {
     "data": {
      "text/latex": [
       "$\\displaystyle 138: (-1, -1, -1, -1, -1, -1, -1, -1) < (1, -1, -1, -1, 1, -1, 1, -1)\\iff0 < +h_{1} +h_{5} +h_{7} -J_{1,2} -J_{1,3} -J_{1,4} -J_{1,6} -J_{1,8} -J_{2,5} -J_{2,7} -J_{3,5} -J_{3,7} -J_{4,5} -J_{4,7} -J_{5,6} -J_{5,8} -J_{6,7} -J_{7,8}$"
      ],
      "text/plain": [
       "<IPython.core.display.Math object>"
      ]
     },
     "metadata": {},
     "output_type": "display_data"
    },
    {
     "data": {
      "text/latex": [
       "$\\displaystyle 138: (1, -1, -1, -1, 1, -1, 1, -1) < (-1, -1, -1, -1, -1, -1, -1, -1)\\iff0 < -h_{1} -h_{5} -h_{7} +J_{1,2} +J_{1,3} +J_{1,4} +J_{1,6} +J_{1,8} +J_{2,5} +J_{2,7} +J_{3,5} +J_{3,7} +J_{4,5} +J_{4,7} +J_{5,6} +J_{5,8} +J_{6,7} +J_{7,8}$"
      ],
      "text/plain": [
       "<IPython.core.display.Math object>"
      ]
     },
     "metadata": {},
     "output_type": "display_data"
    },
    {
     "data": {
      "text/latex": [
       "$\\displaystyle 139: (-1, -1, -1, -1, -1, -1, -1, -1) < (1, -1, -1, -1, 1, -1, 1, 1)\\iff0 < +h_{1} +h_{5} +h_{7} +h_{8} -J_{1,2} -J_{1,3} -J_{1,4} -J_{1,6} -J_{2,5} -J_{2,7} -J_{2,8} -J_{3,5} -J_{3,7} -J_{3,8} -J_{4,5} -J_{4,7} -J_{4,8} -J_{5,6} -J_{6,7} -J_{6,8}$"
      ],
      "text/plain": [
       "<IPython.core.display.Math object>"
      ]
     },
     "metadata": {},
     "output_type": "display_data"
    },
    {
     "data": {
      "text/latex": [
       "$\\displaystyle 139: (1, -1, -1, -1, 1, -1, 1, 1) < (-1, -1, -1, -1, -1, -1, -1, -1)\\iff0 < -h_{1} -h_{5} -h_{7} -h_{8} +J_{1,2} +J_{1,3} +J_{1,4} +J_{1,6} +J_{2,5} +J_{2,7} +J_{2,8} +J_{3,5} +J_{3,7} +J_{3,8} +J_{4,5} +J_{4,7} +J_{4,8} +J_{5,6} +J_{6,7} +J_{6,8}$"
      ],
      "text/plain": [
       "<IPython.core.display.Math object>"
      ]
     },
     "metadata": {},
     "output_type": "display_data"
    },
    {
     "data": {
      "text/latex": [
       "$\\displaystyle 140: (-1, -1, -1, -1, -1, -1, -1, -1) < (1, -1, -1, -1, 1, 1, -1, -1)\\iff0 < +h_{1} +h_{5} +h_{6} -J_{1,2} -J_{1,3} -J_{1,4} -J_{1,7} -J_{1,8} -J_{2,5} -J_{2,6} -J_{3,5} -J_{3,6} -J_{4,5} -J_{4,6} -J_{5,7} -J_{5,8} -J_{6,7} -J_{6,8}$"
      ],
      "text/plain": [
       "<IPython.core.display.Math object>"
      ]
     },
     "metadata": {},
     "output_type": "display_data"
    },
    {
     "data": {
      "text/latex": [
       "$\\displaystyle 140: (1, -1, -1, -1, 1, 1, -1, -1) < (-1, -1, -1, -1, -1, -1, -1, -1)\\iff0 < -h_{1} -h_{5} -h_{6} +J_{1,2} +J_{1,3} +J_{1,4} +J_{1,7} +J_{1,8} +J_{2,5} +J_{2,6} +J_{3,5} +J_{3,6} +J_{4,5} +J_{4,6} +J_{5,7} +J_{5,8} +J_{6,7} +J_{6,8}$"
      ],
      "text/plain": [
       "<IPython.core.display.Math object>"
      ]
     },
     "metadata": {},
     "output_type": "display_data"
    },
    {
     "data": {
      "text/latex": [
       "$\\displaystyle 141: (-1, -1, -1, -1, -1, -1, -1, -1) < (1, -1, -1, -1, 1, 1, -1, 1)\\iff0 < +h_{1} +h_{5} +h_{6} +h_{8} -J_{1,2} -J_{1,3} -J_{1,4} -J_{1,7} -J_{2,5} -J_{2,6} -J_{2,8} -J_{3,5} -J_{3,6} -J_{3,8} -J_{4,5} -J_{4,6} -J_{4,8} -J_{5,7} -J_{6,7} -J_{7,8}$"
      ],
      "text/plain": [
       "<IPython.core.display.Math object>"
      ]
     },
     "metadata": {},
     "output_type": "display_data"
    },
    {
     "data": {
      "text/latex": [
       "$\\displaystyle 141: (1, -1, -1, -1, 1, 1, -1, 1) < (-1, -1, -1, -1, -1, -1, -1, -1)\\iff0 < -h_{1} -h_{5} -h_{6} -h_{8} +J_{1,2} +J_{1,3} +J_{1,4} +J_{1,7} +J_{2,5} +J_{2,6} +J_{2,8} +J_{3,5} +J_{3,6} +J_{3,8} +J_{4,5} +J_{4,6} +J_{4,8} +J_{5,7} +J_{6,7} +J_{7,8}$"
      ],
      "text/plain": [
       "<IPython.core.display.Math object>"
      ]
     },
     "metadata": {},
     "output_type": "display_data"
    },
    {
     "data": {
      "text/latex": [
       "$\\displaystyle 142: (-1, -1, -1, -1, -1, -1, -1, -1) < (1, -1, -1, -1, 1, 1, 1, -1)\\iff0 < +h_{1} +h_{5} +h_{6} +h_{7} -J_{1,2} -J_{1,3} -J_{1,4} -J_{1,8} -J_{2,5} -J_{2,6} -J_{2,7} -J_{3,5} -J_{3,6} -J_{3,7} -J_{4,5} -J_{4,6} -J_{4,7} -J_{5,8} -J_{6,8} -J_{7,8}$"
      ],
      "text/plain": [
       "<IPython.core.display.Math object>"
      ]
     },
     "metadata": {},
     "output_type": "display_data"
    },
    {
     "data": {
      "text/latex": [
       "$\\displaystyle 142: (1, -1, -1, -1, 1, 1, 1, -1) < (-1, -1, -1, -1, -1, -1, -1, -1)\\iff0 < -h_{1} -h_{5} -h_{6} -h_{7} +J_{1,2} +J_{1,3} +J_{1,4} +J_{1,8} +J_{2,5} +J_{2,6} +J_{2,7} +J_{3,5} +J_{3,6} +J_{3,7} +J_{4,5} +J_{4,6} +J_{4,7} +J_{5,8} +J_{6,8} +J_{7,8}$"
      ],
      "text/plain": [
       "<IPython.core.display.Math object>"
      ]
     },
     "metadata": {},
     "output_type": "display_data"
    },
    {
     "data": {
      "text/latex": [
       "$\\displaystyle 143: (-1, -1, -1, -1, -1, -1, -1, -1) < (1, -1, -1, -1, 1, 1, 1, 1)\\iff0 < +h_{1} +h_{5} +h_{6} +h_{7} +h_{8} -J_{1,2} -J_{1,3} -J_{1,4} -J_{2,5} -J_{2,6} -J_{2,7} -J_{2,8} -J_{3,5} -J_{3,6} -J_{3,7} -J_{3,8} -J_{4,5} -J_{4,6} -J_{4,7} -J_{4,8}$"
      ],
      "text/plain": [
       "<IPython.core.display.Math object>"
      ]
     },
     "metadata": {},
     "output_type": "display_data"
    },
    {
     "data": {
      "text/latex": [
       "$\\displaystyle 143: (1, -1, -1, -1, 1, 1, 1, 1) < (-1, -1, -1, -1, -1, -1, -1, -1)\\iff0 < -h_{1} -h_{5} -h_{6} -h_{7} -h_{8} +J_{1,2} +J_{1,3} +J_{1,4} +J_{2,5} +J_{2,6} +J_{2,7} +J_{2,8} +J_{3,5} +J_{3,6} +J_{3,7} +J_{3,8} +J_{4,5} +J_{4,6} +J_{4,7} +J_{4,8}$"
      ],
      "text/plain": [
       "<IPython.core.display.Math object>"
      ]
     },
     "metadata": {},
     "output_type": "display_data"
    },
    {
     "data": {
      "text/latex": [
       "$\\displaystyle 144: (-1, -1, -1, -1, -1, -1, -1, -1) < (1, -1, -1, 1, -1, -1, -1, -1)\\iff0 < +h_{1} +h_{4} -J_{1,2} -J_{1,3} -J_{1,5} -J_{1,6} -J_{1,7} -J_{1,8} -J_{2,4} -J_{3,4} -J_{4,5} -J_{4,6} -J_{4,7} -J_{4,8}$"
      ],
      "text/plain": [
       "<IPython.core.display.Math object>"
      ]
     },
     "metadata": {},
     "output_type": "display_data"
    },
    {
     "data": {
      "text/latex": [
       "$\\displaystyle 144: (1, -1, -1, 1, -1, -1, -1, -1) < (-1, -1, -1, -1, -1, -1, -1, -1)\\iff0 < -h_{1} -h_{4} +J_{1,2} +J_{1,3} +J_{1,5} +J_{1,6} +J_{1,7} +J_{1,8} +J_{2,4} +J_{3,4} +J_{4,5} +J_{4,6} +J_{4,7} +J_{4,8}$"
      ],
      "text/plain": [
       "<IPython.core.display.Math object>"
      ]
     },
     "metadata": {},
     "output_type": "display_data"
    },
    {
     "data": {
      "text/latex": [
       "$\\displaystyle 145: (-1, -1, -1, -1, -1, -1, -1, -1) < (1, -1, -1, 1, -1, -1, -1, 1)\\iff0 < +h_{1} +h_{4} +h_{8} -J_{1,2} -J_{1,3} -J_{1,5} -J_{1,6} -J_{1,7} -J_{2,4} -J_{2,8} -J_{3,4} -J_{3,8} -J_{4,5} -J_{4,6} -J_{4,7} -J_{5,8} -J_{6,8} -J_{7,8}$"
      ],
      "text/plain": [
       "<IPython.core.display.Math object>"
      ]
     },
     "metadata": {},
     "output_type": "display_data"
    },
    {
     "data": {
      "text/latex": [
       "$\\displaystyle 145: (1, -1, -1, 1, -1, -1, -1, 1) < (-1, -1, -1, -1, -1, -1, -1, -1)\\iff0 < -h_{1} -h_{4} -h_{8} +J_{1,2} +J_{1,3} +J_{1,5} +J_{1,6} +J_{1,7} +J_{2,4} +J_{2,8} +J_{3,4} +J_{3,8} +J_{4,5} +J_{4,6} +J_{4,7} +J_{5,8} +J_{6,8} +J_{7,8}$"
      ],
      "text/plain": [
       "<IPython.core.display.Math object>"
      ]
     },
     "metadata": {},
     "output_type": "display_data"
    },
    {
     "data": {
      "text/latex": [
       "$\\displaystyle 146: (-1, -1, -1, -1, -1, -1, -1, -1) < (1, -1, -1, 1, -1, -1, 1, -1)\\iff0 < +h_{1} +h_{4} +h_{7} -J_{1,2} -J_{1,3} -J_{1,5} -J_{1,6} -J_{1,8} -J_{2,4} -J_{2,7} -J_{3,4} -J_{3,7} -J_{4,5} -J_{4,6} -J_{4,8} -J_{5,7} -J_{6,7} -J_{7,8}$"
      ],
      "text/plain": [
       "<IPython.core.display.Math object>"
      ]
     },
     "metadata": {},
     "output_type": "display_data"
    },
    {
     "data": {
      "text/latex": [
       "$\\displaystyle 146: (1, -1, -1, 1, -1, -1, 1, -1) < (-1, -1, -1, -1, -1, -1, -1, -1)\\iff0 < -h_{1} -h_{4} -h_{7} +J_{1,2} +J_{1,3} +J_{1,5} +J_{1,6} +J_{1,8} +J_{2,4} +J_{2,7} +J_{3,4} +J_{3,7} +J_{4,5} +J_{4,6} +J_{4,8} +J_{5,7} +J_{6,7} +J_{7,8}$"
      ],
      "text/plain": [
       "<IPython.core.display.Math object>"
      ]
     },
     "metadata": {},
     "output_type": "display_data"
    },
    {
     "data": {
      "text/latex": [
       "$\\displaystyle 147: (-1, -1, -1, -1, -1, -1, -1, -1) < (1, -1, -1, 1, -1, -1, 1, 1)\\iff0 < +h_{1} +h_{4} +h_{7} +h_{8} -J_{1,2} -J_{1,3} -J_{1,5} -J_{1,6} -J_{2,4} -J_{2,7} -J_{2,8} -J_{3,4} -J_{3,7} -J_{3,8} -J_{4,5} -J_{4,6} -J_{5,7} -J_{5,8} -J_{6,7} -J_{6,8}$"
      ],
      "text/plain": [
       "<IPython.core.display.Math object>"
      ]
     },
     "metadata": {},
     "output_type": "display_data"
    },
    {
     "data": {
      "text/latex": [
       "$\\displaystyle 147: (1, -1, -1, 1, -1, -1, 1, 1) < (-1, -1, -1, -1, -1, -1, -1, -1)\\iff0 < -h_{1} -h_{4} -h_{7} -h_{8} +J_{1,2} +J_{1,3} +J_{1,5} +J_{1,6} +J_{2,4} +J_{2,7} +J_{2,8} +J_{3,4} +J_{3,7} +J_{3,8} +J_{4,5} +J_{4,6} +J_{5,7} +J_{5,8} +J_{6,7} +J_{6,8}$"
      ],
      "text/plain": [
       "<IPython.core.display.Math object>"
      ]
     },
     "metadata": {},
     "output_type": "display_data"
    },
    {
     "data": {
      "text/latex": [
       "$\\displaystyle 148: (-1, -1, -1, -1, -1, -1, -1, -1) < (1, -1, -1, 1, -1, 1, -1, -1)\\iff0 < +h_{1} +h_{4} +h_{6} -J_{1,2} -J_{1,3} -J_{1,5} -J_{1,7} -J_{1,8} -J_{2,4} -J_{2,6} -J_{3,4} -J_{3,6} -J_{4,5} -J_{4,7} -J_{4,8} -J_{5,6} -J_{6,7} -J_{6,8}$"
      ],
      "text/plain": [
       "<IPython.core.display.Math object>"
      ]
     },
     "metadata": {},
     "output_type": "display_data"
    },
    {
     "data": {
      "text/latex": [
       "$\\displaystyle 148: (1, -1, -1, 1, -1, 1, -1, -1) < (-1, -1, -1, -1, -1, -1, -1, -1)\\iff0 < -h_{1} -h_{4} -h_{6} +J_{1,2} +J_{1,3} +J_{1,5} +J_{1,7} +J_{1,8} +J_{2,4} +J_{2,6} +J_{3,4} +J_{3,6} +J_{4,5} +J_{4,7} +J_{4,8} +J_{5,6} +J_{6,7} +J_{6,8}$"
      ],
      "text/plain": [
       "<IPython.core.display.Math object>"
      ]
     },
     "metadata": {},
     "output_type": "display_data"
    },
    {
     "data": {
      "text/latex": [
       "$\\displaystyle 149: (-1, -1, -1, -1, -1, -1, -1, -1) < (1, -1, -1, 1, -1, 1, -1, 1)\\iff0 < +h_{1} +h_{4} +h_{6} +h_{8} -J_{1,2} -J_{1,3} -J_{1,5} -J_{1,7} -J_{2,4} -J_{2,6} -J_{2,8} -J_{3,4} -J_{3,6} -J_{3,8} -J_{4,5} -J_{4,7} -J_{5,6} -J_{5,8} -J_{6,7} -J_{7,8}$"
      ],
      "text/plain": [
       "<IPython.core.display.Math object>"
      ]
     },
     "metadata": {},
     "output_type": "display_data"
    },
    {
     "data": {
      "text/latex": [
       "$\\displaystyle 149: (1, -1, -1, 1, -1, 1, -1, 1) < (-1, -1, -1, -1, -1, -1, -1, -1)\\iff0 < -h_{1} -h_{4} -h_{6} -h_{8} +J_{1,2} +J_{1,3} +J_{1,5} +J_{1,7} +J_{2,4} +J_{2,6} +J_{2,8} +J_{3,4} +J_{3,6} +J_{3,8} +J_{4,5} +J_{4,7} +J_{5,6} +J_{5,8} +J_{6,7} +J_{7,8}$"
      ],
      "text/plain": [
       "<IPython.core.display.Math object>"
      ]
     },
     "metadata": {},
     "output_type": "display_data"
    },
    {
     "data": {
      "text/latex": [
       "$\\displaystyle 150: (-1, -1, -1, -1, -1, -1, -1, -1) < (1, -1, -1, 1, -1, 1, 1, -1)\\iff0 < +h_{1} +h_{4} +h_{6} +h_{7} -J_{1,2} -J_{1,3} -J_{1,5} -J_{1,8} -J_{2,4} -J_{2,6} -J_{2,7} -J_{3,4} -J_{3,6} -J_{3,7} -J_{4,5} -J_{4,8} -J_{5,6} -J_{5,7} -J_{6,8} -J_{7,8}$"
      ],
      "text/plain": [
       "<IPython.core.display.Math object>"
      ]
     },
     "metadata": {},
     "output_type": "display_data"
    },
    {
     "data": {
      "text/latex": [
       "$\\displaystyle 150: (1, -1, -1, 1, -1, 1, 1, -1) < (-1, -1, -1, -1, -1, -1, -1, -1)\\iff0 < -h_{1} -h_{4} -h_{6} -h_{7} +J_{1,2} +J_{1,3} +J_{1,5} +J_{1,8} +J_{2,4} +J_{2,6} +J_{2,7} +J_{3,4} +J_{3,6} +J_{3,7} +J_{4,5} +J_{4,8} +J_{5,6} +J_{5,7} +J_{6,8} +J_{7,8}$"
      ],
      "text/plain": [
       "<IPython.core.display.Math object>"
      ]
     },
     "metadata": {},
     "output_type": "display_data"
    },
    {
     "data": {
      "text/latex": [
       "$\\displaystyle 151: (-1, -1, -1, -1, -1, -1, -1, -1) < (1, -1, -1, 1, -1, 1, 1, 1)\\iff0 < +h_{1} +h_{4} +h_{6} +h_{7} +h_{8} -J_{1,2} -J_{1,3} -J_{1,5} -J_{2,4} -J_{2,6} -J_{2,7} -J_{2,8} -J_{3,4} -J_{3,6} -J_{3,7} -J_{3,8} -J_{4,5} -J_{5,6} -J_{5,7} -J_{5,8}$"
      ],
      "text/plain": [
       "<IPython.core.display.Math object>"
      ]
     },
     "metadata": {},
     "output_type": "display_data"
    },
    {
     "data": {
      "text/latex": [
       "$\\displaystyle 151: (1, -1, -1, 1, -1, 1, 1, 1) < (-1, -1, -1, -1, -1, -1, -1, -1)\\iff0 < -h_{1} -h_{4} -h_{6} -h_{7} -h_{8} +J_{1,2} +J_{1,3} +J_{1,5} +J_{2,4} +J_{2,6} +J_{2,7} +J_{2,8} +J_{3,4} +J_{3,6} +J_{3,7} +J_{3,8} +J_{4,5} +J_{5,6} +J_{5,7} +J_{5,8}$"
      ],
      "text/plain": [
       "<IPython.core.display.Math object>"
      ]
     },
     "metadata": {},
     "output_type": "display_data"
    },
    {
     "data": {
      "text/latex": [
       "$\\displaystyle 152: (-1, -1, -1, -1, -1, -1, -1, -1) < (1, -1, -1, 1, 1, -1, -1, -1)\\iff0 < +h_{1} +h_{4} +h_{5} -J_{1,2} -J_{1,3} -J_{1,6} -J_{1,7} -J_{1,8} -J_{2,4} -J_{2,5} -J_{3,4} -J_{3,5} -J_{4,6} -J_{4,7} -J_{4,8} -J_{5,6} -J_{5,7} -J_{5,8}$"
      ],
      "text/plain": [
       "<IPython.core.display.Math object>"
      ]
     },
     "metadata": {},
     "output_type": "display_data"
    },
    {
     "data": {
      "text/latex": [
       "$\\displaystyle 152: (1, -1, -1, 1, 1, -1, -1, -1) < (-1, -1, -1, -1, -1, -1, -1, -1)\\iff0 < -h_{1} -h_{4} -h_{5} +J_{1,2} +J_{1,3} +J_{1,6} +J_{1,7} +J_{1,8} +J_{2,4} +J_{2,5} +J_{3,4} +J_{3,5} +J_{4,6} +J_{4,7} +J_{4,8} +J_{5,6} +J_{5,7} +J_{5,8}$"
      ],
      "text/plain": [
       "<IPython.core.display.Math object>"
      ]
     },
     "metadata": {},
     "output_type": "display_data"
    },
    {
     "data": {
      "text/latex": [
       "$\\displaystyle 153: (-1, -1, -1, -1, -1, -1, -1, -1) < (1, -1, -1, 1, 1, -1, -1, 1)\\iff0 < +h_{1} +h_{4} +h_{5} +h_{8} -J_{1,2} -J_{1,3} -J_{1,6} -J_{1,7} -J_{2,4} -J_{2,5} -J_{2,8} -J_{3,4} -J_{3,5} -J_{3,8} -J_{4,6} -J_{4,7} -J_{5,6} -J_{5,7} -J_{6,8} -J_{7,8}$"
      ],
      "text/plain": [
       "<IPython.core.display.Math object>"
      ]
     },
     "metadata": {},
     "output_type": "display_data"
    },
    {
     "data": {
      "text/latex": [
       "$\\displaystyle 153: (1, -1, -1, 1, 1, -1, -1, 1) < (-1, -1, -1, -1, -1, -1, -1, -1)\\iff0 < -h_{1} -h_{4} -h_{5} -h_{8} +J_{1,2} +J_{1,3} +J_{1,6} +J_{1,7} +J_{2,4} +J_{2,5} +J_{2,8} +J_{3,4} +J_{3,5} +J_{3,8} +J_{4,6} +J_{4,7} +J_{5,6} +J_{5,7} +J_{6,8} +J_{7,8}$"
      ],
      "text/plain": [
       "<IPython.core.display.Math object>"
      ]
     },
     "metadata": {},
     "output_type": "display_data"
    },
    {
     "data": {
      "text/latex": [
       "$\\displaystyle 154: (-1, -1, -1, -1, -1, -1, -1, -1) < (1, -1, -1, 1, 1, -1, 1, -1)\\iff0 < +h_{1} +h_{4} +h_{5} +h_{7} -J_{1,2} -J_{1,3} -J_{1,6} -J_{1,8} -J_{2,4} -J_{2,5} -J_{2,7} -J_{3,4} -J_{3,5} -J_{3,7} -J_{4,6} -J_{4,8} -J_{5,6} -J_{5,8} -J_{6,7} -J_{7,8}$"
      ],
      "text/plain": [
       "<IPython.core.display.Math object>"
      ]
     },
     "metadata": {},
     "output_type": "display_data"
    },
    {
     "data": {
      "text/latex": [
       "$\\displaystyle 154: (1, -1, -1, 1, 1, -1, 1, -1) < (-1, -1, -1, -1, -1, -1, -1, -1)\\iff0 < -h_{1} -h_{4} -h_{5} -h_{7} +J_{1,2} +J_{1,3} +J_{1,6} +J_{1,8} +J_{2,4} +J_{2,5} +J_{2,7} +J_{3,4} +J_{3,5} +J_{3,7} +J_{4,6} +J_{4,8} +J_{5,6} +J_{5,8} +J_{6,7} +J_{7,8}$"
      ],
      "text/plain": [
       "<IPython.core.display.Math object>"
      ]
     },
     "metadata": {},
     "output_type": "display_data"
    },
    {
     "data": {
      "text/latex": [
       "$\\displaystyle 155: (-1, -1, -1, -1, -1, -1, -1, -1) < (1, -1, -1, 1, 1, -1, 1, 1)\\iff0 < +h_{1} +h_{4} +h_{5} +h_{7} +h_{8} -J_{1,2} -J_{1,3} -J_{1,6} -J_{2,4} -J_{2,5} -J_{2,7} -J_{2,8} -J_{3,4} -J_{3,5} -J_{3,7} -J_{3,8} -J_{4,6} -J_{5,6} -J_{6,7} -J_{6,8}$"
      ],
      "text/plain": [
       "<IPython.core.display.Math object>"
      ]
     },
     "metadata": {},
     "output_type": "display_data"
    },
    {
     "data": {
      "text/latex": [
       "$\\displaystyle 155: (1, -1, -1, 1, 1, -1, 1, 1) < (-1, -1, -1, -1, -1, -1, -1, -1)\\iff0 < -h_{1} -h_{4} -h_{5} -h_{7} -h_{8} +J_{1,2} +J_{1,3} +J_{1,6} +J_{2,4} +J_{2,5} +J_{2,7} +J_{2,8} +J_{3,4} +J_{3,5} +J_{3,7} +J_{3,8} +J_{4,6} +J_{5,6} +J_{6,7} +J_{6,8}$"
      ],
      "text/plain": [
       "<IPython.core.display.Math object>"
      ]
     },
     "metadata": {},
     "output_type": "display_data"
    },
    {
     "data": {
      "text/latex": [
       "$\\displaystyle 156: (-1, -1, -1, -1, -1, -1, -1, -1) < (1, -1, -1, 1, 1, 1, -1, -1)\\iff0 < +h_{1} +h_{4} +h_{5} +h_{6} -J_{1,2} -J_{1,3} -J_{1,7} -J_{1,8} -J_{2,4} -J_{2,5} -J_{2,6} -J_{3,4} -J_{3,5} -J_{3,6} -J_{4,7} -J_{4,8} -J_{5,7} -J_{5,8} -J_{6,7} -J_{6,8}$"
      ],
      "text/plain": [
       "<IPython.core.display.Math object>"
      ]
     },
     "metadata": {},
     "output_type": "display_data"
    },
    {
     "data": {
      "text/latex": [
       "$\\displaystyle 156: (1, -1, -1, 1, 1, 1, -1, -1) < (-1, -1, -1, -1, -1, -1, -1, -1)\\iff0 < -h_{1} -h_{4} -h_{5} -h_{6} +J_{1,2} +J_{1,3} +J_{1,7} +J_{1,8} +J_{2,4} +J_{2,5} +J_{2,6} +J_{3,4} +J_{3,5} +J_{3,6} +J_{4,7} +J_{4,8} +J_{5,7} +J_{5,8} +J_{6,7} +J_{6,8}$"
      ],
      "text/plain": [
       "<IPython.core.display.Math object>"
      ]
     },
     "metadata": {},
     "output_type": "display_data"
    },
    {
     "data": {
      "text/latex": [
       "$\\displaystyle 157: (-1, -1, -1, -1, -1, -1, -1, -1) < (1, -1, -1, 1, 1, 1, -1, 1)\\iff0 < +h_{1} +h_{4} +h_{5} +h_{6} +h_{8} -J_{1,2} -J_{1,3} -J_{1,7} -J_{2,4} -J_{2,5} -J_{2,6} -J_{2,8} -J_{3,4} -J_{3,5} -J_{3,6} -J_{3,8} -J_{4,7} -J_{5,7} -J_{6,7} -J_{7,8}$"
      ],
      "text/plain": [
       "<IPython.core.display.Math object>"
      ]
     },
     "metadata": {},
     "output_type": "display_data"
    },
    {
     "data": {
      "text/latex": [
       "$\\displaystyle 157: (1, -1, -1, 1, 1, 1, -1, 1) < (-1, -1, -1, -1, -1, -1, -1, -1)\\iff0 < -h_{1} -h_{4} -h_{5} -h_{6} -h_{8} +J_{1,2} +J_{1,3} +J_{1,7} +J_{2,4} +J_{2,5} +J_{2,6} +J_{2,8} +J_{3,4} +J_{3,5} +J_{3,6} +J_{3,8} +J_{4,7} +J_{5,7} +J_{6,7} +J_{7,8}$"
      ],
      "text/plain": [
       "<IPython.core.display.Math object>"
      ]
     },
     "metadata": {},
     "output_type": "display_data"
    },
    {
     "data": {
      "text/latex": [
       "$\\displaystyle 158: (-1, -1, -1, -1, -1, -1, -1, -1) < (1, -1, -1, 1, 1, 1, 1, -1)\\iff0 < +h_{1} +h_{4} +h_{5} +h_{6} +h_{7} -J_{1,2} -J_{1,3} -J_{1,8} -J_{2,4} -J_{2,5} -J_{2,6} -J_{2,7} -J_{3,4} -J_{3,5} -J_{3,6} -J_{3,7} -J_{4,8} -J_{5,8} -J_{6,8} -J_{7,8}$"
      ],
      "text/plain": [
       "<IPython.core.display.Math object>"
      ]
     },
     "metadata": {},
     "output_type": "display_data"
    },
    {
     "data": {
      "text/latex": [
       "$\\displaystyle 158: (1, -1, -1, 1, 1, 1, 1, -1) < (-1, -1, -1, -1, -1, -1, -1, -1)\\iff0 < -h_{1} -h_{4} -h_{5} -h_{6} -h_{7} +J_{1,2} +J_{1,3} +J_{1,8} +J_{2,4} +J_{2,5} +J_{2,6} +J_{2,7} +J_{3,4} +J_{3,5} +J_{3,6} +J_{3,7} +J_{4,8} +J_{5,8} +J_{6,8} +J_{7,8}$"
      ],
      "text/plain": [
       "<IPython.core.display.Math object>"
      ]
     },
     "metadata": {},
     "output_type": "display_data"
    },
    {
     "data": {
      "text/latex": [
       "$\\displaystyle 159: (-1, -1, -1, -1, -1, -1, -1, -1) < (1, -1, -1, 1, 1, 1, 1, 1)\\iff0 < +h_{1} +h_{4} +h_{5} +h_{6} +h_{7} +h_{8} -J_{1,2} -J_{1,3} -J_{2,4} -J_{2,5} -J_{2,6} -J_{2,7} -J_{2,8} -J_{3,4} -J_{3,5} -J_{3,6} -J_{3,7} -J_{3,8}$"
      ],
      "text/plain": [
       "<IPython.core.display.Math object>"
      ]
     },
     "metadata": {},
     "output_type": "display_data"
    },
    {
     "data": {
      "text/latex": [
       "$\\displaystyle 159: (1, -1, -1, 1, 1, 1, 1, 1) < (-1, -1, -1, -1, -1, -1, -1, -1)\\iff0 < -h_{1} -h_{4} -h_{5} -h_{6} -h_{7} -h_{8} +J_{1,2} +J_{1,3} +J_{2,4} +J_{2,5} +J_{2,6} +J_{2,7} +J_{2,8} +J_{3,4} +J_{3,5} +J_{3,6} +J_{3,7} +J_{3,8}$"
      ],
      "text/plain": [
       "<IPython.core.display.Math object>"
      ]
     },
     "metadata": {},
     "output_type": "display_data"
    },
    {
     "data": {
      "text/latex": [
       "$\\displaystyle 160: (-1, -1, -1, -1, -1, -1, -1, -1) < (1, -1, 1, -1, -1, -1, -1, -1)\\iff0 < +h_{1} +h_{3} -J_{1,2} -J_{1,4} -J_{1,5} -J_{1,6} -J_{1,7} -J_{1,8} -J_{2,3} -J_{3,4} -J_{3,5} -J_{3,6} -J_{3,7} -J_{3,8}$"
      ],
      "text/plain": [
       "<IPython.core.display.Math object>"
      ]
     },
     "metadata": {},
     "output_type": "display_data"
    },
    {
     "data": {
      "text/latex": [
       "$\\displaystyle 160: (1, -1, 1, -1, -1, -1, -1, -1) < (-1, -1, -1, -1, -1, -1, -1, -1)\\iff0 < -h_{1} -h_{3} +J_{1,2} +J_{1,4} +J_{1,5} +J_{1,6} +J_{1,7} +J_{1,8} +J_{2,3} +J_{3,4} +J_{3,5} +J_{3,6} +J_{3,7} +J_{3,8}$"
      ],
      "text/plain": [
       "<IPython.core.display.Math object>"
      ]
     },
     "metadata": {},
     "output_type": "display_data"
    },
    {
     "data": {
      "text/latex": [
       "$\\displaystyle 161: (-1, -1, -1, -1, -1, -1, -1, -1) < (1, -1, 1, -1, -1, -1, -1, 1)\\iff0 < +h_{1} +h_{3} +h_{8} -J_{1,2} -J_{1,4} -J_{1,5} -J_{1,6} -J_{1,7} -J_{2,3} -J_{2,8} -J_{3,4} -J_{3,5} -J_{3,6} -J_{3,7} -J_{4,8} -J_{5,8} -J_{6,8} -J_{7,8}$"
      ],
      "text/plain": [
       "<IPython.core.display.Math object>"
      ]
     },
     "metadata": {},
     "output_type": "display_data"
    },
    {
     "data": {
      "text/latex": [
       "$\\displaystyle 161: (1, -1, 1, -1, -1, -1, -1, 1) < (-1, -1, -1, -1, -1, -1, -1, -1)\\iff0 < -h_{1} -h_{3} -h_{8} +J_{1,2} +J_{1,4} +J_{1,5} +J_{1,6} +J_{1,7} +J_{2,3} +J_{2,8} +J_{3,4} +J_{3,5} +J_{3,6} +J_{3,7} +J_{4,8} +J_{5,8} +J_{6,8} +J_{7,8}$"
      ],
      "text/plain": [
       "<IPython.core.display.Math object>"
      ]
     },
     "metadata": {},
     "output_type": "display_data"
    },
    {
     "data": {
      "text/latex": [
       "$\\displaystyle 162: (-1, -1, -1, -1, -1, -1, -1, -1) < (1, -1, 1, -1, -1, -1, 1, -1)\\iff0 < +h_{1} +h_{3} +h_{7} -J_{1,2} -J_{1,4} -J_{1,5} -J_{1,6} -J_{1,8} -J_{2,3} -J_{2,7} -J_{3,4} -J_{3,5} -J_{3,6} -J_{3,8} -J_{4,7} -J_{5,7} -J_{6,7} -J_{7,8}$"
      ],
      "text/plain": [
       "<IPython.core.display.Math object>"
      ]
     },
     "metadata": {},
     "output_type": "display_data"
    },
    {
     "data": {
      "text/latex": [
       "$\\displaystyle 162: (1, -1, 1, -1, -1, -1, 1, -1) < (-1, -1, -1, -1, -1, -1, -1, -1)\\iff0 < -h_{1} -h_{3} -h_{7} +J_{1,2} +J_{1,4} +J_{1,5} +J_{1,6} +J_{1,8} +J_{2,3} +J_{2,7} +J_{3,4} +J_{3,5} +J_{3,6} +J_{3,8} +J_{4,7} +J_{5,7} +J_{6,7} +J_{7,8}$"
      ],
      "text/plain": [
       "<IPython.core.display.Math object>"
      ]
     },
     "metadata": {},
     "output_type": "display_data"
    },
    {
     "data": {
      "text/latex": [
       "$\\displaystyle 163: (-1, -1, -1, -1, -1, -1, -1, -1) < (1, -1, 1, -1, -1, -1, 1, 1)\\iff0 < +h_{1} +h_{3} +h_{7} +h_{8} -J_{1,2} -J_{1,4} -J_{1,5} -J_{1,6} -J_{2,3} -J_{2,7} -J_{2,8} -J_{3,4} -J_{3,5} -J_{3,6} -J_{4,7} -J_{4,8} -J_{5,7} -J_{5,8} -J_{6,7} -J_{6,8}$"
      ],
      "text/plain": [
       "<IPython.core.display.Math object>"
      ]
     },
     "metadata": {},
     "output_type": "display_data"
    },
    {
     "data": {
      "text/latex": [
       "$\\displaystyle 163: (1, -1, 1, -1, -1, -1, 1, 1) < (-1, -1, -1, -1, -1, -1, -1, -1)\\iff0 < -h_{1} -h_{3} -h_{7} -h_{8} +J_{1,2} +J_{1,4} +J_{1,5} +J_{1,6} +J_{2,3} +J_{2,7} +J_{2,8} +J_{3,4} +J_{3,5} +J_{3,6} +J_{4,7} +J_{4,8} +J_{5,7} +J_{5,8} +J_{6,7} +J_{6,8}$"
      ],
      "text/plain": [
       "<IPython.core.display.Math object>"
      ]
     },
     "metadata": {},
     "output_type": "display_data"
    },
    {
     "data": {
      "text/latex": [
       "$\\displaystyle 164: (-1, -1, -1, -1, -1, -1, -1, -1) < (1, -1, 1, -1, -1, 1, -1, -1)\\iff0 < +h_{1} +h_{3} +h_{6} -J_{1,2} -J_{1,4} -J_{1,5} -J_{1,7} -J_{1,8} -J_{2,3} -J_{2,6} -J_{3,4} -J_{3,5} -J_{3,7} -J_{3,8} -J_{4,6} -J_{5,6} -J_{6,7} -J_{6,8}$"
      ],
      "text/plain": [
       "<IPython.core.display.Math object>"
      ]
     },
     "metadata": {},
     "output_type": "display_data"
    },
    {
     "data": {
      "text/latex": [
       "$\\displaystyle 164: (1, -1, 1, -1, -1, 1, -1, -1) < (-1, -1, -1, -1, -1, -1, -1, -1)\\iff0 < -h_{1} -h_{3} -h_{6} +J_{1,2} +J_{1,4} +J_{1,5} +J_{1,7} +J_{1,8} +J_{2,3} +J_{2,6} +J_{3,4} +J_{3,5} +J_{3,7} +J_{3,8} +J_{4,6} +J_{5,6} +J_{6,7} +J_{6,8}$"
      ],
      "text/plain": [
       "<IPython.core.display.Math object>"
      ]
     },
     "metadata": {},
     "output_type": "display_data"
    },
    {
     "data": {
      "text/latex": [
       "$\\displaystyle 165: (-1, -1, -1, -1, -1, -1, -1, -1) < (1, -1, 1, -1, -1, 1, -1, 1)\\iff0 < +h_{1} +h_{3} +h_{6} +h_{8} -J_{1,2} -J_{1,4} -J_{1,5} -J_{1,7} -J_{2,3} -J_{2,6} -J_{2,8} -J_{3,4} -J_{3,5} -J_{3,7} -J_{4,6} -J_{4,8} -J_{5,6} -J_{5,8} -J_{6,7} -J_{7,8}$"
      ],
      "text/plain": [
       "<IPython.core.display.Math object>"
      ]
     },
     "metadata": {},
     "output_type": "display_data"
    },
    {
     "data": {
      "text/latex": [
       "$\\displaystyle 165: (1, -1, 1, -1, -1, 1, -1, 1) < (-1, -1, -1, -1, -1, -1, -1, -1)\\iff0 < -h_{1} -h_{3} -h_{6} -h_{8} +J_{1,2} +J_{1,4} +J_{1,5} +J_{1,7} +J_{2,3} +J_{2,6} +J_{2,8} +J_{3,4} +J_{3,5} +J_{3,7} +J_{4,6} +J_{4,8} +J_{5,6} +J_{5,8} +J_{6,7} +J_{7,8}$"
      ],
      "text/plain": [
       "<IPython.core.display.Math object>"
      ]
     },
     "metadata": {},
     "output_type": "display_data"
    },
    {
     "data": {
      "text/latex": [
       "$\\displaystyle 166: (-1, -1, -1, -1, -1, -1, -1, -1) < (1, -1, 1, -1, -1, 1, 1, -1)\\iff0 < +h_{1} +h_{3} +h_{6} +h_{7} -J_{1,2} -J_{1,4} -J_{1,5} -J_{1,8} -J_{2,3} -J_{2,6} -J_{2,7} -J_{3,4} -J_{3,5} -J_{3,8} -J_{4,6} -J_{4,7} -J_{5,6} -J_{5,7} -J_{6,8} -J_{7,8}$"
      ],
      "text/plain": [
       "<IPython.core.display.Math object>"
      ]
     },
     "metadata": {},
     "output_type": "display_data"
    },
    {
     "data": {
      "text/latex": [
       "$\\displaystyle 166: (1, -1, 1, -1, -1, 1, 1, -1) < (-1, -1, -1, -1, -1, -1, -1, -1)\\iff0 < -h_{1} -h_{3} -h_{6} -h_{7} +J_{1,2} +J_{1,4} +J_{1,5} +J_{1,8} +J_{2,3} +J_{2,6} +J_{2,7} +J_{3,4} +J_{3,5} +J_{3,8} +J_{4,6} +J_{4,7} +J_{5,6} +J_{5,7} +J_{6,8} +J_{7,8}$"
      ],
      "text/plain": [
       "<IPython.core.display.Math object>"
      ]
     },
     "metadata": {},
     "output_type": "display_data"
    },
    {
     "data": {
      "text/latex": [
       "$\\displaystyle 167: (-1, -1, -1, -1, -1, -1, -1, -1) < (1, -1, 1, -1, -1, 1, 1, 1)\\iff0 < +h_{1} +h_{3} +h_{6} +h_{7} +h_{8} -J_{1,2} -J_{1,4} -J_{1,5} -J_{2,3} -J_{2,6} -J_{2,7} -J_{2,8} -J_{3,4} -J_{3,5} -J_{4,6} -J_{4,7} -J_{4,8} -J_{5,6} -J_{5,7} -J_{5,8}$"
      ],
      "text/plain": [
       "<IPython.core.display.Math object>"
      ]
     },
     "metadata": {},
     "output_type": "display_data"
    },
    {
     "data": {
      "text/latex": [
       "$\\displaystyle 167: (1, -1, 1, -1, -1, 1, 1, 1) < (-1, -1, -1, -1, -1, -1, -1, -1)\\iff0 < -h_{1} -h_{3} -h_{6} -h_{7} -h_{8} +J_{1,2} +J_{1,4} +J_{1,5} +J_{2,3} +J_{2,6} +J_{2,7} +J_{2,8} +J_{3,4} +J_{3,5} +J_{4,6} +J_{4,7} +J_{4,8} +J_{5,6} +J_{5,7} +J_{5,8}$"
      ],
      "text/plain": [
       "<IPython.core.display.Math object>"
      ]
     },
     "metadata": {},
     "output_type": "display_data"
    },
    {
     "data": {
      "text/latex": [
       "$\\displaystyle 168: (-1, -1, -1, -1, -1, -1, -1, -1) < (1, -1, 1, -1, 1, -1, -1, -1)\\iff0 < +h_{1} +h_{3} +h_{5} -J_{1,2} -J_{1,4} -J_{1,6} -J_{1,7} -J_{1,8} -J_{2,3} -J_{2,5} -J_{3,4} -J_{3,6} -J_{3,7} -J_{3,8} -J_{4,5} -J_{5,6} -J_{5,7} -J_{5,8}$"
      ],
      "text/plain": [
       "<IPython.core.display.Math object>"
      ]
     },
     "metadata": {},
     "output_type": "display_data"
    },
    {
     "data": {
      "text/latex": [
       "$\\displaystyle 168: (1, -1, 1, -1, 1, -1, -1, -1) < (-1, -1, -1, -1, -1, -1, -1, -1)\\iff0 < -h_{1} -h_{3} -h_{5} +J_{1,2} +J_{1,4} +J_{1,6} +J_{1,7} +J_{1,8} +J_{2,3} +J_{2,5} +J_{3,4} +J_{3,6} +J_{3,7} +J_{3,8} +J_{4,5} +J_{5,6} +J_{5,7} +J_{5,8}$"
      ],
      "text/plain": [
       "<IPython.core.display.Math object>"
      ]
     },
     "metadata": {},
     "output_type": "display_data"
    },
    {
     "data": {
      "text/latex": [
       "$\\displaystyle 169: (-1, -1, -1, -1, -1, -1, -1, -1) < (1, -1, 1, -1, 1, -1, -1, 1)\\iff0 < +h_{1} +h_{3} +h_{5} +h_{8} -J_{1,2} -J_{1,4} -J_{1,6} -J_{1,7} -J_{2,3} -J_{2,5} -J_{2,8} -J_{3,4} -J_{3,6} -J_{3,7} -J_{4,5} -J_{4,8} -J_{5,6} -J_{5,7} -J_{6,8} -J_{7,8}$"
      ],
      "text/plain": [
       "<IPython.core.display.Math object>"
      ]
     },
     "metadata": {},
     "output_type": "display_data"
    },
    {
     "data": {
      "text/latex": [
       "$\\displaystyle 169: (1, -1, 1, -1, 1, -1, -1, 1) < (-1, -1, -1, -1, -1, -1, -1, -1)\\iff0 < -h_{1} -h_{3} -h_{5} -h_{8} +J_{1,2} +J_{1,4} +J_{1,6} +J_{1,7} +J_{2,3} +J_{2,5} +J_{2,8} +J_{3,4} +J_{3,6} +J_{3,7} +J_{4,5} +J_{4,8} +J_{5,6} +J_{5,7} +J_{6,8} +J_{7,8}$"
      ],
      "text/plain": [
       "<IPython.core.display.Math object>"
      ]
     },
     "metadata": {},
     "output_type": "display_data"
    },
    {
     "data": {
      "text/latex": [
       "$\\displaystyle 170: (-1, -1, -1, -1, -1, -1, -1, -1) < (1, -1, 1, -1, 1, -1, 1, -1)\\iff0 < +h_{1} +h_{3} +h_{5} +h_{7} -J_{1,2} -J_{1,4} -J_{1,6} -J_{1,8} -J_{2,3} -J_{2,5} -J_{2,7} -J_{3,4} -J_{3,6} -J_{3,8} -J_{4,5} -J_{4,7} -J_{5,6} -J_{5,8} -J_{6,7} -J_{7,8}$"
      ],
      "text/plain": [
       "<IPython.core.display.Math object>"
      ]
     },
     "metadata": {},
     "output_type": "display_data"
    },
    {
     "data": {
      "text/latex": [
       "$\\displaystyle 170: (1, -1, 1, -1, 1, -1, 1, -1) < (-1, -1, -1, -1, -1, -1, -1, -1)\\iff0 < -h_{1} -h_{3} -h_{5} -h_{7} +J_{1,2} +J_{1,4} +J_{1,6} +J_{1,8} +J_{2,3} +J_{2,5} +J_{2,7} +J_{3,4} +J_{3,6} +J_{3,8} +J_{4,5} +J_{4,7} +J_{5,6} +J_{5,8} +J_{6,7} +J_{7,8}$"
      ],
      "text/plain": [
       "<IPython.core.display.Math object>"
      ]
     },
     "metadata": {},
     "output_type": "display_data"
    },
    {
     "data": {
      "text/latex": [
       "$\\displaystyle 171: (-1, -1, -1, -1, -1, -1, -1, -1) < (1, -1, 1, -1, 1, -1, 1, 1)\\iff0 < +h_{1} +h_{3} +h_{5} +h_{7} +h_{8} -J_{1,2} -J_{1,4} -J_{1,6} -J_{2,3} -J_{2,5} -J_{2,7} -J_{2,8} -J_{3,4} -J_{3,6} -J_{4,5} -J_{4,7} -J_{4,8} -J_{5,6} -J_{6,7} -J_{6,8}$"
      ],
      "text/plain": [
       "<IPython.core.display.Math object>"
      ]
     },
     "metadata": {},
     "output_type": "display_data"
    },
    {
     "data": {
      "text/latex": [
       "$\\displaystyle 171: (1, -1, 1, -1, 1, -1, 1, 1) < (-1, -1, -1, -1, -1, -1, -1, -1)\\iff0 < -h_{1} -h_{3} -h_{5} -h_{7} -h_{8} +J_{1,2} +J_{1,4} +J_{1,6} +J_{2,3} +J_{2,5} +J_{2,7} +J_{2,8} +J_{3,4} +J_{3,6} +J_{4,5} +J_{4,7} +J_{4,8} +J_{5,6} +J_{6,7} +J_{6,8}$"
      ],
      "text/plain": [
       "<IPython.core.display.Math object>"
      ]
     },
     "metadata": {},
     "output_type": "display_data"
    },
    {
     "data": {
      "text/latex": [
       "$\\displaystyle 172: (-1, -1, -1, -1, -1, -1, -1, -1) < (1, -1, 1, -1, 1, 1, -1, -1)\\iff0 < +h_{1} +h_{3} +h_{5} +h_{6} -J_{1,2} -J_{1,4} -J_{1,7} -J_{1,8} -J_{2,3} -J_{2,5} -J_{2,6} -J_{3,4} -J_{3,7} -J_{3,8} -J_{4,5} -J_{4,6} -J_{5,7} -J_{5,8} -J_{6,7} -J_{6,8}$"
      ],
      "text/plain": [
       "<IPython.core.display.Math object>"
      ]
     },
     "metadata": {},
     "output_type": "display_data"
    },
    {
     "data": {
      "text/latex": [
       "$\\displaystyle 172: (1, -1, 1, -1, 1, 1, -1, -1) < (-1, -1, -1, -1, -1, -1, -1, -1)\\iff0 < -h_{1} -h_{3} -h_{5} -h_{6} +J_{1,2} +J_{1,4} +J_{1,7} +J_{1,8} +J_{2,3} +J_{2,5} +J_{2,6} +J_{3,4} +J_{3,7} +J_{3,8} +J_{4,5} +J_{4,6} +J_{5,7} +J_{5,8} +J_{6,7} +J_{6,8}$"
      ],
      "text/plain": [
       "<IPython.core.display.Math object>"
      ]
     },
     "metadata": {},
     "output_type": "display_data"
    },
    {
     "data": {
      "text/latex": [
       "$\\displaystyle 173: (-1, -1, -1, -1, -1, -1, -1, -1) < (1, -1, 1, -1, 1, 1, -1, 1)\\iff0 < +h_{1} +h_{3} +h_{5} +h_{6} +h_{8} -J_{1,2} -J_{1,4} -J_{1,7} -J_{2,3} -J_{2,5} -J_{2,6} -J_{2,8} -J_{3,4} -J_{3,7} -J_{4,5} -J_{4,6} -J_{4,8} -J_{5,7} -J_{6,7} -J_{7,8}$"
      ],
      "text/plain": [
       "<IPython.core.display.Math object>"
      ]
     },
     "metadata": {},
     "output_type": "display_data"
    },
    {
     "data": {
      "text/latex": [
       "$\\displaystyle 173: (1, -1, 1, -1, 1, 1, -1, 1) < (-1, -1, -1, -1, -1, -1, -1, -1)\\iff0 < -h_{1} -h_{3} -h_{5} -h_{6} -h_{8} +J_{1,2} +J_{1,4} +J_{1,7} +J_{2,3} +J_{2,5} +J_{2,6} +J_{2,8} +J_{3,4} +J_{3,7} +J_{4,5} +J_{4,6} +J_{4,8} +J_{5,7} +J_{6,7} +J_{7,8}$"
      ],
      "text/plain": [
       "<IPython.core.display.Math object>"
      ]
     },
     "metadata": {},
     "output_type": "display_data"
    },
    {
     "data": {
      "text/latex": [
       "$\\displaystyle 174: (-1, -1, -1, -1, -1, -1, -1, -1) < (1, -1, 1, -1, 1, 1, 1, -1)\\iff0 < +h_{1} +h_{3} +h_{5} +h_{6} +h_{7} -J_{1,2} -J_{1,4} -J_{1,8} -J_{2,3} -J_{2,5} -J_{2,6} -J_{2,7} -J_{3,4} -J_{3,8} -J_{4,5} -J_{4,6} -J_{4,7} -J_{5,8} -J_{6,8} -J_{7,8}$"
      ],
      "text/plain": [
       "<IPython.core.display.Math object>"
      ]
     },
     "metadata": {},
     "output_type": "display_data"
    },
    {
     "data": {
      "text/latex": [
       "$\\displaystyle 174: (1, -1, 1, -1, 1, 1, 1, -1) < (-1, -1, -1, -1, -1, -1, -1, -1)\\iff0 < -h_{1} -h_{3} -h_{5} -h_{6} -h_{7} +J_{1,2} +J_{1,4} +J_{1,8} +J_{2,3} +J_{2,5} +J_{2,6} +J_{2,7} +J_{3,4} +J_{3,8} +J_{4,5} +J_{4,6} +J_{4,7} +J_{5,8} +J_{6,8} +J_{7,8}$"
      ],
      "text/plain": [
       "<IPython.core.display.Math object>"
      ]
     },
     "metadata": {},
     "output_type": "display_data"
    },
    {
     "data": {
      "text/latex": [
       "$\\displaystyle 175: (-1, -1, -1, -1, -1, -1, -1, -1) < (1, -1, 1, -1, 1, 1, 1, 1)\\iff0 < +h_{1} +h_{3} +h_{5} +h_{6} +h_{7} +h_{8} -J_{1,2} -J_{1,4} -J_{2,3} -J_{2,5} -J_{2,6} -J_{2,7} -J_{2,8} -J_{3,4} -J_{4,5} -J_{4,6} -J_{4,7} -J_{4,8}$"
      ],
      "text/plain": [
       "<IPython.core.display.Math object>"
      ]
     },
     "metadata": {},
     "output_type": "display_data"
    },
    {
     "data": {
      "text/latex": [
       "$\\displaystyle 175: (1, -1, 1, -1, 1, 1, 1, 1) < (-1, -1, -1, -1, -1, -1, -1, -1)\\iff0 < -h_{1} -h_{3} -h_{5} -h_{6} -h_{7} -h_{8} +J_{1,2} +J_{1,4} +J_{2,3} +J_{2,5} +J_{2,6} +J_{2,7} +J_{2,8} +J_{3,4} +J_{4,5} +J_{4,6} +J_{4,7} +J_{4,8}$"
      ],
      "text/plain": [
       "<IPython.core.display.Math object>"
      ]
     },
     "metadata": {},
     "output_type": "display_data"
    },
    {
     "data": {
      "text/latex": [
       "$\\displaystyle 176: (-1, -1, -1, -1, -1, -1, -1, -1) < (1, -1, 1, 1, -1, -1, -1, -1)\\iff0 < +h_{1} +h_{3} +h_{4} -J_{1,2} -J_{1,5} -J_{1,6} -J_{1,7} -J_{1,8} -J_{2,3} -J_{2,4} -J_{3,5} -J_{3,6} -J_{3,7} -J_{3,8} -J_{4,5} -J_{4,6} -J_{4,7} -J_{4,8}$"
      ],
      "text/plain": [
       "<IPython.core.display.Math object>"
      ]
     },
     "metadata": {},
     "output_type": "display_data"
    },
    {
     "data": {
      "text/latex": [
       "$\\displaystyle 176: (1, -1, 1, 1, -1, -1, -1, -1) < (-1, -1, -1, -1, -1, -1, -1, -1)\\iff0 < -h_{1} -h_{3} -h_{4} +J_{1,2} +J_{1,5} +J_{1,6} +J_{1,7} +J_{1,8} +J_{2,3} +J_{2,4} +J_{3,5} +J_{3,6} +J_{3,7} +J_{3,8} +J_{4,5} +J_{4,6} +J_{4,7} +J_{4,8}$"
      ],
      "text/plain": [
       "<IPython.core.display.Math object>"
      ]
     },
     "metadata": {},
     "output_type": "display_data"
    },
    {
     "data": {
      "text/latex": [
       "$\\displaystyle 177: (-1, -1, -1, -1, -1, -1, -1, -1) < (1, -1, 1, 1, -1, -1, -1, 1)\\iff0 < +h_{1} +h_{3} +h_{4} +h_{8} -J_{1,2} -J_{1,5} -J_{1,6} -J_{1,7} -J_{2,3} -J_{2,4} -J_{2,8} -J_{3,5} -J_{3,6} -J_{3,7} -J_{4,5} -J_{4,6} -J_{4,7} -J_{5,8} -J_{6,8} -J_{7,8}$"
      ],
      "text/plain": [
       "<IPython.core.display.Math object>"
      ]
     },
     "metadata": {},
     "output_type": "display_data"
    },
    {
     "data": {
      "text/latex": [
       "$\\displaystyle 177: (1, -1, 1, 1, -1, -1, -1, 1) < (-1, -1, -1, -1, -1, -1, -1, -1)\\iff0 < -h_{1} -h_{3} -h_{4} -h_{8} +J_{1,2} +J_{1,5} +J_{1,6} +J_{1,7} +J_{2,3} +J_{2,4} +J_{2,8} +J_{3,5} +J_{3,6} +J_{3,7} +J_{4,5} +J_{4,6} +J_{4,7} +J_{5,8} +J_{6,8} +J_{7,8}$"
      ],
      "text/plain": [
       "<IPython.core.display.Math object>"
      ]
     },
     "metadata": {},
     "output_type": "display_data"
    },
    {
     "data": {
      "text/latex": [
       "$\\displaystyle 178: (-1, -1, -1, -1, -1, -1, -1, -1) < (1, -1, 1, 1, -1, -1, 1, -1)\\iff0 < +h_{1} +h_{3} +h_{4} +h_{7} -J_{1,2} -J_{1,5} -J_{1,6} -J_{1,8} -J_{2,3} -J_{2,4} -J_{2,7} -J_{3,5} -J_{3,6} -J_{3,8} -J_{4,5} -J_{4,6} -J_{4,8} -J_{5,7} -J_{6,7} -J_{7,8}$"
      ],
      "text/plain": [
       "<IPython.core.display.Math object>"
      ]
     },
     "metadata": {},
     "output_type": "display_data"
    },
    {
     "data": {
      "text/latex": [
       "$\\displaystyle 178: (1, -1, 1, 1, -1, -1, 1, -1) < (-1, -1, -1, -1, -1, -1, -1, -1)\\iff0 < -h_{1} -h_{3} -h_{4} -h_{7} +J_{1,2} +J_{1,5} +J_{1,6} +J_{1,8} +J_{2,3} +J_{2,4} +J_{2,7} +J_{3,5} +J_{3,6} +J_{3,8} +J_{4,5} +J_{4,6} +J_{4,8} +J_{5,7} +J_{6,7} +J_{7,8}$"
      ],
      "text/plain": [
       "<IPython.core.display.Math object>"
      ]
     },
     "metadata": {},
     "output_type": "display_data"
    },
    {
     "data": {
      "text/latex": [
       "$\\displaystyle 179: (-1, -1, -1, -1, -1, -1, -1, -1) < (1, -1, 1, 1, -1, -1, 1, 1)\\iff0 < +h_{1} +h_{3} +h_{4} +h_{7} +h_{8} -J_{1,2} -J_{1,5} -J_{1,6} -J_{2,3} -J_{2,4} -J_{2,7} -J_{2,8} -J_{3,5} -J_{3,6} -J_{4,5} -J_{4,6} -J_{5,7} -J_{5,8} -J_{6,7} -J_{6,8}$"
      ],
      "text/plain": [
       "<IPython.core.display.Math object>"
      ]
     },
     "metadata": {},
     "output_type": "display_data"
    },
    {
     "data": {
      "text/latex": [
       "$\\displaystyle 179: (1, -1, 1, 1, -1, -1, 1, 1) < (-1, -1, -1, -1, -1, -1, -1, -1)\\iff0 < -h_{1} -h_{3} -h_{4} -h_{7} -h_{8} +J_{1,2} +J_{1,5} +J_{1,6} +J_{2,3} +J_{2,4} +J_{2,7} +J_{2,8} +J_{3,5} +J_{3,6} +J_{4,5} +J_{4,6} +J_{5,7} +J_{5,8} +J_{6,7} +J_{6,8}$"
      ],
      "text/plain": [
       "<IPython.core.display.Math object>"
      ]
     },
     "metadata": {},
     "output_type": "display_data"
    },
    {
     "data": {
      "text/latex": [
       "$\\displaystyle 180: (-1, -1, -1, -1, -1, -1, -1, -1) < (1, -1, 1, 1, -1, 1, -1, -1)\\iff0 < +h_{1} +h_{3} +h_{4} +h_{6} -J_{1,2} -J_{1,5} -J_{1,7} -J_{1,8} -J_{2,3} -J_{2,4} -J_{2,6} -J_{3,5} -J_{3,7} -J_{3,8} -J_{4,5} -J_{4,7} -J_{4,8} -J_{5,6} -J_{6,7} -J_{6,8}$"
      ],
      "text/plain": [
       "<IPython.core.display.Math object>"
      ]
     },
     "metadata": {},
     "output_type": "display_data"
    },
    {
     "data": {
      "text/latex": [
       "$\\displaystyle 180: (1, -1, 1, 1, -1, 1, -1, -1) < (-1, -1, -1, -1, -1, -1, -1, -1)\\iff0 < -h_{1} -h_{3} -h_{4} -h_{6} +J_{1,2} +J_{1,5} +J_{1,7} +J_{1,8} +J_{2,3} +J_{2,4} +J_{2,6} +J_{3,5} +J_{3,7} +J_{3,8} +J_{4,5} +J_{4,7} +J_{4,8} +J_{5,6} +J_{6,7} +J_{6,8}$"
      ],
      "text/plain": [
       "<IPython.core.display.Math object>"
      ]
     },
     "metadata": {},
     "output_type": "display_data"
    },
    {
     "data": {
      "text/latex": [
       "$\\displaystyle 181: (-1, -1, -1, -1, -1, -1, -1, -1) < (1, -1, 1, 1, -1, 1, -1, 1)\\iff0 < +h_{1} +h_{3} +h_{4} +h_{6} +h_{8} -J_{1,2} -J_{1,5} -J_{1,7} -J_{2,3} -J_{2,4} -J_{2,6} -J_{2,8} -J_{3,5} -J_{3,7} -J_{4,5} -J_{4,7} -J_{5,6} -J_{5,8} -J_{6,7} -J_{7,8}$"
      ],
      "text/plain": [
       "<IPython.core.display.Math object>"
      ]
     },
     "metadata": {},
     "output_type": "display_data"
    },
    {
     "data": {
      "text/latex": [
       "$\\displaystyle 181: (1, -1, 1, 1, -1, 1, -1, 1) < (-1, -1, -1, -1, -1, -1, -1, -1)\\iff0 < -h_{1} -h_{3} -h_{4} -h_{6} -h_{8} +J_{1,2} +J_{1,5} +J_{1,7} +J_{2,3} +J_{2,4} +J_{2,6} +J_{2,8} +J_{3,5} +J_{3,7} +J_{4,5} +J_{4,7} +J_{5,6} +J_{5,8} +J_{6,7} +J_{7,8}$"
      ],
      "text/plain": [
       "<IPython.core.display.Math object>"
      ]
     },
     "metadata": {},
     "output_type": "display_data"
    },
    {
     "data": {
      "text/latex": [
       "$\\displaystyle 182: (-1, -1, -1, -1, -1, -1, -1, -1) < (1, -1, 1, 1, -1, 1, 1, -1)\\iff0 < +h_{1} +h_{3} +h_{4} +h_{6} +h_{7} -J_{1,2} -J_{1,5} -J_{1,8} -J_{2,3} -J_{2,4} -J_{2,6} -J_{2,7} -J_{3,5} -J_{3,8} -J_{4,5} -J_{4,8} -J_{5,6} -J_{5,7} -J_{6,8} -J_{7,8}$"
      ],
      "text/plain": [
       "<IPython.core.display.Math object>"
      ]
     },
     "metadata": {},
     "output_type": "display_data"
    },
    {
     "data": {
      "text/latex": [
       "$\\displaystyle 182: (1, -1, 1, 1, -1, 1, 1, -1) < (-1, -1, -1, -1, -1, -1, -1, -1)\\iff0 < -h_{1} -h_{3} -h_{4} -h_{6} -h_{7} +J_{1,2} +J_{1,5} +J_{1,8} +J_{2,3} +J_{2,4} +J_{2,6} +J_{2,7} +J_{3,5} +J_{3,8} +J_{4,5} +J_{4,8} +J_{5,6} +J_{5,7} +J_{6,8} +J_{7,8}$"
      ],
      "text/plain": [
       "<IPython.core.display.Math object>"
      ]
     },
     "metadata": {},
     "output_type": "display_data"
    },
    {
     "data": {
      "text/latex": [
       "$\\displaystyle 183: (-1, -1, -1, -1, -1, -1, -1, -1) < (1, -1, 1, 1, -1, 1, 1, 1)\\iff0 < +h_{1} +h_{3} +h_{4} +h_{6} +h_{7} +h_{8} -J_{1,2} -J_{1,5} -J_{2,3} -J_{2,4} -J_{2,6} -J_{2,7} -J_{2,8} -J_{3,5} -J_{4,5} -J_{5,6} -J_{5,7} -J_{5,8}$"
      ],
      "text/plain": [
       "<IPython.core.display.Math object>"
      ]
     },
     "metadata": {},
     "output_type": "display_data"
    },
    {
     "data": {
      "text/latex": [
       "$\\displaystyle 183: (1, -1, 1, 1, -1, 1, 1, 1) < (-1, -1, -1, -1, -1, -1, -1, -1)\\iff0 < -h_{1} -h_{3} -h_{4} -h_{6} -h_{7} -h_{8} +J_{1,2} +J_{1,5} +J_{2,3} +J_{2,4} +J_{2,6} +J_{2,7} +J_{2,8} +J_{3,5} +J_{4,5} +J_{5,6} +J_{5,7} +J_{5,8}$"
      ],
      "text/plain": [
       "<IPython.core.display.Math object>"
      ]
     },
     "metadata": {},
     "output_type": "display_data"
    },
    {
     "data": {
      "text/latex": [
       "$\\displaystyle 184: (-1, -1, -1, -1, -1, -1, -1, -1) < (1, -1, 1, 1, 1, -1, -1, -1)\\iff0 < +h_{1} +h_{3} +h_{4} +h_{5} -J_{1,2} -J_{1,6} -J_{1,7} -J_{1,8} -J_{2,3} -J_{2,4} -J_{2,5} -J_{3,6} -J_{3,7} -J_{3,8} -J_{4,6} -J_{4,7} -J_{4,8} -J_{5,6} -J_{5,7} -J_{5,8}$"
      ],
      "text/plain": [
       "<IPython.core.display.Math object>"
      ]
     },
     "metadata": {},
     "output_type": "display_data"
    },
    {
     "data": {
      "text/latex": [
       "$\\displaystyle 184: (1, -1, 1, 1, 1, -1, -1, -1) < (-1, -1, -1, -1, -1, -1, -1, -1)\\iff0 < -h_{1} -h_{3} -h_{4} -h_{5} +J_{1,2} +J_{1,6} +J_{1,7} +J_{1,8} +J_{2,3} +J_{2,4} +J_{2,5} +J_{3,6} +J_{3,7} +J_{3,8} +J_{4,6} +J_{4,7} +J_{4,8} +J_{5,6} +J_{5,7} +J_{5,8}$"
      ],
      "text/plain": [
       "<IPython.core.display.Math object>"
      ]
     },
     "metadata": {},
     "output_type": "display_data"
    },
    {
     "data": {
      "text/latex": [
       "$\\displaystyle 185: (-1, -1, -1, -1, -1, -1, -1, -1) < (1, -1, 1, 1, 1, -1, -1, 1)\\iff0 < +h_{1} +h_{3} +h_{4} +h_{5} +h_{8} -J_{1,2} -J_{1,6} -J_{1,7} -J_{2,3} -J_{2,4} -J_{2,5} -J_{2,8} -J_{3,6} -J_{3,7} -J_{4,6} -J_{4,7} -J_{5,6} -J_{5,7} -J_{6,8} -J_{7,8}$"
      ],
      "text/plain": [
       "<IPython.core.display.Math object>"
      ]
     },
     "metadata": {},
     "output_type": "display_data"
    },
    {
     "data": {
      "text/latex": [
       "$\\displaystyle 185: (1, -1, 1, 1, 1, -1, -1, 1) < (-1, -1, -1, -1, -1, -1, -1, -1)\\iff0 < -h_{1} -h_{3} -h_{4} -h_{5} -h_{8} +J_{1,2} +J_{1,6} +J_{1,7} +J_{2,3} +J_{2,4} +J_{2,5} +J_{2,8} +J_{3,6} +J_{3,7} +J_{4,6} +J_{4,7} +J_{5,6} +J_{5,7} +J_{6,8} +J_{7,8}$"
      ],
      "text/plain": [
       "<IPython.core.display.Math object>"
      ]
     },
     "metadata": {},
     "output_type": "display_data"
    },
    {
     "data": {
      "text/latex": [
       "$\\displaystyle 186: (-1, -1, -1, -1, -1, -1, -1, -1) < (1, -1, 1, 1, 1, -1, 1, -1)\\iff0 < +h_{1} +h_{3} +h_{4} +h_{5} +h_{7} -J_{1,2} -J_{1,6} -J_{1,8} -J_{2,3} -J_{2,4} -J_{2,5} -J_{2,7} -J_{3,6} -J_{3,8} -J_{4,6} -J_{4,8} -J_{5,6} -J_{5,8} -J_{6,7} -J_{7,8}$"
      ],
      "text/plain": [
       "<IPython.core.display.Math object>"
      ]
     },
     "metadata": {},
     "output_type": "display_data"
    },
    {
     "data": {
      "text/latex": [
       "$\\displaystyle 186: (1, -1, 1, 1, 1, -1, 1, -1) < (-1, -1, -1, -1, -1, -1, -1, -1)\\iff0 < -h_{1} -h_{3} -h_{4} -h_{5} -h_{7} +J_{1,2} +J_{1,6} +J_{1,8} +J_{2,3} +J_{2,4} +J_{2,5} +J_{2,7} +J_{3,6} +J_{3,8} +J_{4,6} +J_{4,8} +J_{5,6} +J_{5,8} +J_{6,7} +J_{7,8}$"
      ],
      "text/plain": [
       "<IPython.core.display.Math object>"
      ]
     },
     "metadata": {},
     "output_type": "display_data"
    },
    {
     "data": {
      "text/latex": [
       "$\\displaystyle 187: (-1, -1, -1, -1, -1, -1, -1, -1) < (1, -1, 1, 1, 1, -1, 1, 1)\\iff0 < +h_{1} +h_{3} +h_{4} +h_{5} +h_{7} +h_{8} -J_{1,2} -J_{1,6} -J_{2,3} -J_{2,4} -J_{2,5} -J_{2,7} -J_{2,8} -J_{3,6} -J_{4,6} -J_{5,6} -J_{6,7} -J_{6,8}$"
      ],
      "text/plain": [
       "<IPython.core.display.Math object>"
      ]
     },
     "metadata": {},
     "output_type": "display_data"
    },
    {
     "data": {
      "text/latex": [
       "$\\displaystyle 187: (1, -1, 1, 1, 1, -1, 1, 1) < (-1, -1, -1, -1, -1, -1, -1, -1)\\iff0 < -h_{1} -h_{3} -h_{4} -h_{5} -h_{7} -h_{8} +J_{1,2} +J_{1,6} +J_{2,3} +J_{2,4} +J_{2,5} +J_{2,7} +J_{2,8} +J_{3,6} +J_{4,6} +J_{5,6} +J_{6,7} +J_{6,8}$"
      ],
      "text/plain": [
       "<IPython.core.display.Math object>"
      ]
     },
     "metadata": {},
     "output_type": "display_data"
    },
    {
     "data": {
      "text/latex": [
       "$\\displaystyle 188: (-1, -1, -1, -1, -1, -1, -1, -1) < (1, -1, 1, 1, 1, 1, -1, -1)\\iff0 < +h_{1} +h_{3} +h_{4} +h_{5} +h_{6} -J_{1,2} -J_{1,7} -J_{1,8} -J_{2,3} -J_{2,4} -J_{2,5} -J_{2,6} -J_{3,7} -J_{3,8} -J_{4,7} -J_{4,8} -J_{5,7} -J_{5,8} -J_{6,7} -J_{6,8}$"
      ],
      "text/plain": [
       "<IPython.core.display.Math object>"
      ]
     },
     "metadata": {},
     "output_type": "display_data"
    },
    {
     "data": {
      "text/latex": [
       "$\\displaystyle 188: (1, -1, 1, 1, 1, 1, -1, -1) < (-1, -1, -1, -1, -1, -1, -1, -1)\\iff0 < -h_{1} -h_{3} -h_{4} -h_{5} -h_{6} +J_{1,2} +J_{1,7} +J_{1,8} +J_{2,3} +J_{2,4} +J_{2,5} +J_{2,6} +J_{3,7} +J_{3,8} +J_{4,7} +J_{4,8} +J_{5,7} +J_{5,8} +J_{6,7} +J_{6,8}$"
      ],
      "text/plain": [
       "<IPython.core.display.Math object>"
      ]
     },
     "metadata": {},
     "output_type": "display_data"
    },
    {
     "data": {
      "text/latex": [
       "$\\displaystyle 189: (-1, -1, -1, -1, -1, -1, -1, -1) < (1, -1, 1, 1, 1, 1, -1, 1)\\iff0 < +h_{1} +h_{3} +h_{4} +h_{5} +h_{6} +h_{8} -J_{1,2} -J_{1,7} -J_{2,3} -J_{2,4} -J_{2,5} -J_{2,6} -J_{2,8} -J_{3,7} -J_{4,7} -J_{5,7} -J_{6,7} -J_{7,8}$"
      ],
      "text/plain": [
       "<IPython.core.display.Math object>"
      ]
     },
     "metadata": {},
     "output_type": "display_data"
    },
    {
     "data": {
      "text/latex": [
       "$\\displaystyle 189: (1, -1, 1, 1, 1, 1, -1, 1) < (-1, -1, -1, -1, -1, -1, -1, -1)\\iff0 < -h_{1} -h_{3} -h_{4} -h_{5} -h_{6} -h_{8} +J_{1,2} +J_{1,7} +J_{2,3} +J_{2,4} +J_{2,5} +J_{2,6} +J_{2,8} +J_{3,7} +J_{4,7} +J_{5,7} +J_{6,7} +J_{7,8}$"
      ],
      "text/plain": [
       "<IPython.core.display.Math object>"
      ]
     },
     "metadata": {},
     "output_type": "display_data"
    },
    {
     "data": {
      "text/latex": [
       "$\\displaystyle 190: (-1, -1, -1, -1, -1, -1, -1, -1) < (1, -1, 1, 1, 1, 1, 1, -1)\\iff0 < +h_{1} +h_{3} +h_{4} +h_{5} +h_{6} +h_{7} -J_{1,2} -J_{1,8} -J_{2,3} -J_{2,4} -J_{2,5} -J_{2,6} -J_{2,7} -J_{3,8} -J_{4,8} -J_{5,8} -J_{6,8} -J_{7,8}$"
      ],
      "text/plain": [
       "<IPython.core.display.Math object>"
      ]
     },
     "metadata": {},
     "output_type": "display_data"
    },
    {
     "data": {
      "text/latex": [
       "$\\displaystyle 190: (1, -1, 1, 1, 1, 1, 1, -1) < (-1, -1, -1, -1, -1, -1, -1, -1)\\iff0 < -h_{1} -h_{3} -h_{4} -h_{5} -h_{6} -h_{7} +J_{1,2} +J_{1,8} +J_{2,3} +J_{2,4} +J_{2,5} +J_{2,6} +J_{2,7} +J_{3,8} +J_{4,8} +J_{5,8} +J_{6,8} +J_{7,8}$"
      ],
      "text/plain": [
       "<IPython.core.display.Math object>"
      ]
     },
     "metadata": {},
     "output_type": "display_data"
    },
    {
     "data": {
      "text/latex": [
       "$\\displaystyle 191: (-1, -1, -1, -1, -1, -1, -1, -1) < (1, -1, 1, 1, 1, 1, 1, 1)\\iff0 < +h_{1} +h_{3} +h_{4} +h_{5} +h_{6} +h_{7} +h_{8} -J_{1,2} -J_{2,3} -J_{2,4} -J_{2,5} -J_{2,6} -J_{2,7} -J_{2,8}$"
      ],
      "text/plain": [
       "<IPython.core.display.Math object>"
      ]
     },
     "metadata": {},
     "output_type": "display_data"
    },
    {
     "data": {
      "text/latex": [
       "$\\displaystyle 191: (1, -1, 1, 1, 1, 1, 1, 1) < (-1, -1, -1, -1, -1, -1, -1, -1)\\iff0 < -h_{1} -h_{3} -h_{4} -h_{5} -h_{6} -h_{7} -h_{8} +J_{1,2} +J_{2,3} +J_{2,4} +J_{2,5} +J_{2,6} +J_{2,7} +J_{2,8}$"
      ],
      "text/plain": [
       "<IPython.core.display.Math object>"
      ]
     },
     "metadata": {},
     "output_type": "display_data"
    },
    {
     "data": {
      "text/latex": [
       "$\\displaystyle 192: (-1, -1, -1, -1, -1, -1, -1, -1) < (1, 1, -1, -1, -1, -1, -1, -1)\\iff0 < +h_{1} +h_{2} -J_{1,3} -J_{1,4} -J_{1,5} -J_{1,6} -J_{1,7} -J_{1,8} -J_{2,3} -J_{2,4} -J_{2,5} -J_{2,6} -J_{2,7} -J_{2,8}$"
      ],
      "text/plain": [
       "<IPython.core.display.Math object>"
      ]
     },
     "metadata": {},
     "output_type": "display_data"
    },
    {
     "data": {
      "text/latex": [
       "$\\displaystyle 192: (1, 1, -1, -1, -1, -1, -1, -1) < (-1, -1, -1, -1, -1, -1, -1, -1)\\iff0 < -h_{1} -h_{2} +J_{1,3} +J_{1,4} +J_{1,5} +J_{1,6} +J_{1,7} +J_{1,8} +J_{2,3} +J_{2,4} +J_{2,5} +J_{2,6} +J_{2,7} +J_{2,8}$"
      ],
      "text/plain": [
       "<IPython.core.display.Math object>"
      ]
     },
     "metadata": {},
     "output_type": "display_data"
    },
    {
     "data": {
      "text/latex": [
       "$\\displaystyle 193: (-1, -1, -1, -1, -1, -1, -1, -1) < (1, 1, -1, -1, -1, -1, -1, 1)\\iff0 < +h_{1} +h_{2} +h_{8} -J_{1,3} -J_{1,4} -J_{1,5} -J_{1,6} -J_{1,7} -J_{2,3} -J_{2,4} -J_{2,5} -J_{2,6} -J_{2,7} -J_{3,8} -J_{4,8} -J_{5,8} -J_{6,8} -J_{7,8}$"
      ],
      "text/plain": [
       "<IPython.core.display.Math object>"
      ]
     },
     "metadata": {},
     "output_type": "display_data"
    },
    {
     "data": {
      "text/latex": [
       "$\\displaystyle 193: (1, 1, -1, -1, -1, -1, -1, 1) < (-1, -1, -1, -1, -1, -1, -1, -1)\\iff0 < -h_{1} -h_{2} -h_{8} +J_{1,3} +J_{1,4} +J_{1,5} +J_{1,6} +J_{1,7} +J_{2,3} +J_{2,4} +J_{2,5} +J_{2,6} +J_{2,7} +J_{3,8} +J_{4,8} +J_{5,8} +J_{6,8} +J_{7,8}$"
      ],
      "text/plain": [
       "<IPython.core.display.Math object>"
      ]
     },
     "metadata": {},
     "output_type": "display_data"
    },
    {
     "data": {
      "text/latex": [
       "$\\displaystyle 194: (-1, -1, -1, -1, -1, -1, -1, -1) < (1, 1, -1, -1, -1, -1, 1, -1)\\iff0 < +h_{1} +h_{2} +h_{7} -J_{1,3} -J_{1,4} -J_{1,5} -J_{1,6} -J_{1,8} -J_{2,3} -J_{2,4} -J_{2,5} -J_{2,6} -J_{2,8} -J_{3,7} -J_{4,7} -J_{5,7} -J_{6,7} -J_{7,8}$"
      ],
      "text/plain": [
       "<IPython.core.display.Math object>"
      ]
     },
     "metadata": {},
     "output_type": "display_data"
    },
    {
     "data": {
      "text/latex": [
       "$\\displaystyle 194: (1, 1, -1, -1, -1, -1, 1, -1) < (-1, -1, -1, -1, -1, -1, -1, -1)\\iff0 < -h_{1} -h_{2} -h_{7} +J_{1,3} +J_{1,4} +J_{1,5} +J_{1,6} +J_{1,8} +J_{2,3} +J_{2,4} +J_{2,5} +J_{2,6} +J_{2,8} +J_{3,7} +J_{4,7} +J_{5,7} +J_{6,7} +J_{7,8}$"
      ],
      "text/plain": [
       "<IPython.core.display.Math object>"
      ]
     },
     "metadata": {},
     "output_type": "display_data"
    },
    {
     "data": {
      "text/latex": [
       "$\\displaystyle 195: (-1, -1, -1, -1, -1, -1, -1, -1) < (1, 1, -1, -1, -1, -1, 1, 1)\\iff0 < +h_{1} +h_{2} +h_{7} +h_{8} -J_{1,3} -J_{1,4} -J_{1,5} -J_{1,6} -J_{2,3} -J_{2,4} -J_{2,5} -J_{2,6} -J_{3,7} -J_{3,8} -J_{4,7} -J_{4,8} -J_{5,7} -J_{5,8} -J_{6,7} -J_{6,8}$"
      ],
      "text/plain": [
       "<IPython.core.display.Math object>"
      ]
     },
     "metadata": {},
     "output_type": "display_data"
    },
    {
     "data": {
      "text/latex": [
       "$\\displaystyle 195: (1, 1, -1, -1, -1, -1, 1, 1) < (-1, -1, -1, -1, -1, -1, -1, -1)\\iff0 < -h_{1} -h_{2} -h_{7} -h_{8} +J_{1,3} +J_{1,4} +J_{1,5} +J_{1,6} +J_{2,3} +J_{2,4} +J_{2,5} +J_{2,6} +J_{3,7} +J_{3,8} +J_{4,7} +J_{4,8} +J_{5,7} +J_{5,8} +J_{6,7} +J_{6,8}$"
      ],
      "text/plain": [
       "<IPython.core.display.Math object>"
      ]
     },
     "metadata": {},
     "output_type": "display_data"
    },
    {
     "data": {
      "text/latex": [
       "$\\displaystyle 196: (-1, -1, -1, -1, -1, -1, -1, -1) < (1, 1, -1, -1, -1, 1, -1, -1)\\iff0 < +h_{1} +h_{2} +h_{6} -J_{1,3} -J_{1,4} -J_{1,5} -J_{1,7} -J_{1,8} -J_{2,3} -J_{2,4} -J_{2,5} -J_{2,7} -J_{2,8} -J_{3,6} -J_{4,6} -J_{5,6} -J_{6,7} -J_{6,8}$"
      ],
      "text/plain": [
       "<IPython.core.display.Math object>"
      ]
     },
     "metadata": {},
     "output_type": "display_data"
    },
    {
     "data": {
      "text/latex": [
       "$\\displaystyle 196: (1, 1, -1, -1, -1, 1, -1, -1) < (-1, -1, -1, -1, -1, -1, -1, -1)\\iff0 < -h_{1} -h_{2} -h_{6} +J_{1,3} +J_{1,4} +J_{1,5} +J_{1,7} +J_{1,8} +J_{2,3} +J_{2,4} +J_{2,5} +J_{2,7} +J_{2,8} +J_{3,6} +J_{4,6} +J_{5,6} +J_{6,7} +J_{6,8}$"
      ],
      "text/plain": [
       "<IPython.core.display.Math object>"
      ]
     },
     "metadata": {},
     "output_type": "display_data"
    },
    {
     "data": {
      "text/latex": [
       "$\\displaystyle 197: (-1, -1, -1, -1, -1, -1, -1, -1) < (1, 1, -1, -1, -1, 1, -1, 1)\\iff0 < +h_{1} +h_{2} +h_{6} +h_{8} -J_{1,3} -J_{1,4} -J_{1,5} -J_{1,7} -J_{2,3} -J_{2,4} -J_{2,5} -J_{2,7} -J_{3,6} -J_{3,8} -J_{4,6} -J_{4,8} -J_{5,6} -J_{5,8} -J_{6,7} -J_{7,8}$"
      ],
      "text/plain": [
       "<IPython.core.display.Math object>"
      ]
     },
     "metadata": {},
     "output_type": "display_data"
    },
    {
     "data": {
      "text/latex": [
       "$\\displaystyle 197: (1, 1, -1, -1, -1, 1, -1, 1) < (-1, -1, -1, -1, -1, -1, -1, -1)\\iff0 < -h_{1} -h_{2} -h_{6} -h_{8} +J_{1,3} +J_{1,4} +J_{1,5} +J_{1,7} +J_{2,3} +J_{2,4} +J_{2,5} +J_{2,7} +J_{3,6} +J_{3,8} +J_{4,6} +J_{4,8} +J_{5,6} +J_{5,8} +J_{6,7} +J_{7,8}$"
      ],
      "text/plain": [
       "<IPython.core.display.Math object>"
      ]
     },
     "metadata": {},
     "output_type": "display_data"
    },
    {
     "data": {
      "text/latex": [
       "$\\displaystyle 198: (-1, -1, -1, -1, -1, -1, -1, -1) < (1, 1, -1, -1, -1, 1, 1, -1)\\iff0 < +h_{1} +h_{2} +h_{6} +h_{7} -J_{1,3} -J_{1,4} -J_{1,5} -J_{1,8} -J_{2,3} -J_{2,4} -J_{2,5} -J_{2,8} -J_{3,6} -J_{3,7} -J_{4,6} -J_{4,7} -J_{5,6} -J_{5,7} -J_{6,8} -J_{7,8}$"
      ],
      "text/plain": [
       "<IPython.core.display.Math object>"
      ]
     },
     "metadata": {},
     "output_type": "display_data"
    },
    {
     "data": {
      "text/latex": [
       "$\\displaystyle 198: (1, 1, -1, -1, -1, 1, 1, -1) < (-1, -1, -1, -1, -1, -1, -1, -1)\\iff0 < -h_{1} -h_{2} -h_{6} -h_{7} +J_{1,3} +J_{1,4} +J_{1,5} +J_{1,8} +J_{2,3} +J_{2,4} +J_{2,5} +J_{2,8} +J_{3,6} +J_{3,7} +J_{4,6} +J_{4,7} +J_{5,6} +J_{5,7} +J_{6,8} +J_{7,8}$"
      ],
      "text/plain": [
       "<IPython.core.display.Math object>"
      ]
     },
     "metadata": {},
     "output_type": "display_data"
    },
    {
     "data": {
      "text/latex": [
       "$\\displaystyle 199: (-1, -1, -1, -1, -1, -1, -1, -1) < (1, 1, -1, -1, -1, 1, 1, 1)\\iff0 < +h_{1} +h_{2} +h_{6} +h_{7} +h_{8} -J_{1,3} -J_{1,4} -J_{1,5} -J_{2,3} -J_{2,4} -J_{2,5} -J_{3,6} -J_{3,7} -J_{3,8} -J_{4,6} -J_{4,7} -J_{4,8} -J_{5,6} -J_{5,7} -J_{5,8}$"
      ],
      "text/plain": [
       "<IPython.core.display.Math object>"
      ]
     },
     "metadata": {},
     "output_type": "display_data"
    },
    {
     "data": {
      "text/latex": [
       "$\\displaystyle 199: (1, 1, -1, -1, -1, 1, 1, 1) < (-1, -1, -1, -1, -1, -1, -1, -1)\\iff0 < -h_{1} -h_{2} -h_{6} -h_{7} -h_{8} +J_{1,3} +J_{1,4} +J_{1,5} +J_{2,3} +J_{2,4} +J_{2,5} +J_{3,6} +J_{3,7} +J_{3,8} +J_{4,6} +J_{4,7} +J_{4,8} +J_{5,6} +J_{5,7} +J_{5,8}$"
      ],
      "text/plain": [
       "<IPython.core.display.Math object>"
      ]
     },
     "metadata": {},
     "output_type": "display_data"
    },
    {
     "data": {
      "text/latex": [
       "$\\displaystyle 200: (-1, -1, -1, -1, -1, -1, -1, -1) < (1, 1, -1, -1, 1, -1, -1, -1)\\iff0 < +h_{1} +h_{2} +h_{5} -J_{1,3} -J_{1,4} -J_{1,6} -J_{1,7} -J_{1,8} -J_{2,3} -J_{2,4} -J_{2,6} -J_{2,7} -J_{2,8} -J_{3,5} -J_{4,5} -J_{5,6} -J_{5,7} -J_{5,8}$"
      ],
      "text/plain": [
       "<IPython.core.display.Math object>"
      ]
     },
     "metadata": {},
     "output_type": "display_data"
    },
    {
     "data": {
      "text/latex": [
       "$\\displaystyle 200: (1, 1, -1, -1, 1, -1, -1, -1) < (-1, -1, -1, -1, -1, -1, -1, -1)\\iff0 < -h_{1} -h_{2} -h_{5} +J_{1,3} +J_{1,4} +J_{1,6} +J_{1,7} +J_{1,8} +J_{2,3} +J_{2,4} +J_{2,6} +J_{2,7} +J_{2,8} +J_{3,5} +J_{4,5} +J_{5,6} +J_{5,7} +J_{5,8}$"
      ],
      "text/plain": [
       "<IPython.core.display.Math object>"
      ]
     },
     "metadata": {},
     "output_type": "display_data"
    },
    {
     "data": {
      "text/latex": [
       "$\\displaystyle 201: (-1, -1, -1, -1, -1, -1, -1, -1) < (1, 1, -1, -1, 1, -1, -1, 1)\\iff0 < +h_{1} +h_{2} +h_{5} +h_{8} -J_{1,3} -J_{1,4} -J_{1,6} -J_{1,7} -J_{2,3} -J_{2,4} -J_{2,6} -J_{2,7} -J_{3,5} -J_{3,8} -J_{4,5} -J_{4,8} -J_{5,6} -J_{5,7} -J_{6,8} -J_{7,8}$"
      ],
      "text/plain": [
       "<IPython.core.display.Math object>"
      ]
     },
     "metadata": {},
     "output_type": "display_data"
    },
    {
     "data": {
      "text/latex": [
       "$\\displaystyle 201: (1, 1, -1, -1, 1, -1, -1, 1) < (-1, -1, -1, -1, -1, -1, -1, -1)\\iff0 < -h_{1} -h_{2} -h_{5} -h_{8} +J_{1,3} +J_{1,4} +J_{1,6} +J_{1,7} +J_{2,3} +J_{2,4} +J_{2,6} +J_{2,7} +J_{3,5} +J_{3,8} +J_{4,5} +J_{4,8} +J_{5,6} +J_{5,7} +J_{6,8} +J_{7,8}$"
      ],
      "text/plain": [
       "<IPython.core.display.Math object>"
      ]
     },
     "metadata": {},
     "output_type": "display_data"
    },
    {
     "data": {
      "text/latex": [
       "$\\displaystyle 202: (-1, -1, -1, -1, -1, -1, -1, -1) < (1, 1, -1, -1, 1, -1, 1, -1)\\iff0 < +h_{1} +h_{2} +h_{5} +h_{7} -J_{1,3} -J_{1,4} -J_{1,6} -J_{1,8} -J_{2,3} -J_{2,4} -J_{2,6} -J_{2,8} -J_{3,5} -J_{3,7} -J_{4,5} -J_{4,7} -J_{5,6} -J_{5,8} -J_{6,7} -J_{7,8}$"
      ],
      "text/plain": [
       "<IPython.core.display.Math object>"
      ]
     },
     "metadata": {},
     "output_type": "display_data"
    },
    {
     "data": {
      "text/latex": [
       "$\\displaystyle 202: (1, 1, -1, -1, 1, -1, 1, -1) < (-1, -1, -1, -1, -1, -1, -1, -1)\\iff0 < -h_{1} -h_{2} -h_{5} -h_{7} +J_{1,3} +J_{1,4} +J_{1,6} +J_{1,8} +J_{2,3} +J_{2,4} +J_{2,6} +J_{2,8} +J_{3,5} +J_{3,7} +J_{4,5} +J_{4,7} +J_{5,6} +J_{5,8} +J_{6,7} +J_{7,8}$"
      ],
      "text/plain": [
       "<IPython.core.display.Math object>"
      ]
     },
     "metadata": {},
     "output_type": "display_data"
    },
    {
     "data": {
      "text/latex": [
       "$\\displaystyle 203: (-1, -1, -1, -1, -1, -1, -1, -1) < (1, 1, -1, -1, 1, -1, 1, 1)\\iff0 < +h_{1} +h_{2} +h_{5} +h_{7} +h_{8} -J_{1,3} -J_{1,4} -J_{1,6} -J_{2,3} -J_{2,4} -J_{2,6} -J_{3,5} -J_{3,7} -J_{3,8} -J_{4,5} -J_{4,7} -J_{4,8} -J_{5,6} -J_{6,7} -J_{6,8}$"
      ],
      "text/plain": [
       "<IPython.core.display.Math object>"
      ]
     },
     "metadata": {},
     "output_type": "display_data"
    },
    {
     "data": {
      "text/latex": [
       "$\\displaystyle 203: (1, 1, -1, -1, 1, -1, 1, 1) < (-1, -1, -1, -1, -1, -1, -1, -1)\\iff0 < -h_{1} -h_{2} -h_{5} -h_{7} -h_{8} +J_{1,3} +J_{1,4} +J_{1,6} +J_{2,3} +J_{2,4} +J_{2,6} +J_{3,5} +J_{3,7} +J_{3,8} +J_{4,5} +J_{4,7} +J_{4,8} +J_{5,6} +J_{6,7} +J_{6,8}$"
      ],
      "text/plain": [
       "<IPython.core.display.Math object>"
      ]
     },
     "metadata": {},
     "output_type": "display_data"
    },
    {
     "data": {
      "text/latex": [
       "$\\displaystyle 204: (-1, -1, -1, -1, -1, -1, -1, -1) < (1, 1, -1, -1, 1, 1, -1, -1)\\iff0 < +h_{1} +h_{2} +h_{5} +h_{6} -J_{1,3} -J_{1,4} -J_{1,7} -J_{1,8} -J_{2,3} -J_{2,4} -J_{2,7} -J_{2,8} -J_{3,5} -J_{3,6} -J_{4,5} -J_{4,6} -J_{5,7} -J_{5,8} -J_{6,7} -J_{6,8}$"
      ],
      "text/plain": [
       "<IPython.core.display.Math object>"
      ]
     },
     "metadata": {},
     "output_type": "display_data"
    },
    {
     "data": {
      "text/latex": [
       "$\\displaystyle 204: (1, 1, -1, -1, 1, 1, -1, -1) < (-1, -1, -1, -1, -1, -1, -1, -1)\\iff0 < -h_{1} -h_{2} -h_{5} -h_{6} +J_{1,3} +J_{1,4} +J_{1,7} +J_{1,8} +J_{2,3} +J_{2,4} +J_{2,7} +J_{2,8} +J_{3,5} +J_{3,6} +J_{4,5} +J_{4,6} +J_{5,7} +J_{5,8} +J_{6,7} +J_{6,8}$"
      ],
      "text/plain": [
       "<IPython.core.display.Math object>"
      ]
     },
     "metadata": {},
     "output_type": "display_data"
    },
    {
     "data": {
      "text/latex": [
       "$\\displaystyle 205: (-1, -1, -1, -1, -1, -1, -1, -1) < (1, 1, -1, -1, 1, 1, -1, 1)\\iff0 < +h_{1} +h_{2} +h_{5} +h_{6} +h_{8} -J_{1,3} -J_{1,4} -J_{1,7} -J_{2,3} -J_{2,4} -J_{2,7} -J_{3,5} -J_{3,6} -J_{3,8} -J_{4,5} -J_{4,6} -J_{4,8} -J_{5,7} -J_{6,7} -J_{7,8}$"
      ],
      "text/plain": [
       "<IPython.core.display.Math object>"
      ]
     },
     "metadata": {},
     "output_type": "display_data"
    },
    {
     "data": {
      "text/latex": [
       "$\\displaystyle 205: (1, 1, -1, -1, 1, 1, -1, 1) < (-1, -1, -1, -1, -1, -1, -1, -1)\\iff0 < -h_{1} -h_{2} -h_{5} -h_{6} -h_{8} +J_{1,3} +J_{1,4} +J_{1,7} +J_{2,3} +J_{2,4} +J_{2,7} +J_{3,5} +J_{3,6} +J_{3,8} +J_{4,5} +J_{4,6} +J_{4,8} +J_{5,7} +J_{6,7} +J_{7,8}$"
      ],
      "text/plain": [
       "<IPython.core.display.Math object>"
      ]
     },
     "metadata": {},
     "output_type": "display_data"
    },
    {
     "data": {
      "text/latex": [
       "$\\displaystyle 206: (-1, -1, -1, -1, -1, -1, -1, -1) < (1, 1, -1, -1, 1, 1, 1, -1)\\iff0 < +h_{1} +h_{2} +h_{5} +h_{6} +h_{7} -J_{1,3} -J_{1,4} -J_{1,8} -J_{2,3} -J_{2,4} -J_{2,8} -J_{3,5} -J_{3,6} -J_{3,7} -J_{4,5} -J_{4,6} -J_{4,7} -J_{5,8} -J_{6,8} -J_{7,8}$"
      ],
      "text/plain": [
       "<IPython.core.display.Math object>"
      ]
     },
     "metadata": {},
     "output_type": "display_data"
    },
    {
     "data": {
      "text/latex": [
       "$\\displaystyle 206: (1, 1, -1, -1, 1, 1, 1, -1) < (-1, -1, -1, -1, -1, -1, -1, -1)\\iff0 < -h_{1} -h_{2} -h_{5} -h_{6} -h_{7} +J_{1,3} +J_{1,4} +J_{1,8} +J_{2,3} +J_{2,4} +J_{2,8} +J_{3,5} +J_{3,6} +J_{3,7} +J_{4,5} +J_{4,6} +J_{4,7} +J_{5,8} +J_{6,8} +J_{7,8}$"
      ],
      "text/plain": [
       "<IPython.core.display.Math object>"
      ]
     },
     "metadata": {},
     "output_type": "display_data"
    },
    {
     "data": {
      "text/latex": [
       "$\\displaystyle 207: (-1, -1, -1, -1, -1, -1, -1, -1) < (1, 1, -1, -1, 1, 1, 1, 1)\\iff0 < +h_{1} +h_{2} +h_{5} +h_{6} +h_{7} +h_{8} -J_{1,3} -J_{1,4} -J_{2,3} -J_{2,4} -J_{3,5} -J_{3,6} -J_{3,7} -J_{3,8} -J_{4,5} -J_{4,6} -J_{4,7} -J_{4,8}$"
      ],
      "text/plain": [
       "<IPython.core.display.Math object>"
      ]
     },
     "metadata": {},
     "output_type": "display_data"
    },
    {
     "data": {
      "text/latex": [
       "$\\displaystyle 207: (1, 1, -1, -1, 1, 1, 1, 1) < (-1, -1, -1, -1, -1, -1, -1, -1)\\iff0 < -h_{1} -h_{2} -h_{5} -h_{6} -h_{7} -h_{8} +J_{1,3} +J_{1,4} +J_{2,3} +J_{2,4} +J_{3,5} +J_{3,6} +J_{3,7} +J_{3,8} +J_{4,5} +J_{4,6} +J_{4,7} +J_{4,8}$"
      ],
      "text/plain": [
       "<IPython.core.display.Math object>"
      ]
     },
     "metadata": {},
     "output_type": "display_data"
    },
    {
     "data": {
      "text/latex": [
       "$\\displaystyle 208: (-1, -1, -1, -1, -1, -1, -1, -1) < (1, 1, -1, 1, -1, -1, -1, -1)\\iff0 < +h_{1} +h_{2} +h_{4} -J_{1,3} -J_{1,5} -J_{1,6} -J_{1,7} -J_{1,8} -J_{2,3} -J_{2,5} -J_{2,6} -J_{2,7} -J_{2,8} -J_{3,4} -J_{4,5} -J_{4,6} -J_{4,7} -J_{4,8}$"
      ],
      "text/plain": [
       "<IPython.core.display.Math object>"
      ]
     },
     "metadata": {},
     "output_type": "display_data"
    },
    {
     "data": {
      "text/latex": [
       "$\\displaystyle 208: (1, 1, -1, 1, -1, -1, -1, -1) < (-1, -1, -1, -1, -1, -1, -1, -1)\\iff0 < -h_{1} -h_{2} -h_{4} +J_{1,3} +J_{1,5} +J_{1,6} +J_{1,7} +J_{1,8} +J_{2,3} +J_{2,5} +J_{2,6} +J_{2,7} +J_{2,8} +J_{3,4} +J_{4,5} +J_{4,6} +J_{4,7} +J_{4,8}$"
      ],
      "text/plain": [
       "<IPython.core.display.Math object>"
      ]
     },
     "metadata": {},
     "output_type": "display_data"
    },
    {
     "data": {
      "text/latex": [
       "$\\displaystyle 209: (-1, -1, -1, -1, -1, -1, -1, -1) < (1, 1, -1, 1, -1, -1, -1, 1)\\iff0 < +h_{1} +h_{2} +h_{4} +h_{8} -J_{1,3} -J_{1,5} -J_{1,6} -J_{1,7} -J_{2,3} -J_{2,5} -J_{2,6} -J_{2,7} -J_{3,4} -J_{3,8} -J_{4,5} -J_{4,6} -J_{4,7} -J_{5,8} -J_{6,8} -J_{7,8}$"
      ],
      "text/plain": [
       "<IPython.core.display.Math object>"
      ]
     },
     "metadata": {},
     "output_type": "display_data"
    },
    {
     "data": {
      "text/latex": [
       "$\\displaystyle 209: (1, 1, -1, 1, -1, -1, -1, 1) < (-1, -1, -1, -1, -1, -1, -1, -1)\\iff0 < -h_{1} -h_{2} -h_{4} -h_{8} +J_{1,3} +J_{1,5} +J_{1,6} +J_{1,7} +J_{2,3} +J_{2,5} +J_{2,6} +J_{2,7} +J_{3,4} +J_{3,8} +J_{4,5} +J_{4,6} +J_{4,7} +J_{5,8} +J_{6,8} +J_{7,8}$"
      ],
      "text/plain": [
       "<IPython.core.display.Math object>"
      ]
     },
     "metadata": {},
     "output_type": "display_data"
    },
    {
     "data": {
      "text/latex": [
       "$\\displaystyle 210: (-1, -1, -1, -1, -1, -1, -1, -1) < (1, 1, -1, 1, -1, -1, 1, -1)\\iff0 < +h_{1} +h_{2} +h_{4} +h_{7} -J_{1,3} -J_{1,5} -J_{1,6} -J_{1,8} -J_{2,3} -J_{2,5} -J_{2,6} -J_{2,8} -J_{3,4} -J_{3,7} -J_{4,5} -J_{4,6} -J_{4,8} -J_{5,7} -J_{6,7} -J_{7,8}$"
      ],
      "text/plain": [
       "<IPython.core.display.Math object>"
      ]
     },
     "metadata": {},
     "output_type": "display_data"
    },
    {
     "data": {
      "text/latex": [
       "$\\displaystyle 210: (1, 1, -1, 1, -1, -1, 1, -1) < (-1, -1, -1, -1, -1, -1, -1, -1)\\iff0 < -h_{1} -h_{2} -h_{4} -h_{7} +J_{1,3} +J_{1,5} +J_{1,6} +J_{1,8} +J_{2,3} +J_{2,5} +J_{2,6} +J_{2,8} +J_{3,4} +J_{3,7} +J_{4,5} +J_{4,6} +J_{4,8} +J_{5,7} +J_{6,7} +J_{7,8}$"
      ],
      "text/plain": [
       "<IPython.core.display.Math object>"
      ]
     },
     "metadata": {},
     "output_type": "display_data"
    },
    {
     "data": {
      "text/latex": [
       "$\\displaystyle 211: (-1, -1, -1, -1, -1, -1, -1, -1) < (1, 1, -1, 1, -1, -1, 1, 1)\\iff0 < +h_{1} +h_{2} +h_{4} +h_{7} +h_{8} -J_{1,3} -J_{1,5} -J_{1,6} -J_{2,3} -J_{2,5} -J_{2,6} -J_{3,4} -J_{3,7} -J_{3,8} -J_{4,5} -J_{4,6} -J_{5,7} -J_{5,8} -J_{6,7} -J_{6,8}$"
      ],
      "text/plain": [
       "<IPython.core.display.Math object>"
      ]
     },
     "metadata": {},
     "output_type": "display_data"
    },
    {
     "data": {
      "text/latex": [
       "$\\displaystyle 211: (1, 1, -1, 1, -1, -1, 1, 1) < (-1, -1, -1, -1, -1, -1, -1, -1)\\iff0 < -h_{1} -h_{2} -h_{4} -h_{7} -h_{8} +J_{1,3} +J_{1,5} +J_{1,6} +J_{2,3} +J_{2,5} +J_{2,6} +J_{3,4} +J_{3,7} +J_{3,8} +J_{4,5} +J_{4,6} +J_{5,7} +J_{5,8} +J_{6,7} +J_{6,8}$"
      ],
      "text/plain": [
       "<IPython.core.display.Math object>"
      ]
     },
     "metadata": {},
     "output_type": "display_data"
    },
    {
     "data": {
      "text/latex": [
       "$\\displaystyle 212: (-1, -1, -1, -1, -1, -1, -1, -1) < (1, 1, -1, 1, -1, 1, -1, -1)\\iff0 < +h_{1} +h_{2} +h_{4} +h_{6} -J_{1,3} -J_{1,5} -J_{1,7} -J_{1,8} -J_{2,3} -J_{2,5} -J_{2,7} -J_{2,8} -J_{3,4} -J_{3,6} -J_{4,5} -J_{4,7} -J_{4,8} -J_{5,6} -J_{6,7} -J_{6,8}$"
      ],
      "text/plain": [
       "<IPython.core.display.Math object>"
      ]
     },
     "metadata": {},
     "output_type": "display_data"
    },
    {
     "data": {
      "text/latex": [
       "$\\displaystyle 212: (1, 1, -1, 1, -1, 1, -1, -1) < (-1, -1, -1, -1, -1, -1, -1, -1)\\iff0 < -h_{1} -h_{2} -h_{4} -h_{6} +J_{1,3} +J_{1,5} +J_{1,7} +J_{1,8} +J_{2,3} +J_{2,5} +J_{2,7} +J_{2,8} +J_{3,4} +J_{3,6} +J_{4,5} +J_{4,7} +J_{4,8} +J_{5,6} +J_{6,7} +J_{6,8}$"
      ],
      "text/plain": [
       "<IPython.core.display.Math object>"
      ]
     },
     "metadata": {},
     "output_type": "display_data"
    },
    {
     "data": {
      "text/latex": [
       "$\\displaystyle 213: (-1, -1, -1, -1, -1, -1, -1, -1) < (1, 1, -1, 1, -1, 1, -1, 1)\\iff0 < +h_{1} +h_{2} +h_{4} +h_{6} +h_{8} -J_{1,3} -J_{1,5} -J_{1,7} -J_{2,3} -J_{2,5} -J_{2,7} -J_{3,4} -J_{3,6} -J_{3,8} -J_{4,5} -J_{4,7} -J_{5,6} -J_{5,8} -J_{6,7} -J_{7,8}$"
      ],
      "text/plain": [
       "<IPython.core.display.Math object>"
      ]
     },
     "metadata": {},
     "output_type": "display_data"
    },
    {
     "data": {
      "text/latex": [
       "$\\displaystyle 213: (1, 1, -1, 1, -1, 1, -1, 1) < (-1, -1, -1, -1, -1, -1, -1, -1)\\iff0 < -h_{1} -h_{2} -h_{4} -h_{6} -h_{8} +J_{1,3} +J_{1,5} +J_{1,7} +J_{2,3} +J_{2,5} +J_{2,7} +J_{3,4} +J_{3,6} +J_{3,8} +J_{4,5} +J_{4,7} +J_{5,6} +J_{5,8} +J_{6,7} +J_{7,8}$"
      ],
      "text/plain": [
       "<IPython.core.display.Math object>"
      ]
     },
     "metadata": {},
     "output_type": "display_data"
    },
    {
     "data": {
      "text/latex": [
       "$\\displaystyle 214: (-1, -1, -1, -1, -1, -1, -1, -1) < (1, 1, -1, 1, -1, 1, 1, -1)\\iff0 < +h_{1} +h_{2} +h_{4} +h_{6} +h_{7} -J_{1,3} -J_{1,5} -J_{1,8} -J_{2,3} -J_{2,5} -J_{2,8} -J_{3,4} -J_{3,6} -J_{3,7} -J_{4,5} -J_{4,8} -J_{5,6} -J_{5,7} -J_{6,8} -J_{7,8}$"
      ],
      "text/plain": [
       "<IPython.core.display.Math object>"
      ]
     },
     "metadata": {},
     "output_type": "display_data"
    },
    {
     "data": {
      "text/latex": [
       "$\\displaystyle 214: (1, 1, -1, 1, -1, 1, 1, -1) < (-1, -1, -1, -1, -1, -1, -1, -1)\\iff0 < -h_{1} -h_{2} -h_{4} -h_{6} -h_{7} +J_{1,3} +J_{1,5} +J_{1,8} +J_{2,3} +J_{2,5} +J_{2,8} +J_{3,4} +J_{3,6} +J_{3,7} +J_{4,5} +J_{4,8} +J_{5,6} +J_{5,7} +J_{6,8} +J_{7,8}$"
      ],
      "text/plain": [
       "<IPython.core.display.Math object>"
      ]
     },
     "metadata": {},
     "output_type": "display_data"
    },
    {
     "data": {
      "text/latex": [
       "$\\displaystyle 215: (-1, -1, -1, -1, -1, -1, -1, -1) < (1, 1, -1, 1, -1, 1, 1, 1)\\iff0 < +h_{1} +h_{2} +h_{4} +h_{6} +h_{7} +h_{8} -J_{1,3} -J_{1,5} -J_{2,3} -J_{2,5} -J_{3,4} -J_{3,6} -J_{3,7} -J_{3,8} -J_{4,5} -J_{5,6} -J_{5,7} -J_{5,8}$"
      ],
      "text/plain": [
       "<IPython.core.display.Math object>"
      ]
     },
     "metadata": {},
     "output_type": "display_data"
    },
    {
     "data": {
      "text/latex": [
       "$\\displaystyle 215: (1, 1, -1, 1, -1, 1, 1, 1) < (-1, -1, -1, -1, -1, -1, -1, -1)\\iff0 < -h_{1} -h_{2} -h_{4} -h_{6} -h_{7} -h_{8} +J_{1,3} +J_{1,5} +J_{2,3} +J_{2,5} +J_{3,4} +J_{3,6} +J_{3,7} +J_{3,8} +J_{4,5} +J_{5,6} +J_{5,7} +J_{5,8}$"
      ],
      "text/plain": [
       "<IPython.core.display.Math object>"
      ]
     },
     "metadata": {},
     "output_type": "display_data"
    },
    {
     "data": {
      "text/latex": [
       "$\\displaystyle 216: (-1, -1, -1, -1, -1, -1, -1, -1) < (1, 1, -1, 1, 1, -1, -1, -1)\\iff0 < +h_{1} +h_{2} +h_{4} +h_{5} -J_{1,3} -J_{1,6} -J_{1,7} -J_{1,8} -J_{2,3} -J_{2,6} -J_{2,7} -J_{2,8} -J_{3,4} -J_{3,5} -J_{4,6} -J_{4,7} -J_{4,8} -J_{5,6} -J_{5,7} -J_{5,8}$"
      ],
      "text/plain": [
       "<IPython.core.display.Math object>"
      ]
     },
     "metadata": {},
     "output_type": "display_data"
    },
    {
     "data": {
      "text/latex": [
       "$\\displaystyle 216: (1, 1, -1, 1, 1, -1, -1, -1) < (-1, -1, -1, -1, -1, -1, -1, -1)\\iff0 < -h_{1} -h_{2} -h_{4} -h_{5} +J_{1,3} +J_{1,6} +J_{1,7} +J_{1,8} +J_{2,3} +J_{2,6} +J_{2,7} +J_{2,8} +J_{3,4} +J_{3,5} +J_{4,6} +J_{4,7} +J_{4,8} +J_{5,6} +J_{5,7} +J_{5,8}$"
      ],
      "text/plain": [
       "<IPython.core.display.Math object>"
      ]
     },
     "metadata": {},
     "output_type": "display_data"
    },
    {
     "data": {
      "text/latex": [
       "$\\displaystyle 217: (-1, -1, -1, -1, -1, -1, -1, -1) < (1, 1, -1, 1, 1, -1, -1, 1)\\iff0 < +h_{1} +h_{2} +h_{4} +h_{5} +h_{8} -J_{1,3} -J_{1,6} -J_{1,7} -J_{2,3} -J_{2,6} -J_{2,7} -J_{3,4} -J_{3,5} -J_{3,8} -J_{4,6} -J_{4,7} -J_{5,6} -J_{5,7} -J_{6,8} -J_{7,8}$"
      ],
      "text/plain": [
       "<IPython.core.display.Math object>"
      ]
     },
     "metadata": {},
     "output_type": "display_data"
    },
    {
     "data": {
      "text/latex": [
       "$\\displaystyle 217: (1, 1, -1, 1, 1, -1, -1, 1) < (-1, -1, -1, -1, -1, -1, -1, -1)\\iff0 < -h_{1} -h_{2} -h_{4} -h_{5} -h_{8} +J_{1,3} +J_{1,6} +J_{1,7} +J_{2,3} +J_{2,6} +J_{2,7} +J_{3,4} +J_{3,5} +J_{3,8} +J_{4,6} +J_{4,7} +J_{5,6} +J_{5,7} +J_{6,8} +J_{7,8}$"
      ],
      "text/plain": [
       "<IPython.core.display.Math object>"
      ]
     },
     "metadata": {},
     "output_type": "display_data"
    },
    {
     "data": {
      "text/latex": [
       "$\\displaystyle 218: (-1, -1, -1, -1, -1, -1, -1, -1) < (1, 1, -1, 1, 1, -1, 1, -1)\\iff0 < +h_{1} +h_{2} +h_{4} +h_{5} +h_{7} -J_{1,3} -J_{1,6} -J_{1,8} -J_{2,3} -J_{2,6} -J_{2,8} -J_{3,4} -J_{3,5} -J_{3,7} -J_{4,6} -J_{4,8} -J_{5,6} -J_{5,8} -J_{6,7} -J_{7,8}$"
      ],
      "text/plain": [
       "<IPython.core.display.Math object>"
      ]
     },
     "metadata": {},
     "output_type": "display_data"
    },
    {
     "data": {
      "text/latex": [
       "$\\displaystyle 218: (1, 1, -1, 1, 1, -1, 1, -1) < (-1, -1, -1, -1, -1, -1, -1, -1)\\iff0 < -h_{1} -h_{2} -h_{4} -h_{5} -h_{7} +J_{1,3} +J_{1,6} +J_{1,8} +J_{2,3} +J_{2,6} +J_{2,8} +J_{3,4} +J_{3,5} +J_{3,7} +J_{4,6} +J_{4,8} +J_{5,6} +J_{5,8} +J_{6,7} +J_{7,8}$"
      ],
      "text/plain": [
       "<IPython.core.display.Math object>"
      ]
     },
     "metadata": {},
     "output_type": "display_data"
    },
    {
     "data": {
      "text/latex": [
       "$\\displaystyle 219: (-1, -1, -1, -1, -1, -1, -1, -1) < (1, 1, -1, 1, 1, -1, 1, 1)\\iff0 < +h_{1} +h_{2} +h_{4} +h_{5} +h_{7} +h_{8} -J_{1,3} -J_{1,6} -J_{2,3} -J_{2,6} -J_{3,4} -J_{3,5} -J_{3,7} -J_{3,8} -J_{4,6} -J_{5,6} -J_{6,7} -J_{6,8}$"
      ],
      "text/plain": [
       "<IPython.core.display.Math object>"
      ]
     },
     "metadata": {},
     "output_type": "display_data"
    },
    {
     "data": {
      "text/latex": [
       "$\\displaystyle 219: (1, 1, -1, 1, 1, -1, 1, 1) < (-1, -1, -1, -1, -1, -1, -1, -1)\\iff0 < -h_{1} -h_{2} -h_{4} -h_{5} -h_{7} -h_{8} +J_{1,3} +J_{1,6} +J_{2,3} +J_{2,6} +J_{3,4} +J_{3,5} +J_{3,7} +J_{3,8} +J_{4,6} +J_{5,6} +J_{6,7} +J_{6,8}$"
      ],
      "text/plain": [
       "<IPython.core.display.Math object>"
      ]
     },
     "metadata": {},
     "output_type": "display_data"
    },
    {
     "data": {
      "text/latex": [
       "$\\displaystyle 220: (-1, -1, -1, -1, -1, -1, -1, -1) < (1, 1, -1, 1, 1, 1, -1, -1)\\iff0 < +h_{1} +h_{2} +h_{4} +h_{5} +h_{6} -J_{1,3} -J_{1,7} -J_{1,8} -J_{2,3} -J_{2,7} -J_{2,8} -J_{3,4} -J_{3,5} -J_{3,6} -J_{4,7} -J_{4,8} -J_{5,7} -J_{5,8} -J_{6,7} -J_{6,8}$"
      ],
      "text/plain": [
       "<IPython.core.display.Math object>"
      ]
     },
     "metadata": {},
     "output_type": "display_data"
    },
    {
     "data": {
      "text/latex": [
       "$\\displaystyle 220: (1, 1, -1, 1, 1, 1, -1, -1) < (-1, -1, -1, -1, -1, -1, -1, -1)\\iff0 < -h_{1} -h_{2} -h_{4} -h_{5} -h_{6} +J_{1,3} +J_{1,7} +J_{1,8} +J_{2,3} +J_{2,7} +J_{2,8} +J_{3,4} +J_{3,5} +J_{3,6} +J_{4,7} +J_{4,8} +J_{5,7} +J_{5,8} +J_{6,7} +J_{6,8}$"
      ],
      "text/plain": [
       "<IPython.core.display.Math object>"
      ]
     },
     "metadata": {},
     "output_type": "display_data"
    },
    {
     "data": {
      "text/latex": [
       "$\\displaystyle 221: (-1, -1, -1, -1, -1, -1, -1, -1) < (1, 1, -1, 1, 1, 1, -1, 1)\\iff0 < +h_{1} +h_{2} +h_{4} +h_{5} +h_{6} +h_{8} -J_{1,3} -J_{1,7} -J_{2,3} -J_{2,7} -J_{3,4} -J_{3,5} -J_{3,6} -J_{3,8} -J_{4,7} -J_{5,7} -J_{6,7} -J_{7,8}$"
      ],
      "text/plain": [
       "<IPython.core.display.Math object>"
      ]
     },
     "metadata": {},
     "output_type": "display_data"
    },
    {
     "data": {
      "text/latex": [
       "$\\displaystyle 221: (1, 1, -1, 1, 1, 1, -1, 1) < (-1, -1, -1, -1, -1, -1, -1, -1)\\iff0 < -h_{1} -h_{2} -h_{4} -h_{5} -h_{6} -h_{8} +J_{1,3} +J_{1,7} +J_{2,3} +J_{2,7} +J_{3,4} +J_{3,5} +J_{3,6} +J_{3,8} +J_{4,7} +J_{5,7} +J_{6,7} +J_{7,8}$"
      ],
      "text/plain": [
       "<IPython.core.display.Math object>"
      ]
     },
     "metadata": {},
     "output_type": "display_data"
    },
    {
     "data": {
      "text/latex": [
       "$\\displaystyle 222: (-1, -1, -1, -1, -1, -1, -1, -1) < (1, 1, -1, 1, 1, 1, 1, -1)\\iff0 < +h_{1} +h_{2} +h_{4} +h_{5} +h_{6} +h_{7} -J_{1,3} -J_{1,8} -J_{2,3} -J_{2,8} -J_{3,4} -J_{3,5} -J_{3,6} -J_{3,7} -J_{4,8} -J_{5,8} -J_{6,8} -J_{7,8}$"
      ],
      "text/plain": [
       "<IPython.core.display.Math object>"
      ]
     },
     "metadata": {},
     "output_type": "display_data"
    },
    {
     "data": {
      "text/latex": [
       "$\\displaystyle 222: (1, 1, -1, 1, 1, 1, 1, -1) < (-1, -1, -1, -1, -1, -1, -1, -1)\\iff0 < -h_{1} -h_{2} -h_{4} -h_{5} -h_{6} -h_{7} +J_{1,3} +J_{1,8} +J_{2,3} +J_{2,8} +J_{3,4} +J_{3,5} +J_{3,6} +J_{3,7} +J_{4,8} +J_{5,8} +J_{6,8} +J_{7,8}$"
      ],
      "text/plain": [
       "<IPython.core.display.Math object>"
      ]
     },
     "metadata": {},
     "output_type": "display_data"
    },
    {
     "data": {
      "text/latex": [
       "$\\displaystyle 223: (-1, -1, -1, -1, -1, -1, -1, -1) < (1, 1, -1, 1, 1, 1, 1, 1)\\iff0 < +h_{1} +h_{2} +h_{4} +h_{5} +h_{6} +h_{7} +h_{8} -J_{1,3} -J_{2,3} -J_{3,4} -J_{3,5} -J_{3,6} -J_{3,7} -J_{3,8}$"
      ],
      "text/plain": [
       "<IPython.core.display.Math object>"
      ]
     },
     "metadata": {},
     "output_type": "display_data"
    },
    {
     "data": {
      "text/latex": [
       "$\\displaystyle 223: (1, 1, -1, 1, 1, 1, 1, 1) < (-1, -1, -1, -1, -1, -1, -1, -1)\\iff0 < -h_{1} -h_{2} -h_{4} -h_{5} -h_{6} -h_{7} -h_{8} +J_{1,3} +J_{2,3} +J_{3,4} +J_{3,5} +J_{3,6} +J_{3,7} +J_{3,8}$"
      ],
      "text/plain": [
       "<IPython.core.display.Math object>"
      ]
     },
     "metadata": {},
     "output_type": "display_data"
    },
    {
     "data": {
      "text/latex": [
       "$\\displaystyle 224: (-1, -1, -1, -1, -1, -1, -1, -1) < (1, 1, 1, -1, -1, -1, -1, -1)\\iff0 < +h_{1} +h_{2} +h_{3} -J_{1,4} -J_{1,5} -J_{1,6} -J_{1,7} -J_{1,8} -J_{2,4} -J_{2,5} -J_{2,6} -J_{2,7} -J_{2,8} -J_{3,4} -J_{3,5} -J_{3,6} -J_{3,7} -J_{3,8}$"
      ],
      "text/plain": [
       "<IPython.core.display.Math object>"
      ]
     },
     "metadata": {},
     "output_type": "display_data"
    },
    {
     "data": {
      "text/latex": [
       "$\\displaystyle 224: (1, 1, 1, -1, -1, -1, -1, -1) < (-1, -1, -1, -1, -1, -1, -1, -1)\\iff0 < -h_{1} -h_{2} -h_{3} +J_{1,4} +J_{1,5} +J_{1,6} +J_{1,7} +J_{1,8} +J_{2,4} +J_{2,5} +J_{2,6} +J_{2,7} +J_{2,8} +J_{3,4} +J_{3,5} +J_{3,6} +J_{3,7} +J_{3,8}$"
      ],
      "text/plain": [
       "<IPython.core.display.Math object>"
      ]
     },
     "metadata": {},
     "output_type": "display_data"
    },
    {
     "data": {
      "text/latex": [
       "$\\displaystyle 225: (-1, -1, -1, -1, -1, -1, -1, -1) < (1, 1, 1, -1, -1, -1, -1, 1)\\iff0 < +h_{1} +h_{2} +h_{3} +h_{8} -J_{1,4} -J_{1,5} -J_{1,6} -J_{1,7} -J_{2,4} -J_{2,5} -J_{2,6} -J_{2,7} -J_{3,4} -J_{3,5} -J_{3,6} -J_{3,7} -J_{4,8} -J_{5,8} -J_{6,8} -J_{7,8}$"
      ],
      "text/plain": [
       "<IPython.core.display.Math object>"
      ]
     },
     "metadata": {},
     "output_type": "display_data"
    },
    {
     "data": {
      "text/latex": [
       "$\\displaystyle 225: (1, 1, 1, -1, -1, -1, -1, 1) < (-1, -1, -1, -1, -1, -1, -1, -1)\\iff0 < -h_{1} -h_{2} -h_{3} -h_{8} +J_{1,4} +J_{1,5} +J_{1,6} +J_{1,7} +J_{2,4} +J_{2,5} +J_{2,6} +J_{2,7} +J_{3,4} +J_{3,5} +J_{3,6} +J_{3,7} +J_{4,8} +J_{5,8} +J_{6,8} +J_{7,8}$"
      ],
      "text/plain": [
       "<IPython.core.display.Math object>"
      ]
     },
     "metadata": {},
     "output_type": "display_data"
    },
    {
     "data": {
      "text/latex": [
       "$\\displaystyle 226: (-1, -1, -1, -1, -1, -1, -1, -1) < (1, 1, 1, -1, -1, -1, 1, -1)\\iff0 < +h_{1} +h_{2} +h_{3} +h_{7} -J_{1,4} -J_{1,5} -J_{1,6} -J_{1,8} -J_{2,4} -J_{2,5} -J_{2,6} -J_{2,8} -J_{3,4} -J_{3,5} -J_{3,6} -J_{3,8} -J_{4,7} -J_{5,7} -J_{6,7} -J_{7,8}$"
      ],
      "text/plain": [
       "<IPython.core.display.Math object>"
      ]
     },
     "metadata": {},
     "output_type": "display_data"
    },
    {
     "data": {
      "text/latex": [
       "$\\displaystyle 226: (1, 1, 1, -1, -1, -1, 1, -1) < (-1, -1, -1, -1, -1, -1, -1, -1)\\iff0 < -h_{1} -h_{2} -h_{3} -h_{7} +J_{1,4} +J_{1,5} +J_{1,6} +J_{1,8} +J_{2,4} +J_{2,5} +J_{2,6} +J_{2,8} +J_{3,4} +J_{3,5} +J_{3,6} +J_{3,8} +J_{4,7} +J_{5,7} +J_{6,7} +J_{7,8}$"
      ],
      "text/plain": [
       "<IPython.core.display.Math object>"
      ]
     },
     "metadata": {},
     "output_type": "display_data"
    },
    {
     "data": {
      "text/latex": [
       "$\\displaystyle 227: (-1, -1, -1, -1, -1, -1, -1, -1) < (1, 1, 1, -1, -1, -1, 1, 1)\\iff0 < +h_{1} +h_{2} +h_{3} +h_{7} +h_{8} -J_{1,4} -J_{1,5} -J_{1,6} -J_{2,4} -J_{2,5} -J_{2,6} -J_{3,4} -J_{3,5} -J_{3,6} -J_{4,7} -J_{4,8} -J_{5,7} -J_{5,8} -J_{6,7} -J_{6,8}$"
      ],
      "text/plain": [
       "<IPython.core.display.Math object>"
      ]
     },
     "metadata": {},
     "output_type": "display_data"
    },
    {
     "data": {
      "text/latex": [
       "$\\displaystyle 227: (1, 1, 1, -1, -1, -1, 1, 1) < (-1, -1, -1, -1, -1, -1, -1, -1)\\iff0 < -h_{1} -h_{2} -h_{3} -h_{7} -h_{8} +J_{1,4} +J_{1,5} +J_{1,6} +J_{2,4} +J_{2,5} +J_{2,6} +J_{3,4} +J_{3,5} +J_{3,6} +J_{4,7} +J_{4,8} +J_{5,7} +J_{5,8} +J_{6,7} +J_{6,8}$"
      ],
      "text/plain": [
       "<IPython.core.display.Math object>"
      ]
     },
     "metadata": {},
     "output_type": "display_data"
    },
    {
     "data": {
      "text/latex": [
       "$\\displaystyle 228: (-1, -1, -1, -1, -1, -1, -1, -1) < (1, 1, 1, -1, -1, 1, -1, -1)\\iff0 < +h_{1} +h_{2} +h_{3} +h_{6} -J_{1,4} -J_{1,5} -J_{1,7} -J_{1,8} -J_{2,4} -J_{2,5} -J_{2,7} -J_{2,8} -J_{3,4} -J_{3,5} -J_{3,7} -J_{3,8} -J_{4,6} -J_{5,6} -J_{6,7} -J_{6,8}$"
      ],
      "text/plain": [
       "<IPython.core.display.Math object>"
      ]
     },
     "metadata": {},
     "output_type": "display_data"
    },
    {
     "data": {
      "text/latex": [
       "$\\displaystyle 228: (1, 1, 1, -1, -1, 1, -1, -1) < (-1, -1, -1, -1, -1, -1, -1, -1)\\iff0 < -h_{1} -h_{2} -h_{3} -h_{6} +J_{1,4} +J_{1,5} +J_{1,7} +J_{1,8} +J_{2,4} +J_{2,5} +J_{2,7} +J_{2,8} +J_{3,4} +J_{3,5} +J_{3,7} +J_{3,8} +J_{4,6} +J_{5,6} +J_{6,7} +J_{6,8}$"
      ],
      "text/plain": [
       "<IPython.core.display.Math object>"
      ]
     },
     "metadata": {},
     "output_type": "display_data"
    },
    {
     "data": {
      "text/latex": [
       "$\\displaystyle 229: (-1, -1, -1, -1, -1, -1, -1, -1) < (1, 1, 1, -1, -1, 1, -1, 1)\\iff0 < +h_{1} +h_{2} +h_{3} +h_{6} +h_{8} -J_{1,4} -J_{1,5} -J_{1,7} -J_{2,4} -J_{2,5} -J_{2,7} -J_{3,4} -J_{3,5} -J_{3,7} -J_{4,6} -J_{4,8} -J_{5,6} -J_{5,8} -J_{6,7} -J_{7,8}$"
      ],
      "text/plain": [
       "<IPython.core.display.Math object>"
      ]
     },
     "metadata": {},
     "output_type": "display_data"
    },
    {
     "data": {
      "text/latex": [
       "$\\displaystyle 229: (1, 1, 1, -1, -1, 1, -1, 1) < (-1, -1, -1, -1, -1, -1, -1, -1)\\iff0 < -h_{1} -h_{2} -h_{3} -h_{6} -h_{8} +J_{1,4} +J_{1,5} +J_{1,7} +J_{2,4} +J_{2,5} +J_{2,7} +J_{3,4} +J_{3,5} +J_{3,7} +J_{4,6} +J_{4,8} +J_{5,6} +J_{5,8} +J_{6,7} +J_{7,8}$"
      ],
      "text/plain": [
       "<IPython.core.display.Math object>"
      ]
     },
     "metadata": {},
     "output_type": "display_data"
    },
    {
     "data": {
      "text/latex": [
       "$\\displaystyle 230: (-1, -1, -1, -1, -1, -1, -1, -1) < (1, 1, 1, -1, -1, 1, 1, -1)\\iff0 < +h_{1} +h_{2} +h_{3} +h_{6} +h_{7} -J_{1,4} -J_{1,5} -J_{1,8} -J_{2,4} -J_{2,5} -J_{2,8} -J_{3,4} -J_{3,5} -J_{3,8} -J_{4,6} -J_{4,7} -J_{5,6} -J_{5,7} -J_{6,8} -J_{7,8}$"
      ],
      "text/plain": [
       "<IPython.core.display.Math object>"
      ]
     },
     "metadata": {},
     "output_type": "display_data"
    },
    {
     "data": {
      "text/latex": [
       "$\\displaystyle 230: (1, 1, 1, -1, -1, 1, 1, -1) < (-1, -1, -1, -1, -1, -1, -1, -1)\\iff0 < -h_{1} -h_{2} -h_{3} -h_{6} -h_{7} +J_{1,4} +J_{1,5} +J_{1,8} +J_{2,4} +J_{2,5} +J_{2,8} +J_{3,4} +J_{3,5} +J_{3,8} +J_{4,6} +J_{4,7} +J_{5,6} +J_{5,7} +J_{6,8} +J_{7,8}$"
      ],
      "text/plain": [
       "<IPython.core.display.Math object>"
      ]
     },
     "metadata": {},
     "output_type": "display_data"
    },
    {
     "data": {
      "text/latex": [
       "$\\displaystyle 231: (-1, -1, -1, -1, -1, -1, -1, -1) < (1, 1, 1, -1, -1, 1, 1, 1)\\iff0 < +h_{1} +h_{2} +h_{3} +h_{6} +h_{7} +h_{8} -J_{1,4} -J_{1,5} -J_{2,4} -J_{2,5} -J_{3,4} -J_{3,5} -J_{4,6} -J_{4,7} -J_{4,8} -J_{5,6} -J_{5,7} -J_{5,8}$"
      ],
      "text/plain": [
       "<IPython.core.display.Math object>"
      ]
     },
     "metadata": {},
     "output_type": "display_data"
    },
    {
     "data": {
      "text/latex": [
       "$\\displaystyle 231: (1, 1, 1, -1, -1, 1, 1, 1) < (-1, -1, -1, -1, -1, -1, -1, -1)\\iff0 < -h_{1} -h_{2} -h_{3} -h_{6} -h_{7} -h_{8} +J_{1,4} +J_{1,5} +J_{2,4} +J_{2,5} +J_{3,4} +J_{3,5} +J_{4,6} +J_{4,7} +J_{4,8} +J_{5,6} +J_{5,7} +J_{5,8}$"
      ],
      "text/plain": [
       "<IPython.core.display.Math object>"
      ]
     },
     "metadata": {},
     "output_type": "display_data"
    },
    {
     "data": {
      "text/latex": [
       "$\\displaystyle 232: (-1, -1, -1, -1, -1, -1, -1, -1) < (1, 1, 1, -1, 1, -1, -1, -1)\\iff0 < +h_{1} +h_{2} +h_{3} +h_{5} -J_{1,4} -J_{1,6} -J_{1,7} -J_{1,8} -J_{2,4} -J_{2,6} -J_{2,7} -J_{2,8} -J_{3,4} -J_{3,6} -J_{3,7} -J_{3,8} -J_{4,5} -J_{5,6} -J_{5,7} -J_{5,8}$"
      ],
      "text/plain": [
       "<IPython.core.display.Math object>"
      ]
     },
     "metadata": {},
     "output_type": "display_data"
    },
    {
     "data": {
      "text/latex": [
       "$\\displaystyle 232: (1, 1, 1, -1, 1, -1, -1, -1) < (-1, -1, -1, -1, -1, -1, -1, -1)\\iff0 < -h_{1} -h_{2} -h_{3} -h_{5} +J_{1,4} +J_{1,6} +J_{1,7} +J_{1,8} +J_{2,4} +J_{2,6} +J_{2,7} +J_{2,8} +J_{3,4} +J_{3,6} +J_{3,7} +J_{3,8} +J_{4,5} +J_{5,6} +J_{5,7} +J_{5,8}$"
      ],
      "text/plain": [
       "<IPython.core.display.Math object>"
      ]
     },
     "metadata": {},
     "output_type": "display_data"
    },
    {
     "data": {
      "text/latex": [
       "$\\displaystyle 233: (-1, -1, -1, -1, -1, -1, -1, -1) < (1, 1, 1, -1, 1, -1, -1, 1)\\iff0 < +h_{1} +h_{2} +h_{3} +h_{5} +h_{8} -J_{1,4} -J_{1,6} -J_{1,7} -J_{2,4} -J_{2,6} -J_{2,7} -J_{3,4} -J_{3,6} -J_{3,7} -J_{4,5} -J_{4,8} -J_{5,6} -J_{5,7} -J_{6,8} -J_{7,8}$"
      ],
      "text/plain": [
       "<IPython.core.display.Math object>"
      ]
     },
     "metadata": {},
     "output_type": "display_data"
    },
    {
     "data": {
      "text/latex": [
       "$\\displaystyle 233: (1, 1, 1, -1, 1, -1, -1, 1) < (-1, -1, -1, -1, -1, -1, -1, -1)\\iff0 < -h_{1} -h_{2} -h_{3} -h_{5} -h_{8} +J_{1,4} +J_{1,6} +J_{1,7} +J_{2,4} +J_{2,6} +J_{2,7} +J_{3,4} +J_{3,6} +J_{3,7} +J_{4,5} +J_{4,8} +J_{5,6} +J_{5,7} +J_{6,8} +J_{7,8}$"
      ],
      "text/plain": [
       "<IPython.core.display.Math object>"
      ]
     },
     "metadata": {},
     "output_type": "display_data"
    },
    {
     "data": {
      "text/latex": [
       "$\\displaystyle 234: (-1, -1, -1, -1, -1, -1, -1, -1) < (1, 1, 1, -1, 1, -1, 1, -1)\\iff0 < +h_{1} +h_{2} +h_{3} +h_{5} +h_{7} -J_{1,4} -J_{1,6} -J_{1,8} -J_{2,4} -J_{2,6} -J_{2,8} -J_{3,4} -J_{3,6} -J_{3,8} -J_{4,5} -J_{4,7} -J_{5,6} -J_{5,8} -J_{6,7} -J_{7,8}$"
      ],
      "text/plain": [
       "<IPython.core.display.Math object>"
      ]
     },
     "metadata": {},
     "output_type": "display_data"
    },
    {
     "data": {
      "text/latex": [
       "$\\displaystyle 234: (1, 1, 1, -1, 1, -1, 1, -1) < (-1, -1, -1, -1, -1, -1, -1, -1)\\iff0 < -h_{1} -h_{2} -h_{3} -h_{5} -h_{7} +J_{1,4} +J_{1,6} +J_{1,8} +J_{2,4} +J_{2,6} +J_{2,8} +J_{3,4} +J_{3,6} +J_{3,8} +J_{4,5} +J_{4,7} +J_{5,6} +J_{5,8} +J_{6,7} +J_{7,8}$"
      ],
      "text/plain": [
       "<IPython.core.display.Math object>"
      ]
     },
     "metadata": {},
     "output_type": "display_data"
    },
    {
     "data": {
      "text/latex": [
       "$\\displaystyle 235: (-1, -1, -1, -1, -1, -1, -1, -1) < (1, 1, 1, -1, 1, -1, 1, 1)\\iff0 < +h_{1} +h_{2} +h_{3} +h_{5} +h_{7} +h_{8} -J_{1,4} -J_{1,6} -J_{2,4} -J_{2,6} -J_{3,4} -J_{3,6} -J_{4,5} -J_{4,7} -J_{4,8} -J_{5,6} -J_{6,7} -J_{6,8}$"
      ],
      "text/plain": [
       "<IPython.core.display.Math object>"
      ]
     },
     "metadata": {},
     "output_type": "display_data"
    },
    {
     "data": {
      "text/latex": [
       "$\\displaystyle 235: (1, 1, 1, -1, 1, -1, 1, 1) < (-1, -1, -1, -1, -1, -1, -1, -1)\\iff0 < -h_{1} -h_{2} -h_{3} -h_{5} -h_{7} -h_{8} +J_{1,4} +J_{1,6} +J_{2,4} +J_{2,6} +J_{3,4} +J_{3,6} +J_{4,5} +J_{4,7} +J_{4,8} +J_{5,6} +J_{6,7} +J_{6,8}$"
      ],
      "text/plain": [
       "<IPython.core.display.Math object>"
      ]
     },
     "metadata": {},
     "output_type": "display_data"
    },
    {
     "data": {
      "text/latex": [
       "$\\displaystyle 236: (-1, -1, -1, -1, -1, -1, -1, -1) < (1, 1, 1, -1, 1, 1, -1, -1)\\iff0 < +h_{1} +h_{2} +h_{3} +h_{5} +h_{6} -J_{1,4} -J_{1,7} -J_{1,8} -J_{2,4} -J_{2,7} -J_{2,8} -J_{3,4} -J_{3,7} -J_{3,8} -J_{4,5} -J_{4,6} -J_{5,7} -J_{5,8} -J_{6,7} -J_{6,8}$"
      ],
      "text/plain": [
       "<IPython.core.display.Math object>"
      ]
     },
     "metadata": {},
     "output_type": "display_data"
    },
    {
     "data": {
      "text/latex": [
       "$\\displaystyle 236: (1, 1, 1, -1, 1, 1, -1, -1) < (-1, -1, -1, -1, -1, -1, -1, -1)\\iff0 < -h_{1} -h_{2} -h_{3} -h_{5} -h_{6} +J_{1,4} +J_{1,7} +J_{1,8} +J_{2,4} +J_{2,7} +J_{2,8} +J_{3,4} +J_{3,7} +J_{3,8} +J_{4,5} +J_{4,6} +J_{5,7} +J_{5,8} +J_{6,7} +J_{6,8}$"
      ],
      "text/plain": [
       "<IPython.core.display.Math object>"
      ]
     },
     "metadata": {},
     "output_type": "display_data"
    },
    {
     "data": {
      "text/latex": [
       "$\\displaystyle 237: (-1, -1, -1, -1, -1, -1, -1, -1) < (1, 1, 1, -1, 1, 1, -1, 1)\\iff0 < +h_{1} +h_{2} +h_{3} +h_{5} +h_{6} +h_{8} -J_{1,4} -J_{1,7} -J_{2,4} -J_{2,7} -J_{3,4} -J_{3,7} -J_{4,5} -J_{4,6} -J_{4,8} -J_{5,7} -J_{6,7} -J_{7,8}$"
      ],
      "text/plain": [
       "<IPython.core.display.Math object>"
      ]
     },
     "metadata": {},
     "output_type": "display_data"
    },
    {
     "data": {
      "text/latex": [
       "$\\displaystyle 237: (1, 1, 1, -1, 1, 1, -1, 1) < (-1, -1, -1, -1, -1, -1, -1, -1)\\iff0 < -h_{1} -h_{2} -h_{3} -h_{5} -h_{6} -h_{8} +J_{1,4} +J_{1,7} +J_{2,4} +J_{2,7} +J_{3,4} +J_{3,7} +J_{4,5} +J_{4,6} +J_{4,8} +J_{5,7} +J_{6,7} +J_{7,8}$"
      ],
      "text/plain": [
       "<IPython.core.display.Math object>"
      ]
     },
     "metadata": {},
     "output_type": "display_data"
    },
    {
     "data": {
      "text/latex": [
       "$\\displaystyle 238: (-1, -1, -1, -1, -1, -1, -1, -1) < (1, 1, 1, -1, 1, 1, 1, -1)\\iff0 < +h_{1} +h_{2} +h_{3} +h_{5} +h_{6} +h_{7} -J_{1,4} -J_{1,8} -J_{2,4} -J_{2,8} -J_{3,4} -J_{3,8} -J_{4,5} -J_{4,6} -J_{4,7} -J_{5,8} -J_{6,8} -J_{7,8}$"
      ],
      "text/plain": [
       "<IPython.core.display.Math object>"
      ]
     },
     "metadata": {},
     "output_type": "display_data"
    },
    {
     "data": {
      "text/latex": [
       "$\\displaystyle 238: (1, 1, 1, -1, 1, 1, 1, -1) < (-1, -1, -1, -1, -1, -1, -1, -1)\\iff0 < -h_{1} -h_{2} -h_{3} -h_{5} -h_{6} -h_{7} +J_{1,4} +J_{1,8} +J_{2,4} +J_{2,8} +J_{3,4} +J_{3,8} +J_{4,5} +J_{4,6} +J_{4,7} +J_{5,8} +J_{6,8} +J_{7,8}$"
      ],
      "text/plain": [
       "<IPython.core.display.Math object>"
      ]
     },
     "metadata": {},
     "output_type": "display_data"
    },
    {
     "data": {
      "text/latex": [
       "$\\displaystyle 239: (-1, -1, -1, -1, -1, -1, -1, -1) < (1, 1, 1, -1, 1, 1, 1, 1)\\iff0 < +h_{1} +h_{2} +h_{3} +h_{5} +h_{6} +h_{7} +h_{8} -J_{1,4} -J_{2,4} -J_{3,4} -J_{4,5} -J_{4,6} -J_{4,7} -J_{4,8}$"
      ],
      "text/plain": [
       "<IPython.core.display.Math object>"
      ]
     },
     "metadata": {},
     "output_type": "display_data"
    },
    {
     "data": {
      "text/latex": [
       "$\\displaystyle 239: (1, 1, 1, -1, 1, 1, 1, 1) < (-1, -1, -1, -1, -1, -1, -1, -1)\\iff0 < -h_{1} -h_{2} -h_{3} -h_{5} -h_{6} -h_{7} -h_{8} +J_{1,4} +J_{2,4} +J_{3,4} +J_{4,5} +J_{4,6} +J_{4,7} +J_{4,8}$"
      ],
      "text/plain": [
       "<IPython.core.display.Math object>"
      ]
     },
     "metadata": {},
     "output_type": "display_data"
    },
    {
     "data": {
      "text/latex": [
       "$\\displaystyle 240: (-1, -1, -1, -1, -1, -1, -1, -1) < (1, 1, 1, 1, -1, -1, -1, -1)\\iff0 < +h_{1} +h_{2} +h_{3} +h_{4} -J_{1,5} -J_{1,6} -J_{1,7} -J_{1,8} -J_{2,5} -J_{2,6} -J_{2,7} -J_{2,8} -J_{3,5} -J_{3,6} -J_{3,7} -J_{3,8} -J_{4,5} -J_{4,6} -J_{4,7} -J_{4,8}$"
      ],
      "text/plain": [
       "<IPython.core.display.Math object>"
      ]
     },
     "metadata": {},
     "output_type": "display_data"
    },
    {
     "data": {
      "text/latex": [
       "$\\displaystyle 240: (1, 1, 1, 1, -1, -1, -1, -1) < (-1, -1, -1, -1, -1, -1, -1, -1)\\iff0 < -h_{1} -h_{2} -h_{3} -h_{4} +J_{1,5} +J_{1,6} +J_{1,7} +J_{1,8} +J_{2,5} +J_{2,6} +J_{2,7} +J_{2,8} +J_{3,5} +J_{3,6} +J_{3,7} +J_{3,8} +J_{4,5} +J_{4,6} +J_{4,7} +J_{4,8}$"
      ],
      "text/plain": [
       "<IPython.core.display.Math object>"
      ]
     },
     "metadata": {},
     "output_type": "display_data"
    },
    {
     "data": {
      "text/latex": [
       "$\\displaystyle 241: (-1, -1, -1, -1, -1, -1, -1, -1) < (1, 1, 1, 1, -1, -1, -1, 1)\\iff0 < +h_{1} +h_{2} +h_{3} +h_{4} +h_{8} -J_{1,5} -J_{1,6} -J_{1,7} -J_{2,5} -J_{2,6} -J_{2,7} -J_{3,5} -J_{3,6} -J_{3,7} -J_{4,5} -J_{4,6} -J_{4,7} -J_{5,8} -J_{6,8} -J_{7,8}$"
      ],
      "text/plain": [
       "<IPython.core.display.Math object>"
      ]
     },
     "metadata": {},
     "output_type": "display_data"
    },
    {
     "data": {
      "text/latex": [
       "$\\displaystyle 241: (1, 1, 1, 1, -1, -1, -1, 1) < (-1, -1, -1, -1, -1, -1, -1, -1)\\iff0 < -h_{1} -h_{2} -h_{3} -h_{4} -h_{8} +J_{1,5} +J_{1,6} +J_{1,7} +J_{2,5} +J_{2,6} +J_{2,7} +J_{3,5} +J_{3,6} +J_{3,7} +J_{4,5} +J_{4,6} +J_{4,7} +J_{5,8} +J_{6,8} +J_{7,8}$"
      ],
      "text/plain": [
       "<IPython.core.display.Math object>"
      ]
     },
     "metadata": {},
     "output_type": "display_data"
    },
    {
     "data": {
      "text/latex": [
       "$\\displaystyle 242: (-1, -1, -1, -1, -1, -1, -1, -1) < (1, 1, 1, 1, -1, -1, 1, -1)\\iff0 < +h_{1} +h_{2} +h_{3} +h_{4} +h_{7} -J_{1,5} -J_{1,6} -J_{1,8} -J_{2,5} -J_{2,6} -J_{2,8} -J_{3,5} -J_{3,6} -J_{3,8} -J_{4,5} -J_{4,6} -J_{4,8} -J_{5,7} -J_{6,7} -J_{7,8}$"
      ],
      "text/plain": [
       "<IPython.core.display.Math object>"
      ]
     },
     "metadata": {},
     "output_type": "display_data"
    },
    {
     "data": {
      "text/latex": [
       "$\\displaystyle 242: (1, 1, 1, 1, -1, -1, 1, -1) < (-1, -1, -1, -1, -1, -1, -1, -1)\\iff0 < -h_{1} -h_{2} -h_{3} -h_{4} -h_{7} +J_{1,5} +J_{1,6} +J_{1,8} +J_{2,5} +J_{2,6} +J_{2,8} +J_{3,5} +J_{3,6} +J_{3,8} +J_{4,5} +J_{4,6} +J_{4,8} +J_{5,7} +J_{6,7} +J_{7,8}$"
      ],
      "text/plain": [
       "<IPython.core.display.Math object>"
      ]
     },
     "metadata": {},
     "output_type": "display_data"
    },
    {
     "data": {
      "text/latex": [
       "$\\displaystyle 243: (-1, -1, -1, -1, -1, -1, -1, -1) < (1, 1, 1, 1, -1, -1, 1, 1)\\iff0 < +h_{1} +h_{2} +h_{3} +h_{4} +h_{7} +h_{8} -J_{1,5} -J_{1,6} -J_{2,5} -J_{2,6} -J_{3,5} -J_{3,6} -J_{4,5} -J_{4,6} -J_{5,7} -J_{5,8} -J_{6,7} -J_{6,8}$"
      ],
      "text/plain": [
       "<IPython.core.display.Math object>"
      ]
     },
     "metadata": {},
     "output_type": "display_data"
    },
    {
     "data": {
      "text/latex": [
       "$\\displaystyle 243: (1, 1, 1, 1, -1, -1, 1, 1) < (-1, -1, -1, -1, -1, -1, -1, -1)\\iff0 < -h_{1} -h_{2} -h_{3} -h_{4} -h_{7} -h_{8} +J_{1,5} +J_{1,6} +J_{2,5} +J_{2,6} +J_{3,5} +J_{3,6} +J_{4,5} +J_{4,6} +J_{5,7} +J_{5,8} +J_{6,7} +J_{6,8}$"
      ],
      "text/plain": [
       "<IPython.core.display.Math object>"
      ]
     },
     "metadata": {},
     "output_type": "display_data"
    },
    {
     "data": {
      "text/latex": [
       "$\\displaystyle 244: (-1, -1, -1, -1, -1, -1, -1, -1) < (1, 1, 1, 1, -1, 1, -1, -1)\\iff0 < +h_{1} +h_{2} +h_{3} +h_{4} +h_{6} -J_{1,5} -J_{1,7} -J_{1,8} -J_{2,5} -J_{2,7} -J_{2,8} -J_{3,5} -J_{3,7} -J_{3,8} -J_{4,5} -J_{4,7} -J_{4,8} -J_{5,6} -J_{6,7} -J_{6,8}$"
      ],
      "text/plain": [
       "<IPython.core.display.Math object>"
      ]
     },
     "metadata": {},
     "output_type": "display_data"
    },
    {
     "data": {
      "text/latex": [
       "$\\displaystyle 244: (1, 1, 1, 1, -1, 1, -1, -1) < (-1, -1, -1, -1, -1, -1, -1, -1)\\iff0 < -h_{1} -h_{2} -h_{3} -h_{4} -h_{6} +J_{1,5} +J_{1,7} +J_{1,8} +J_{2,5} +J_{2,7} +J_{2,8} +J_{3,5} +J_{3,7} +J_{3,8} +J_{4,5} +J_{4,7} +J_{4,8} +J_{5,6} +J_{6,7} +J_{6,8}$"
      ],
      "text/plain": [
       "<IPython.core.display.Math object>"
      ]
     },
     "metadata": {},
     "output_type": "display_data"
    },
    {
     "data": {
      "text/latex": [
       "$\\displaystyle 245: (-1, -1, -1, -1, -1, -1, -1, -1) < (1, 1, 1, 1, -1, 1, -1, 1)\\iff0 < +h_{1} +h_{2} +h_{3} +h_{4} +h_{6} +h_{8} -J_{1,5} -J_{1,7} -J_{2,5} -J_{2,7} -J_{3,5} -J_{3,7} -J_{4,5} -J_{4,7} -J_{5,6} -J_{5,8} -J_{6,7} -J_{7,8}$"
      ],
      "text/plain": [
       "<IPython.core.display.Math object>"
      ]
     },
     "metadata": {},
     "output_type": "display_data"
    },
    {
     "data": {
      "text/latex": [
       "$\\displaystyle 245: (1, 1, 1, 1, -1, 1, -1, 1) < (-1, -1, -1, -1, -1, -1, -1, -1)\\iff0 < -h_{1} -h_{2} -h_{3} -h_{4} -h_{6} -h_{8} +J_{1,5} +J_{1,7} +J_{2,5} +J_{2,7} +J_{3,5} +J_{3,7} +J_{4,5} +J_{4,7} +J_{5,6} +J_{5,8} +J_{6,7} +J_{7,8}$"
      ],
      "text/plain": [
       "<IPython.core.display.Math object>"
      ]
     },
     "metadata": {},
     "output_type": "display_data"
    },
    {
     "data": {
      "text/latex": [
       "$\\displaystyle 246: (-1, -1, -1, -1, -1, -1, -1, -1) < (1, 1, 1, 1, -1, 1, 1, -1)\\iff0 < +h_{1} +h_{2} +h_{3} +h_{4} +h_{6} +h_{7} -J_{1,5} -J_{1,8} -J_{2,5} -J_{2,8} -J_{3,5} -J_{3,8} -J_{4,5} -J_{4,8} -J_{5,6} -J_{5,7} -J_{6,8} -J_{7,8}$"
      ],
      "text/plain": [
       "<IPython.core.display.Math object>"
      ]
     },
     "metadata": {},
     "output_type": "display_data"
    },
    {
     "data": {
      "text/latex": [
       "$\\displaystyle 246: (1, 1, 1, 1, -1, 1, 1, -1) < (-1, -1, -1, -1, -1, -1, -1, -1)\\iff0 < -h_{1} -h_{2} -h_{3} -h_{4} -h_{6} -h_{7} +J_{1,5} +J_{1,8} +J_{2,5} +J_{2,8} +J_{3,5} +J_{3,8} +J_{4,5} +J_{4,8} +J_{5,6} +J_{5,7} +J_{6,8} +J_{7,8}$"
      ],
      "text/plain": [
       "<IPython.core.display.Math object>"
      ]
     },
     "metadata": {},
     "output_type": "display_data"
    },
    {
     "data": {
      "text/latex": [
       "$\\displaystyle 247: (-1, -1, -1, -1, -1, -1, -1, -1) < (1, 1, 1, 1, -1, 1, 1, 1)\\iff0 < +h_{1} +h_{2} +h_{3} +h_{4} +h_{6} +h_{7} +h_{8} -J_{1,5} -J_{2,5} -J_{3,5} -J_{4,5} -J_{5,6} -J_{5,7} -J_{5,8}$"
      ],
      "text/plain": [
       "<IPython.core.display.Math object>"
      ]
     },
     "metadata": {},
     "output_type": "display_data"
    },
    {
     "data": {
      "text/latex": [
       "$\\displaystyle 247: (1, 1, 1, 1, -1, 1, 1, 1) < (-1, -1, -1, -1, -1, -1, -1, -1)\\iff0 < -h_{1} -h_{2} -h_{3} -h_{4} -h_{6} -h_{7} -h_{8} +J_{1,5} +J_{2,5} +J_{3,5} +J_{4,5} +J_{5,6} +J_{5,7} +J_{5,8}$"
      ],
      "text/plain": [
       "<IPython.core.display.Math object>"
      ]
     },
     "metadata": {},
     "output_type": "display_data"
    },
    {
     "data": {
      "text/latex": [
       "$\\displaystyle 248: (-1, -1, -1, -1, -1, -1, -1, -1) < (1, 1, 1, 1, 1, -1, -1, -1)\\iff0 < +h_{1} +h_{2} +h_{3} +h_{4} +h_{5} -J_{1,6} -J_{1,7} -J_{1,8} -J_{2,6} -J_{2,7} -J_{2,8} -J_{3,6} -J_{3,7} -J_{3,8} -J_{4,6} -J_{4,7} -J_{4,8} -J_{5,6} -J_{5,7} -J_{5,8}$"
      ],
      "text/plain": [
       "<IPython.core.display.Math object>"
      ]
     },
     "metadata": {},
     "output_type": "display_data"
    },
    {
     "data": {
      "text/latex": [
       "$\\displaystyle 248: (1, 1, 1, 1, 1, -1, -1, -1) < (-1, -1, -1, -1, -1, -1, -1, -1)\\iff0 < -h_{1} -h_{2} -h_{3} -h_{4} -h_{5} +J_{1,6} +J_{1,7} +J_{1,8} +J_{2,6} +J_{2,7} +J_{2,8} +J_{3,6} +J_{3,7} +J_{3,8} +J_{4,6} +J_{4,7} +J_{4,8} +J_{5,6} +J_{5,7} +J_{5,8}$"
      ],
      "text/plain": [
       "<IPython.core.display.Math object>"
      ]
     },
     "metadata": {},
     "output_type": "display_data"
    },
    {
     "data": {
      "text/latex": [
       "$\\displaystyle 249: (-1, -1, -1, -1, -1, -1, -1, -1) < (1, 1, 1, 1, 1, -1, -1, 1)\\iff0 < +h_{1} +h_{2} +h_{3} +h_{4} +h_{5} +h_{8} -J_{1,6} -J_{1,7} -J_{2,6} -J_{2,7} -J_{3,6} -J_{3,7} -J_{4,6} -J_{4,7} -J_{5,6} -J_{5,7} -J_{6,8} -J_{7,8}$"
      ],
      "text/plain": [
       "<IPython.core.display.Math object>"
      ]
     },
     "metadata": {},
     "output_type": "display_data"
    },
    {
     "data": {
      "text/latex": [
       "$\\displaystyle 249: (1, 1, 1, 1, 1, -1, -1, 1) < (-1, -1, -1, -1, -1, -1, -1, -1)\\iff0 < -h_{1} -h_{2} -h_{3} -h_{4} -h_{5} -h_{8} +J_{1,6} +J_{1,7} +J_{2,6} +J_{2,7} +J_{3,6} +J_{3,7} +J_{4,6} +J_{4,7} +J_{5,6} +J_{5,7} +J_{6,8} +J_{7,8}$"
      ],
      "text/plain": [
       "<IPython.core.display.Math object>"
      ]
     },
     "metadata": {},
     "output_type": "display_data"
    },
    {
     "data": {
      "text/latex": [
       "$\\displaystyle 250: (-1, -1, -1, -1, -1, -1, -1, -1) < (1, 1, 1, 1, 1, -1, 1, -1)\\iff0 < +h_{1} +h_{2} +h_{3} +h_{4} +h_{5} +h_{7} -J_{1,6} -J_{1,8} -J_{2,6} -J_{2,8} -J_{3,6} -J_{3,8} -J_{4,6} -J_{4,8} -J_{5,6} -J_{5,8} -J_{6,7} -J_{7,8}$"
      ],
      "text/plain": [
       "<IPython.core.display.Math object>"
      ]
     },
     "metadata": {},
     "output_type": "display_data"
    },
    {
     "data": {
      "text/latex": [
       "$\\displaystyle 250: (1, 1, 1, 1, 1, -1, 1, -1) < (-1, -1, -1, -1, -1, -1, -1, -1)\\iff0 < -h_{1} -h_{2} -h_{3} -h_{4} -h_{5} -h_{7} +J_{1,6} +J_{1,8} +J_{2,6} +J_{2,8} +J_{3,6} +J_{3,8} +J_{4,6} +J_{4,8} +J_{5,6} +J_{5,8} +J_{6,7} +J_{7,8}$"
      ],
      "text/plain": [
       "<IPython.core.display.Math object>"
      ]
     },
     "metadata": {},
     "output_type": "display_data"
    },
    {
     "data": {
      "text/latex": [
       "$\\displaystyle 251: (-1, -1, -1, -1, -1, -1, -1, -1) < (1, 1, 1, 1, 1, -1, 1, 1)\\iff0 < +h_{1} +h_{2} +h_{3} +h_{4} +h_{5} +h_{7} +h_{8} -J_{1,6} -J_{2,6} -J_{3,6} -J_{4,6} -J_{5,6} -J_{6,7} -J_{6,8}$"
      ],
      "text/plain": [
       "<IPython.core.display.Math object>"
      ]
     },
     "metadata": {},
     "output_type": "display_data"
    },
    {
     "data": {
      "text/latex": [
       "$\\displaystyle 251: (1, 1, 1, 1, 1, -1, 1, 1) < (-1, -1, -1, -1, -1, -1, -1, -1)\\iff0 < -h_{1} -h_{2} -h_{3} -h_{4} -h_{5} -h_{7} -h_{8} +J_{1,6} +J_{2,6} +J_{3,6} +J_{4,6} +J_{5,6} +J_{6,7} +J_{6,8}$"
      ],
      "text/plain": [
       "<IPython.core.display.Math object>"
      ]
     },
     "metadata": {},
     "output_type": "display_data"
    },
    {
     "data": {
      "text/latex": [
       "$\\displaystyle 252: (-1, -1, -1, -1, -1, -1, -1, -1) < (1, 1, 1, 1, 1, 1, -1, -1)\\iff0 < +h_{1} +h_{2} +h_{3} +h_{4} +h_{5} +h_{6} -J_{1,7} -J_{1,8} -J_{2,7} -J_{2,8} -J_{3,7} -J_{3,8} -J_{4,7} -J_{4,8} -J_{5,7} -J_{5,8} -J_{6,7} -J_{6,8}$"
      ],
      "text/plain": [
       "<IPython.core.display.Math object>"
      ]
     },
     "metadata": {},
     "output_type": "display_data"
    },
    {
     "data": {
      "text/latex": [
       "$\\displaystyle 252: (1, 1, 1, 1, 1, 1, -1, -1) < (-1, -1, -1, -1, -1, -1, -1, -1)\\iff0 < -h_{1} -h_{2} -h_{3} -h_{4} -h_{5} -h_{6} +J_{1,7} +J_{1,8} +J_{2,7} +J_{2,8} +J_{3,7} +J_{3,8} +J_{4,7} +J_{4,8} +J_{5,7} +J_{5,8} +J_{6,7} +J_{6,8}$"
      ],
      "text/plain": [
       "<IPython.core.display.Math object>"
      ]
     },
     "metadata": {},
     "output_type": "display_data"
    },
    {
     "data": {
      "text/latex": [
       "$\\displaystyle 253: (-1, -1, -1, -1, -1, -1, -1, -1) < (1, 1, 1, 1, 1, 1, -1, 1)\\iff0 < +h_{1} +h_{2} +h_{3} +h_{4} +h_{5} +h_{6} +h_{8} -J_{1,7} -J_{2,7} -J_{3,7} -J_{4,7} -J_{5,7} -J_{6,7} -J_{7,8}$"
      ],
      "text/plain": [
       "<IPython.core.display.Math object>"
      ]
     },
     "metadata": {},
     "output_type": "display_data"
    },
    {
     "data": {
      "text/latex": [
       "$\\displaystyle 253: (1, 1, 1, 1, 1, 1, -1, 1) < (-1, -1, -1, -1, -1, -1, -1, -1)\\iff0 < -h_{1} -h_{2} -h_{3} -h_{4} -h_{5} -h_{6} -h_{8} +J_{1,7} +J_{2,7} +J_{3,7} +J_{4,7} +J_{5,7} +J_{6,7} +J_{7,8}$"
      ],
      "text/plain": [
       "<IPython.core.display.Math object>"
      ]
     },
     "metadata": {},
     "output_type": "display_data"
    },
    {
     "data": {
      "text/latex": [
       "$\\displaystyle 254: (-1, -1, -1, -1, -1, -1, -1, -1) < (1, 1, 1, 1, 1, 1, 1, -1)\\iff0 < +h_{1} +h_{2} +h_{3} +h_{4} +h_{5} +h_{6} +h_{7} -J_{1,8} -J_{2,8} -J_{3,8} -J_{4,8} -J_{5,8} -J_{6,8} -J_{7,8}$"
      ],
      "text/plain": [
       "<IPython.core.display.Math object>"
      ]
     },
     "metadata": {},
     "output_type": "display_data"
    },
    {
     "data": {
      "text/latex": [
       "$\\displaystyle 254: (1, 1, 1, 1, 1, 1, 1, -1) < (-1, -1, -1, -1, -1, -1, -1, -1)\\iff0 < -h_{1} -h_{2} -h_{3} -h_{4} -h_{5} -h_{6} -h_{7} +J_{1,8} +J_{2,8} +J_{3,8} +J_{4,8} +J_{5,8} +J_{6,8} +J_{7,8}$"
      ],
      "text/plain": [
       "<IPython.core.display.Math object>"
      ]
     },
     "metadata": {},
     "output_type": "display_data"
    },
    {
     "data": {
      "text/latex": [
       "$\\displaystyle 255: (-1, -1, -1, -1, -1, -1, -1, -1) < (1, 1, 1, 1, 1, 1, 1, 1)\\iff0 < +h_{1} +h_{2} +h_{3} +h_{4} +h_{5} +h_{6} +h_{7} +h_{8}$"
      ],
      "text/plain": [
       "<IPython.core.display.Math object>"
      ]
     },
     "metadata": {},
     "output_type": "display_data"
    },
    {
     "data": {
      "text/latex": [
       "$\\displaystyle 255: (1, 1, 1, 1, 1, 1, 1, 1) < (-1, -1, -1, -1, -1, -1, -1, -1)\\iff0 < -h_{1} -h_{2} -h_{3} -h_{4} -h_{5} -h_{6} -h_{7} -h_{8}$"
      ],
      "text/plain": [
       "<IPython.core.display.Math object>"
      ]
     },
     "metadata": {},
     "output_type": "display_data"
    }
   ],
   "source": [
    "n = 8\n",
    "S_n = list(itertools.product(*[(-1,1) for i in range(n)]))\n",
    "s = S_n[0]\n",
    "for i in range(len(S_n)):\n",
    "    t = S_n[i]\n",
    "    display(Math(r''+\"{}: {} < {}\".format(i,s,t) + \"\\iff\" + spin_to_param(s,t)))\n",
    "    display(Math(r''+\"{}: {} < {}\".format(i,t,s) + \"\\iff\" + spin_to_param(t,s)))"
   ]
  },
  {
   "cell_type": "markdown",
   "id": "c72680db-fcf0-414b-8825-fc5fdf43706c",
   "metadata": {
    "tags": []
   },
   "source": [
    "## Investigation into Spin Stuff"
   ]
  },
  {
   "cell_type": "code",
   "execution_count": 154,
   "id": "6b5e43c1-29f3-46a4-84b6-44a8678a09ce",
   "metadata": {},
   "outputs": [
    {
     "name": "stdout",
     "output_type": "stream",
     "text": [
      "Set of counts:  {0, -6, -4, 6}\n"
     ]
    }
   ],
   "source": [
    "n = 6\n",
    "S_n = list(itertools.product(*[(-1,1) for i in range(n)]))\n",
    "s = S_n[0]\n",
    "system = []\n",
    "counts = []\n",
    "for t in S_n:\n",
    "    exp, d = spin_to_param(s,t,extra=True)\n",
    "    system.append(\"Count: \" + str(d['sign_count']) + \".   \" + r''+\" 0 < \" + str(tuple(int((t[i] - s[i])/2) for i in range(len(s)))) + \"\\implies\" + exp)\n",
    "    counts.append(d['sign_count'])\n",
    "\n",
    "print(\"Set of counts: \", set(counts))\n",
    "for row in system:\n",
    "    #display(Math(row))\n",
    "    a = 1"
   ]
  },
  {
   "cell_type": "code",
   "execution_count": 155,
   "id": "22c9b280-af00-429f-a36f-66c6811e7db5",
   "metadata": {},
   "outputs": [
    {
     "name": "stdout",
     "output_type": "stream",
     "text": [
      "--------------------------  ---------------  --------------------\n",
      "Input                       s_is_j - t_it_j  (s_i - t_i)(s_j-t_j)\n",
      "si,sj,ti,tj = (-1,-1,-1-1)  0                0\n",
      "si,sj,ti,tj = (-1,-1,-11)   0                0\n",
      "si,sj,ti,tj = (-1,-1,1-1)   2                0\n",
      "si,sj,ti,tj = (-1,-1,11)    2                4\n",
      "si,sj,ti,tj = (-1,1,-1-1)   0                0\n",
      "si,sj,ti,tj = (-1,1,-11)    0                0\n",
      "si,sj,ti,tj = (-1,1,1-1)    -2               -4\n",
      "si,sj,ti,tj = (-1,1,11)     -2               0\n",
      "si,sj,ti,tj = (1,-1,-1-1)   -2               0\n",
      "si,sj,ti,tj = (1,-1,-11)    -2               -4\n",
      "si,sj,ti,tj = (1,-1,1-1)    0                0\n",
      "si,sj,ti,tj = (1,-1,11)     0                0\n",
      "si,sj,ti,tj = (1,1,-1-1)    2                4\n",
      "si,sj,ti,tj = (1,1,-11)     2                0\n",
      "si,sj,ti,tj = (1,1,1-1)     0                0\n",
      "si,sj,ti,tj = (1,1,11)      0                0\n",
      "--------------------------  ---------------  --------------------\n"
     ]
    }
   ],
   "source": [
    "spin = (-1,1)\n",
    "table = [[\"Input\", \"s_is_j - t_it_j\", \"(s_i - t_i)(s_j-t_j)\"]]\n",
    "for si in spin:\n",
    "    for sj in spin:\n",
    "        for ti in spin:\n",
    "            for tj in spin:\n",
    "                table.append([\"si,sj,ti,tj = ({},{},{}{})\".format(si,sj,ti,tj), str(si*sj - ti*sj), str((si - ti)*(sj-tj))])\n",
    "\n",
    "print(tabulate(table))"
   ]
  },
  {
   "cell_type": "code",
   "execution_count": 156,
   "id": "72c1e970-a63e-44d0-b1b6-75e44439eb36",
   "metadata": {},
   "outputs": [
    {
     "data": {
      "text/latex": [
       "$\\displaystyle (-1, -1, -1) < (-1, -1, 1)\\iff0 < +h_{3} -J_{1,3} -J_{2,3}$"
      ],
      "text/plain": [
       "<IPython.core.display.Math object>"
      ]
     },
     "metadata": {},
     "output_type": "display_data"
    },
    {
     "data": {
      "text/latex": [
       "$\\displaystyle (-1, 1, 1) < (-1, 1, -1)\\iff0 < -h_{3} +J_{1,3} -J_{2,3}$"
      ],
      "text/plain": [
       "<IPython.core.display.Math object>"
      ]
     },
     "metadata": {},
     "output_type": "display_data"
    },
    {
     "data": {
      "text/latex": [
       "$\\displaystyle (1, -1, 1) < (1, -1, -1)\\iff0 < -h_{3} -J_{1,3} +J_{2,3}$"
      ],
      "text/plain": [
       "<IPython.core.display.Math object>"
      ]
     },
     "metadata": {},
     "output_type": "display_data"
    },
    {
     "data": {
      "text/latex": [
       "$\\displaystyle (1, 1, -1) < (1, 1, 1)\\iff0 < +h_{3} +J_{1,3} +J_{2,3}$"
      ],
      "text/plain": [
       "<IPython.core.display.Math object>"
      ]
     },
     "metadata": {},
     "output_type": "display_data"
    }
   ],
   "source": [
    "# XOR table\n",
    "xor = [[(-1,-1,-1),(-1,-1,+1)],\n",
    "       [(-1,+1,+1),(-1,+1,-1)],\n",
    "       [(+1,-1,+1),(+1,-1,-1)],\n",
    "       [(+1,+1,-1),(+1,+1,+1)]]\n",
    "for row in xor:\n",
    "    display(Math(r''+\"{} < {}\".format(row[0],row[1]) + \"\\iff\" + spin_to_param(row[0],row[1])))"
   ]
  },
  {
   "cell_type": "code",
   "execution_count": 158,
   "id": "8acf0a79-25ec-4e1f-8690-e06a854336f5",
   "metadata": {},
   "outputs": [
    {
     "name": "stdout",
     "output_type": "stream",
     "text": [
      "(1, 1, 1, 1)\n"
     ]
    },
    {
     "data": {
      "text/latex": [
       "$\\displaystyle (1, 1, 1, 1): (1, 1, 1, 1) < (-1, -1, -1, -1)\\iff0 < -h_{5} -h_{6} -h_{7} -h_{8} -J_{1,5} -J_{1,6} -J_{1,7} -J_{1,8} -J_{2,5} -J_{2,6} -J_{2,7} -J_{2,8} -J_{3,5} -J_{3,6} -J_{3,7} -J_{3,8} -J_{4,5} -J_{4,6} -J_{4,7} -J_{4,8}$"
      ],
      "text/plain": [
       "<IPython.core.display.Math object>"
      ]
     },
     "metadata": {},
     "output_type": "display_data"
    },
    {
     "data": {
      "text/latex": [
       "$\\displaystyle (1, 1, 1, 1): (1, 1, 1, 1) < (-1, -1, -1, 1)\\iff0 < -h_{5} -h_{6} -h_{7} -J_{1,5} -J_{1,6} -J_{1,7} -J_{2,5} -J_{2,6} -J_{2,7} -J_{3,5} -J_{3,6} -J_{3,7} -J_{4,5} -J_{4,6} -J_{4,7} -J_{5,8} -J_{6,8} -J_{7,8}$"
      ],
      "text/plain": [
       "<IPython.core.display.Math object>"
      ]
     },
     "metadata": {},
     "output_type": "display_data"
    },
    {
     "data": {
      "text/latex": [
       "$\\displaystyle (1, 1, 1, 1): (1, 1, 1, 1) < (-1, -1, 1, -1)\\iff0 < -h_{5} -h_{6} -h_{8} -J_{1,5} -J_{1,6} -J_{1,8} -J_{2,5} -J_{2,6} -J_{2,8} -J_{3,5} -J_{3,6} -J_{3,8} -J_{4,5} -J_{4,6} -J_{4,8} -J_{5,7} -J_{6,7} -J_{7,8}$"
      ],
      "text/plain": [
       "<IPython.core.display.Math object>"
      ]
     },
     "metadata": {},
     "output_type": "display_data"
    },
    {
     "data": {
      "text/latex": [
       "$\\displaystyle (1, 1, 1, 1): (1, 1, 1, 1) < (-1, -1, 1, 1)\\iff0 < -h_{5} -h_{6} -J_{1,5} -J_{1,6} -J_{2,5} -J_{2,6} -J_{3,5} -J_{3,6} -J_{4,5} -J_{4,6} -J_{5,7} -J_{5,8} -J_{6,7} -J_{6,8}$"
      ],
      "text/plain": [
       "<IPython.core.display.Math object>"
      ]
     },
     "metadata": {},
     "output_type": "display_data"
    },
    {
     "data": {
      "text/latex": [
       "$\\displaystyle (1, 1, 1, 1): (1, 1, 1, 1) < (-1, 1, -1, -1)\\iff0 < -h_{5} -h_{7} -h_{8} -J_{1,5} -J_{1,7} -J_{1,8} -J_{2,5} -J_{2,7} -J_{2,8} -J_{3,5} -J_{3,7} -J_{3,8} -J_{4,5} -J_{4,7} -J_{4,8} -J_{5,6} -J_{6,7} -J_{6,8}$"
      ],
      "text/plain": [
       "<IPython.core.display.Math object>"
      ]
     },
     "metadata": {},
     "output_type": "display_data"
    },
    {
     "data": {
      "text/latex": [
       "$\\displaystyle (1, 1, 1, 1): (1, 1, 1, 1) < (-1, 1, -1, 1)\\iff0 < -h_{5} -h_{7} -J_{1,5} -J_{1,7} -J_{2,5} -J_{2,7} -J_{3,5} -J_{3,7} -J_{4,5} -J_{4,7} -J_{5,6} -J_{5,8} -J_{6,7} -J_{7,8}$"
      ],
      "text/plain": [
       "<IPython.core.display.Math object>"
      ]
     },
     "metadata": {},
     "output_type": "display_data"
    },
    {
     "data": {
      "text/latex": [
       "$\\displaystyle (1, 1, 1, 1): (1, 1, 1, 1) < (-1, 1, 1, -1)\\iff0 < -h_{5} -h_{8} -J_{1,5} -J_{1,8} -J_{2,5} -J_{2,8} -J_{3,5} -J_{3,8} -J_{4,5} -J_{4,8} -J_{5,6} -J_{5,7} -J_{6,8} -J_{7,8}$"
      ],
      "text/plain": [
       "<IPython.core.display.Math object>"
      ]
     },
     "metadata": {},
     "output_type": "display_data"
    },
    {
     "data": {
      "text/latex": [
       "$\\displaystyle (1, 1, 1, 1): (1, 1, 1, 1) < (-1, 1, 1, 1)\\iff0 < -h_{5} -J_{1,5} -J_{2,5} -J_{3,5} -J_{4,5} -J_{5,6} -J_{5,7} -J_{5,8}$"
      ],
      "text/plain": [
       "<IPython.core.display.Math object>"
      ]
     },
     "metadata": {},
     "output_type": "display_data"
    },
    {
     "data": {
      "text/latex": [
       "$\\displaystyle (1, 1, 1, 1): (1, 1, 1, 1) < (1, -1, -1, -1)\\iff0 < -h_{6} -h_{7} -h_{8} -J_{1,6} -J_{1,7} -J_{1,8} -J_{2,6} -J_{2,7} -J_{2,8} -J_{3,6} -J_{3,7} -J_{3,8} -J_{4,6} -J_{4,7} -J_{4,8} -J_{5,6} -J_{5,7} -J_{5,8}$"
      ],
      "text/plain": [
       "<IPython.core.display.Math object>"
      ]
     },
     "metadata": {},
     "output_type": "display_data"
    },
    {
     "data": {
      "text/latex": [
       "$\\displaystyle (1, 1, 1, 1): (1, 1, 1, 1) < (1, -1, -1, 1)\\iff0 < -h_{6} -h_{7} -J_{1,6} -J_{1,7} -J_{2,6} -J_{2,7} -J_{3,6} -J_{3,7} -J_{4,6} -J_{4,7} -J_{5,6} -J_{5,7} -J_{6,8} -J_{7,8}$"
      ],
      "text/plain": [
       "<IPython.core.display.Math object>"
      ]
     },
     "metadata": {},
     "output_type": "display_data"
    },
    {
     "data": {
      "text/latex": [
       "$\\displaystyle (1, 1, 1, 1): (1, 1, 1, 1) < (1, -1, 1, -1)\\iff0 < -h_{6} -h_{8} -J_{1,6} -J_{1,8} -J_{2,6} -J_{2,8} -J_{3,6} -J_{3,8} -J_{4,6} -J_{4,8} -J_{5,6} -J_{5,8} -J_{6,7} -J_{7,8}$"
      ],
      "text/plain": [
       "<IPython.core.display.Math object>"
      ]
     },
     "metadata": {},
     "output_type": "display_data"
    },
    {
     "data": {
      "text/latex": [
       "$\\displaystyle (1, 1, 1, 1): (1, 1, 1, 1) < (1, -1, 1, 1)\\iff0 < -h_{6} -J_{1,6} -J_{2,6} -J_{3,6} -J_{4,6} -J_{5,6} -J_{6,7} -J_{6,8}$"
      ],
      "text/plain": [
       "<IPython.core.display.Math object>"
      ]
     },
     "metadata": {},
     "output_type": "display_data"
    },
    {
     "data": {
      "text/latex": [
       "$\\displaystyle (1, 1, 1, 1): (1, 1, 1, 1) < (1, 1, -1, -1)\\iff0 < -h_{7} -h_{8} -J_{1,7} -J_{1,8} -J_{2,7} -J_{2,8} -J_{3,7} -J_{3,8} -J_{4,7} -J_{4,8} -J_{5,7} -J_{5,8} -J_{6,7} -J_{6,8}$"
      ],
      "text/plain": [
       "<IPython.core.display.Math object>"
      ]
     },
     "metadata": {},
     "output_type": "display_data"
    },
    {
     "data": {
      "text/latex": [
       "$\\displaystyle (1, 1, 1, 1): (1, 1, 1, 1) < (1, 1, -1, 1)\\iff0 < -h_{7} -J_{1,7} -J_{2,7} -J_{3,7} -J_{4,7} -J_{5,7} -J_{6,7} -J_{7,8}$"
      ],
      "text/plain": [
       "<IPython.core.display.Math object>"
      ]
     },
     "metadata": {},
     "output_type": "display_data"
    },
    {
     "data": {
      "text/latex": [
       "$\\displaystyle (1, 1, 1, 1): (1, 1, 1, 1) < (1, 1, 1, -1)\\iff0 < -h_{8} -J_{1,8} -J_{2,8} -J_{3,8} -J_{4,8} -J_{5,8} -J_{6,8} -J_{7,8}$"
      ],
      "text/plain": [
       "<IPython.core.display.Math object>"
      ]
     },
     "metadata": {},
     "output_type": "display_data"
    },
    {
     "data": {
      "text/latex": [
       "$\\displaystyle (1, 1, 1, 1): (1, 1, 1, 1) < (1, 1, 1, 1)\\iff0 < 0$"
      ],
      "text/plain": [
       "<IPython.core.display.Math object>"
      ]
     },
     "metadata": {},
     "output_type": "display_data"
    }
   ],
   "source": [
    "# Example computing system of input output pair\n",
    "n = 4\n",
    "m = 4\n",
    "S_n = list(itertools.product(*[(-1,1) for i in range(n)]))\n",
    "S_m = list(itertools.product(*[(-1,1) for i in range(m)]))\n",
    "s = (1,1,1,1)\n",
    "t = (1,1,1,1)\n",
    "print(s)\n",
    "for u in S_m:\n",
    "    display(Math(r''+\"{}: {} < {}\".format(s,t,u) + \"\\iff\" + spin_to_param(s+t,s+u)))"
   ]
  },
  {
   "cell_type": "markdown",
   "id": "e33c9d00-dae1-473b-a1ae-cdd0d67062ab",
   "metadata": {
    "jp-MarkdownHeadingCollapsed": true,
    "tags": []
   },
   "source": [
    "## Look for patterns in sign count"
   ]
  },
  {
   "cell_type": "code",
   "execution_count": 128,
   "id": "3b77f4b5-7778-4488-9f6f-b97e2fffe6fd",
   "metadata": {},
   "outputs": [
    {
     "name": "stdout",
     "output_type": "stream",
     "text": [
      "SET OF COUNTS\n",
      "-------------\n",
      "  n = 0:  {0}\n",
      "  n = 1:  {0, 1, -1}\n",
      "  n = 2:  {0, 2, -2}\n",
      "  n = 3:  {0, 1, 3, 4, -4, -3, -1}\n",
      "  n = 4:  {0, 2, 4, 6, -6, -4, -2}\n",
      "  n = 5:  {0, 1, 3, 4, 5, 8, 9, -9, -8, -5, -4, -3, -1}\n",
      "  n = 6:  {0, 2, 4, 6, 10, 12, -12, -10, -6, -4, -2}\n",
      "  n = 7:  {0, 1, 3, 4, 5, 7, 8, 9, 12, 15, 16, -16, -15, -12, -9, -8, -7, -5, -4, -3, -1}\n",
      "  n = 8:  {0, 2, 4, 6, 8, 10, 12, 14, 18, 20, -20, -18, -14, -12, -10, -8, -6, -4, -2}\n",
      "  n = 9:  {0, 1, 3, 4, 5, 7, 8, 9, 12, 15, 16, 21, 24, 25, -25, -24, -21, -16, -15, -12, -9, -8, -7, -5, -4, -3, -1}\n",
      "  n = 10:  {0, 2, 4, 6, 8, 10, 12, 14, 18, 20, 24, 28, 30, -30, -28, -24, -20, -18, -14, -12, -10, -8, -6, -4, -2}\n"
     ]
    }
   ],
   "source": [
    "N = 10\n",
    "SIGN_COUNTS = []\n",
    "for n in range(N+1):\n",
    "    S_n = list(itertools.product(*[(-1,1) for i in range(n)]))\n",
    "    SIGN_COUNTS.append([])\n",
    "    for s in S_n:\n",
    "        for t in S_n:\n",
    "            exp, d = spin_to_param(s,t,extra=True)\n",
    "            SIGN_COUNTS[n].append(d['sign_count'])\n",
    "\n",
    "print(\"SET OF COUNTS\")\n",
    "print(\"-------------\")\n",
    "for n in range(len(SIGN_COUNTS)):\n",
    "    print(\"  n = {}: \".format(n), set(SIGN_COUNTS[n]))"
   ]
  },
  {
   "cell_type": "code",
   "execution_count": 135,
   "id": "6d9a7a4d-beb8-4bbe-b7a8-66255c2e9498",
   "metadata": {},
   "outputs": [
    {
     "name": "stdout",
     "output_type": "stream",
     "text": [
      "Missing Sign Counts\n",
      "-------------------\n",
      "  n = 0: max = 0, missing  []\n",
      "  n = 1: max = 1, missing  []\n",
      "  n = 2: max = 2, missing  [-1, 1]\n",
      "  n = 3: max = 4, missing  [-2, 2]\n",
      "  n = 4: max = 6, missing  [-5, -3, -1, 1, 3, 5]\n",
      "  n = 5: max = 9, missing  [-7, -6, -2, 2, 6, 7]\n",
      "  n = 6: max = 12, missing  [-11, -9, -8, -7, -5, -3, -1, 1, 3, 5, 7, 8, 9, 11]\n",
      "  n = 7: max = 16, missing  [-14, -13, -11, -10, -6, -2, 2, 6, 10, 11, 13, 14]\n",
      "  n = 8: max = 20, missing  [-19, -17, -16, -15, -13, -11, -9, -7, -5, -3, -1, 1, 3, 5, 7, 9, 11, 13, 15, 16, 17, 19]\n",
      "  n = 9: max = 25, missing  [-23, -22, -20, -19, -18, -17, -14, -13, -11, -10, -6, -2, 2, 6, 10, 11, 13, 14, 17, 18, 19, 20, 22, 23]\n",
      "  n = 10: max = 30, missing  [-29, -27, -26, -25, -23, -22, -21, -19, -17, -16, -15, -13, -11, -9, -7, -5, -3, -1, 1, 3, 5, 7, 9, 11, 13, 15, 16, 17, 19, 21, 22, 23, 25, 26, 27, 29]\n",
      "OCCURANCES OF NUMBERS\n",
      "---------------------\n",
      "  n = 0 [[0]\n",
      "         [1]]\n",
      "  n = 1 [[ 0  1 -1]\n",
      "         [ 2  1  1]]\n",
      "  n = 2 [[ 0  2 -2]\n",
      "         [10  3  3]]\n",
      "  n = 3 [[ 0 -1  3  1  4 -3 -4]\n",
      "         [26 12  4 12  3  4  3]]\n",
      "  n = 4 [[  0  -2   4   2   6  -4  -6]\n",
      "         [126  50   5  50  10   5  10]]\n",
      "  n = 5 [[  0  -3  -4   5   3  -1   8   4   1   9  -5  -8  -9]\n",
      "         [362  90  60   6  90 150  15  60 150  10   6  15  10]]\n",
      "  n = 6 [[   0   -4   -6    6    4   -2   10    2   12  -10  -12]\n",
      "         [1716  147  252  252  147  735   21  735   35   21   35]]\n",
      "  n = 7 [[   0   -5   -8   -9    7    5   -3   -4   12    8    3   -1\n",
      "            15    9    4    1   16   -7  -12  -15  -16]\n",
      "         [5210  224  448  280    8  224 1568  980   28  448 1568 1960\n",
      "            56  280  980 1960   35    8   28   56   35]]\n",
      "  n = 8 [[    0    -6   -10   -12     8     6    -4    14    10     4\n",
      "             -2    18    12     2    20    -8   -14   -18   -20]\n",
      "         [24310  4860   756  1134     9  4860  3024    36   756  3024\n",
      "          10584    84  1134 10584   126     9    36    84   126]]\n",
      "  n = 9 [[    0    -7   -12   -15   -16     9     7    -5    -8    -9\n",
      "             16    12     5    -3    -4    21    15     8     3    -1\n",
      "             24     4     1    25   -21   -24   -25]\n",
      "         [76502   450  1200  2100  1305  5680   450  5400  9450  5680\n",
      "           1305  1200  5400 25200 15120   120  2100  9450 25200 26460\n",
      "            210 15120 26460   126   120   210   126]]\n",
      "  n = 10 [[     0     -8    -14    -18    -20     10      8     -6    -10\n",
      "              -12     18     14      6     -4     24      4     -2     28\n",
      "               20     12      2     30    -24    -28    -30]\n",
      "          [352716    605   1815   3685   5082  18161    605  85305  18161\n",
      "            25410   3685   1815  85305  54450    165  54450 152460    330\n",
      "             5082  25410 152460    462    165    330    462]]\n"
     ]
    }
   ],
   "source": [
    "from collections import Counter\n",
    "\n",
    "occurances = []\n",
    "maxes = []\n",
    "missing_sign_counts = []\n",
    "for n in range(len(SIGN_COUNTS)):\n",
    "    missing_sign_counts.append([])\n",
    "    maxes.append(max(SIGN_COUNTS[n]))\n",
    "    occurances.append(Counter(SIGN_COUNTS[n]))\n",
    "    for i in range(-maxes[n],maxes[n]):\n",
    "        if (i in SIGN_COUNTS[n]) == False:\n",
    "            missing_sign_counts[n].append(i)\n",
    "\n",
    "print(\"Missing Sign Counts\")\n",
    "print(\"-------------------\")\n",
    "for n in range(len(missing_sign_counts)):\n",
    "    print(\"  n = {}:\".format(n), \"max = {}, missing \".format(maxes[n]), missing_sign_counts[n])\n",
    "\n",
    "\n",
    "print(\"OCCURANCES OF NUMBERS\")\n",
    "print(\"---------------------\")\n",
    "for n in range(len(occurances)):\n",
    "    pair = np.array([list(occurances[n].keys()), list(occurances[n].values())])\n",
    "    print(\"  n = {}\".format(n),np.array2string(pair,prefix = \"  n = {}:\".format(n)))"
   ]
  },
  {
   "cell_type": "markdown",
   "id": "0792ec0e-58a9-42db-8a83-042ec82b3009",
   "metadata": {},
   "source": [
    "## Swapping s < t for t < s by adding an auxiliary spin"
   ]
  },
  {
   "cell_type": "code",
   "execution_count": 168,
   "id": "da9f5d34-d640-4958-988f-61b2cc8c7106",
   "metadata": {},
   "outputs": [
    {
     "name": "stdout",
     "output_type": "stream",
     "text": [
      "Original inequality: 0 < +h_{2} +J_{1,2}\n",
      "   0 < +h_{2} +J_{1,2} -J_{2,3}\n",
      "   0 < +h_{2} +h_{3} +J_{1,2} +J_{1,3}\n",
      "   0 < +h_{2} +J_{1,2} +J_{2,3}\n",
      "   0 < +h_{2} -h_{3} +J_{1,2} -J_{1,3}\n"
     ]
    }
   ],
   "source": [
    "s = (1,-1)\n",
    "t = (1,1)\n",
    "print(\"Original inequality:\",spin_to_param(s,t))\n",
    "print(spin_to_param((1,-1,1),(1,-1,-1)))\n",
    "print(spin_to_param((1,-1,1),(1, 1,-1)))\n",
    "print(spin_to_param((1,-1,1),(1, 1, 1)))"
   ]
  },
  {
   "cell_type": "code",
   "execution_count": null,
   "id": "713bc502-137c-4d19-b448-5201a4e48bf2",
   "metadata": {},
   "outputs": [],
   "source": []
  }
 ],
 "metadata": {
  "kernelspec": {
   "display_name": "Python 3 (ipykernel)",
   "language": "python",
   "name": "python3"
  },
  "language_info": {
   "codemirror_mode": {
    "name": "ipython",
    "version": 3
   },
   "file_extension": ".py",
   "mimetype": "text/x-python",
   "name": "python",
   "nbconvert_exporter": "python",
   "pygments_lexer": "ipython3",
   "version": "3.10.4"
  }
 },
 "nbformat": 4,
 "nbformat_minor": 5
}
