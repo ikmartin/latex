{
 "cells": [
  {
   "cell_type": "markdown",
   "id": "2968f8b4-143d-4ba9-826b-e553174e84ce",
   "metadata": {},
   "source": [
    "# Optimization Notebook"
   ]
  },
  {
   "cell_type": "code",
   "execution_count": 131,
   "id": "7f2f496b-f164-447e-ba9b-929f7eeb1d01",
   "metadata": {},
   "outputs": [],
   "source": [
    "# modules\n",
    "import numpy as np\n",
    "import scipy.io as io\n",
    "import scipy.linalg as la\n",
    "import scipy.sparse.linalg as sla"
   ]
  },
  {
   "cell_type": "code",
   "execution_count": 137,
   "id": "cbf98181-044c-41db-ac17-b1e31e3c3641",
   "metadata": {},
   "outputs": [],
   "source": [
    "def newton(f,Df,x0,epsilon,max_iter=1000):\n",
    "    '''Approximate solution of f(x)=0 by Newton's method.\n",
    "\n",
    "    Parameters\n",
    "    ----------\n",
    "    f : function\n",
    "        Function for which we are searching for a solution f(x)=0.\n",
    "    Df : function\n",
    "        Derivative of f(x).\n",
    "    x0 : number\n",
    "        Initial guess for a solution f(x)=0.\n",
    "    epsilon : number\n",
    "        Stopping criteria is abs(f(x)) < epsilon.\n",
    "    max_iter : integer\n",
    "        Maximum number of iterations of Newton's method.\n",
    "\n",
    "    Returns\n",
    "    -------\n",
    "    xn : number\n",
    "        Implement Newton's method: compute the linear approximation\n",
    "        of f(x) at xn and find x intercept by the formula\n",
    "            x = xn - f(xn)/Df(xn)\n",
    "        Continue until abs(f(xn)) < epsilon and return xn.\n",
    "        If Df(xn) == 0, return None. If the number of iterations\n",
    "        exceeds max_iter, then return None.\n",
    "\n",
    "    Examples\n",
    "    --------\n",
    "    >>> f = lambda x: x**2 - x - 1\n",
    "    >>> Df = lambda x: 2*x - 1\n",
    "    >>> newton(f,Df,1,1e-8,10)\n",
    "    Found solution after 5 iterations.\n",
    "    1.618033988749989\n",
    "    '''\n",
    "    xn = x0\n",
    "    for n in range(0,max_iter):\n",
    "        fxn = f(xn)\n",
    "        if abs(fxn) < epsilon:\n",
    "            print('Found solution after',n,'iterations.')\n",
    "            return xn\n",
    "        Dfxn = Df(xn)\n",
    "        if Dfxn == 0:\n",
    "            print('Zero derivative. No solution found.')\n",
    "            return None\n",
    "        xn = xn - fxn/Dfxn\n",
    "    print('Exceeded maximum iterations. No solution found.')\n",
    "    return None\n",
    "\n",
    "def newton_mat(f,Df,DDf,x0,epsilon,max_iter=1000,lam=1):\n",
    "    '''Approximate solution of f(x)=0 by Newton's method.\n",
    "\n",
    "    Parameters\n",
    "    ----------\n",
    "    f : function\n",
    "        Function for which we are searching for a solution f(x)=0.\n",
    "    Df : function\n",
    "        Derivative (gradient) of f(x).\n",
    "    Df : function\n",
    "        Second derivative (Hessian) of f(x).\n",
    "    x0 : number\n",
    "        Initial guess for a solution f(x)=0.\n",
    "    epsilon : number\n",
    "        Stopping criteria is abs(f(x)) < epsilon.\n",
    "    max_iter : integer\n",
    "        Maximum number of iterations of Newton's method.\n",
    "    lam : integer\n",
    "        An extra parameter lambda which scales the correction term\n",
    "\n",
    "    Returns\n",
    "    -------\n",
    "    xn : number\n",
    "        Implement Newton's method: compute the linear approximation\n",
    "        of f(x) at xn and find x intercept by the formula\n",
    "            x = xn - Df(xn)/DDf(xn)\n",
    "        Continue until abs(f(xn)) < epsilon and return xn.\n",
    "        If Df(xn) == 0, return None. If the number of iterations\n",
    "        exceeds max_iter, then return None.\n",
    "    -------\n",
    "    '''\n",
    "    \n",
    "    xn = x0\n",
    "    for n in range(0,max_iter):\n",
    "        fxn = f(xn)\n",
    "        if abs(fxn) < epsilon:\n",
    "            print('Found solution after',n,'iterations.')\n",
    "            return xn\n",
    "        Dfxn = Df(xn)\n",
    "        DDfxn = DDf(xn)\n",
    "        try:\n",
    "            xn = xn - lam*np.dot(la.inv(DDfxn),np.transpose(Df(xn)))\n",
    "        except np.linalg.linalg.LinAlgError as err:\n",
    "            print(\"Hessian not invertible!\")\n",
    "            return err\n",
    "    print('Exceeded maximum iterations. No solution found.')\n",
    "    return None"
   ]
  },
  {
   "cell_type": "code",
   "execution_count": 138,
   "id": "8e34f8ed-a6a2-40a2-acb2-b838ee41def7",
   "metadata": {},
   "outputs": [],
   "source": [
    "def v(x: np.ndarray,A: np.ndarray):\n",
    "    return np.ones(np.shape(A)[0]) - np.dot(A,x) \n",
    "\n",
    "def Phi(x: np.ndarray,A: np.ndarray):\n",
    "    u = v(x,A)\n",
    "    return np.dot(u,u)\n",
    "\n",
    "def DPhi(x: np.ndarray,A: np.ndarray):\n",
    "    ones = np.ones(np.shape(A)[0])\n",
    "    print(ones)\n",
    "    return  -2*np.dot(ones,A) + 2*np.dot(np.transpose(A),np.dot(A,x))\n",
    "\n",
    "def DDPhi(x: np.ndarray, A: np.ndarray):\n",
    "    return 2*np.dot(np.transpose(A),A)"
   ]
  },
  {
   "cell_type": "code",
   "execution_count": 139,
   "id": "bbf3e25b-db61-407a-adae-7514c1e543fc",
   "metadata": {},
   "outputs": [
    {
     "name": "stdout",
     "output_type": "stream",
     "text": [
      "(3,)\n",
      "[ 1. 12.]\n",
      "[1. 1.]\n",
      "[150. 192. 266.]\n",
      "[[18 24 30]\n",
      " [24 34 36]\n",
      " [30 36 58]]\n"
     ]
    },
    {
     "data": {
      "text/plain": [
       "array([[-4.06574966e+14,  1.87649984e+14,  9.38249922e+13],\n",
       "       [ 1.87649984e+14, -8.66076851e+13, -4.33038426e+13],\n",
       "       [ 9.38249922e+13, -4.33038426e+13, -2.16519213e+13]])"
      ]
     },
     "execution_count": 139,
     "metadata": {},
     "output_type": "execute_result"
    }
   ],
   "source": [
    "A = np.array([[0,-1,2],\n",
    "              [3,4,5]])\n",
    "x = np.array([-2,3,4])\n",
    "print(np.shape(x))\n",
    "print(np.dot(A,np.ones(np.shape(A)[1])))\n",
    "print(DPhi(x,A))\n",
    "print(DDPhi(x,A))\n",
    "la.inv(DDPhi(x,A))"
   ]
  },
  {
   "cell_type": "markdown",
   "id": "8af6aa64-638b-4f87-bc72-0204a48dc6ae",
   "metadata": {},
   "source": [
    "## Implement Newton Iteration for Matrices"
   ]
  },
  {
   "cell_type": "code",
   "execution_count": 150,
   "id": "15c6d8ea-e2a2-47fc-a35f-c4237928ac3e",
   "metadata": {},
   "outputs": [
    {
     "name": "stdout",
     "output_type": "stream",
     "text": [
      "(480,) (480, 35)\n",
      "[[ 0.  0.  0. ... -1.  0.  0.]\n",
      " [ 0.  0.  0. ... -1.  0.  0.]\n",
      " [ 0.  0.  1. ... -1.  0.  0.]\n",
      " ...\n",
      " [ 0.  1.  1. ...  0.  0.  0.]\n",
      " [ 0.  1.  1. ...  1.  0.  0.]\n",
      " [ 0.  1.  1. ...  1.  0.  0.]]\n",
      "[[256.  64.  16. ... -48.   0.   0.]\n",
      " [ 64. 256.  48. ... -48.   0.   0.]\n",
      " [ 16.  48. 256. ... -64.   0.   0.]\n",
      " ...\n",
      " [-48. -48. -64. ... 256.   0.   0.]\n",
      " [  0.   0.   0. ...   0.   0.   0.]\n",
      " [  0.   0.   0. ...   0.   0.   0.]]\n",
      "Hessian not invertible!\n"
     ]
    },
    {
     "data": {
      "text/plain": [
       "numpy.linalg.LinAlgError('singular matrix')"
      ]
     },
     "execution_count": 150,
     "metadata": {},
     "output_type": "execute_result"
    }
   ],
   "source": [
    "A = io.mmread(\"/home/isaacmartin/Desktop/constrained-nonlinear-optimization/data/matrices/MUL_2x2x1/Cmat.mm\").toarray()\n",
    "x = np.ones(A.shape[1])\n",
    "\n",
    "def v(x: np.ndarray):\n",
    "    return np.ones(np.shape(A)[0]) - np.dot(A,x) \n",
    "\n",
    "def Phi(x: np.ndarray):\n",
    "    u = np.ones(np.shape(A)[0]) - A.dot(x)\n",
    "    return np.dot(u,u)\n",
    "\n",
    "def DPhi(x: np.ndarray):\n",
    "    ones = np.ones(np.shape(A)[0])\n",
    "    print(ones.shape, A.shape)\n",
    "    return  -2*ones.dot(A) + 2*np.transpose(A).dot(A.dot(x))\n",
    "\n",
    "def DDPhi(x: np.ndarray):\n",
    "    print(A)\n",
    "    print(np.dot(np.transpose(A),A))\n",
    "    return 2*np.transpose(A).dot(A)\n",
    "\n",
    "newton_mat(f = Phi, Df = DPhi, DDf = DDPhi, x0 = x, epsilon = 0.1)"
   ]
  },
  {
   "cell_type": "code",
   "execution_count": null,
   "id": "dfedfdee-8adf-4a8d-9266-ceee1be4b466",
   "metadata": {},
   "outputs": [],
   "source": []
  }
 ],
 "metadata": {
  "kernelspec": {
   "display_name": "Python 3 (ipykernel)",
   "language": "python",
   "name": "python3"
  },
  "language_info": {
   "codemirror_mode": {
    "name": "ipython",
    "version": 3
   },
   "file_extension": ".py",
   "mimetype": "text/x-python",
   "name": "python",
   "nbconvert_exporter": "python",
   "pygments_lexer": "ipython3",
   "version": "3.10.4"
  }
 },
 "nbformat": 4,
 "nbformat_minor": 5
}
