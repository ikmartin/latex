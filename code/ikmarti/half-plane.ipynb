{
 "cells": [
  {
   "cell_type": "markdown",
   "id": "d9d3cf8f-c371-4eb2-83ab-30cd673dac78",
   "metadata": {
    "tags": []
   },
   "source": [
    "# Intersection of Half-Planes"
   ]
  },
  {
   "cell_type": "code",
   "execution_count": 2,
   "id": "a284eb25-fd2f-4cb4-a381-c06218aff055",
   "metadata": {},
   "outputs": [],
   "source": [
    "# modules\n",
    "import numpy as np\n",
    "from scipy.spatial import HalfspaceIntersection\n",
    "import itertools # for Cartesian product\n",
    "from tabulate import tabulate # print(tabulate(data, headers=[\"Thing1\", \"Thing2\", \"Thing3\"]))\n",
    "\n",
    "# display stuff\n",
    "# Jupyter specific things\n",
    "from IPython.display import display,Math"
   ]
  },
  {
   "cell_type": "code",
   "execution_count": 3,
   "id": "d462c1c3-bd38-4b0a-97b1-ca85f098a28c",
   "metadata": {},
   "outputs": [],
   "source": [
    "from scipy.spatial import HalfspaceIntersection\n",
    "\n",
    "halfspaces = np.array([[-1, 0., 0.],\n",
    "\n",
    "                       [0., -1., 0.],\n",
    "\n",
    "                       [2., 1., -4.],\n",
    "\n",
    "                       [-0.5, 1., -2.]])\n",
    "\n",
    "feasible_point = np.array([0.5, 0.5])\n",
    "\n",
    "hs = HalfspaceIntersection(halfspaces, feasible_point)"
   ]
  },
  {
   "cell_type": "code",
   "execution_count": 11,
   "id": "029a5fca-f78e-439f-b85d-2098f28fd1d1",
   "metadata": {},
   "outputs": [
    {
     "data": {
      "text/plain": [
       "array([[0. , 0. ],\n",
       "       [2. , 0. ],\n",
       "       [0. , 2. ],\n",
       "       [0.8, 2.4]])"
      ]
     },
     "execution_count": 11,
     "metadata": {},
     "output_type": "execute_result"
    },
    {
     "data": {
      "text/plain": [
       "<Figure size 432x288 with 0 Axes>"
      ]
     },
     "metadata": {},
     "output_type": "display_data"
    }
   ],
   "source": [
    "import matplotlib.pyplot as plt\n",
    "fig = plt.figure()\n",
    "ax = fig.add_subplot(1, 1, 1, aspect='equal')\n",
    "x, y = zip(*hs.intersections)\n",
    "#ax.plot(x, y, 'o', markersize=8)\n",
    "hs.intersections"
   ]
  },
  {
   "cell_type": "code",
   "execution_count": null,
   "id": "0e61072f-0cdb-4c97-8a80-952f3099f83e",
   "metadata": {},
   "outputs": [],
   "source": []
  }
 ],
 "metadata": {
  "kernelspec": {
   "display_name": "Python 3 (ipykernel)",
   "language": "python",
   "name": "python3"
  },
  "language_info": {
   "codemirror_mode": {
    "name": "ipython",
    "version": 3
   },
   "file_extension": ".py",
   "mimetype": "text/x-python",
   "name": "python",
   "nbconvert_exporter": "python",
   "pygments_lexer": "ipython3",
   "version": "3.10.4"
  }
 },
 "nbformat": 4,
 "nbformat_minor": 5
}
